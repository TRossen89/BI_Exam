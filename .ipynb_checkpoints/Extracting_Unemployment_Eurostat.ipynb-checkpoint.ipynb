{
 "cells": [
  {
   "cell_type": "markdown",
   "id": "5e0af7c5-a461-4ae9-8104-997af8c960c9",
   "metadata": {},
   "source": [
    "# Data about unemployment (as % of labour force)"
   ]
  },
  {
   "cell_type": "markdown",
   "id": "d8258e20-0bb3-4fe5-9bbf-0e5c21c307a4",
   "metadata": {},
   "source": [
    "# Link"
   ]
  },
  {
   "cell_type": "markdown",
   "id": "8122daed-9d3a-4bee-8c5c-d4668d25a3c3",
   "metadata": {},
   "source": [
    "https://ec.europa.eu/eurostat/databrowser/view/tps00203/default/table?lang=en&category=t_labour.t_employ.t_lfsi.t_une"
   ]
  },
  {
   "cell_type": "markdown",
   "id": "1ab04e75-3210-46d4-bf6f-c90d6cb5cf5b",
   "metadata": {},
   "source": [
    "# Imports"
   ]
  },
  {
   "cell_type": "code",
   "execution_count": 5,
   "id": "8c90c4d7-9903-4032-a80a-5b8d4eb70c02",
   "metadata": {},
   "outputs": [],
   "source": [
    "import pandas as pd\n",
    "import numpy as np\n",
    "import pycountry"
   ]
  },
  {
   "cell_type": "markdown",
   "id": "47e16651-bbdb-4b3b-8d05-41df9686cb27",
   "metadata": {},
   "source": [
    "# 1) Extracting data from tsv file"
   ]
  },
  {
   "cell_type": "code",
   "execution_count": 7,
   "id": "ce025a28-0833-4266-a64d-33789bd6f682",
   "metadata": {},
   "outputs": [],
   "source": [
    "df = pd.read_csv(\"All_data_files/unemployment_eurostat.tsv\", sep=r\"[\\t,\\\\]\", engine = \"python\")"
   ]
  },
  {
   "cell_type": "markdown",
   "id": "1f0c7676-fe59-4b6f-a146-0333984b6f02",
   "metadata": {},
   "source": [
    "# 2) Initial exploration of data (for cleaning and transformation)"
   ]
  },
  {
   "cell_type": "code",
   "execution_count": 9,
   "id": "8dd9b88c-933a-4b01-8a8f-70a06c276dd5",
   "metadata": {},
   "outputs": [
    {
     "data": {
      "text/html": [
       "<div>\n",
       "<style scoped>\n",
       "    .dataframe tbody tr th:only-of-type {\n",
       "        vertical-align: middle;\n",
       "    }\n",
       "\n",
       "    .dataframe tbody tr th {\n",
       "        vertical-align: top;\n",
       "    }\n",
       "\n",
       "    .dataframe thead th {\n",
       "        text-align: right;\n",
       "    }\n",
       "</style>\n",
       "<table border=\"1\" class=\"dataframe\">\n",
       "  <thead>\n",
       "    <tr style=\"text-align: right;\">\n",
       "      <th></th>\n",
       "      <th>freq</th>\n",
       "      <th>age</th>\n",
       "      <th>unit</th>\n",
       "      <th>sex</th>\n",
       "      <th>geo</th>\n",
       "      <th>TIME_PERIOD</th>\n",
       "      <th>2012</th>\n",
       "      <th>2013</th>\n",
       "      <th>2014</th>\n",
       "      <th>2015</th>\n",
       "      <th>2016</th>\n",
       "      <th>2017</th>\n",
       "      <th>2018</th>\n",
       "      <th>2019</th>\n",
       "      <th>2020</th>\n",
       "      <th>2021</th>\n",
       "      <th>2022</th>\n",
       "      <th>2023</th>\n",
       "    </tr>\n",
       "  </thead>\n",
       "  <tbody>\n",
       "    <tr>\n",
       "      <th>0</th>\n",
       "      <td>A</td>\n",
       "      <td>Y15-74</td>\n",
       "      <td>PC_ACT</td>\n",
       "      <td>T</td>\n",
       "      <td>AT</td>\n",
       "      <td>5.2</td>\n",
       "      <td>5.7</td>\n",
       "      <td>6.0</td>\n",
       "      <td>6.1</td>\n",
       "      <td>6.5</td>\n",
       "      <td>5.9</td>\n",
       "      <td>5.2</td>\n",
       "      <td>4.8</td>\n",
       "      <td>6.0</td>\n",
       "      <td>6.2</td>\n",
       "      <td>4.8</td>\n",
       "      <td>5.1</td>\n",
       "      <td>NaN</td>\n",
       "    </tr>\n",
       "    <tr>\n",
       "      <th>1</th>\n",
       "      <td>A</td>\n",
       "      <td>Y15-74</td>\n",
       "      <td>PC_ACT</td>\n",
       "      <td>T</td>\n",
       "      <td>BA</td>\n",
       "      <td>:</td>\n",
       "      <td>:</td>\n",
       "      <td>:</td>\n",
       "      <td>:</td>\n",
       "      <td>:</td>\n",
       "      <td>:</td>\n",
       "      <td>:</td>\n",
       "      <td>:</td>\n",
       "      <td>:</td>\n",
       "      <td>17.4</td>\n",
       "      <td>15.4</td>\n",
       "      <td>13.2</td>\n",
       "      <td>NaN</td>\n",
       "    </tr>\n",
       "    <tr>\n",
       "      <th>2</th>\n",
       "      <td>A</td>\n",
       "      <td>Y15-74</td>\n",
       "      <td>PC_ACT</td>\n",
       "      <td>T</td>\n",
       "      <td>BE</td>\n",
       "      <td>7.6</td>\n",
       "      <td>8.6</td>\n",
       "      <td>8.7</td>\n",
       "      <td>8.7</td>\n",
       "      <td>7.9</td>\n",
       "      <td>7.2 b</td>\n",
       "      <td>6.0</td>\n",
       "      <td>5.5</td>\n",
       "      <td>5.8</td>\n",
       "      <td>6.3</td>\n",
       "      <td>5.6</td>\n",
       "      <td>5.5</td>\n",
       "      <td>NaN</td>\n",
       "    </tr>\n",
       "    <tr>\n",
       "      <th>3</th>\n",
       "      <td>A</td>\n",
       "      <td>Y15-74</td>\n",
       "      <td>PC_ACT</td>\n",
       "      <td>T</td>\n",
       "      <td>BG</td>\n",
       "      <td>13.3</td>\n",
       "      <td>13.9</td>\n",
       "      <td>12.4</td>\n",
       "      <td>10.1</td>\n",
       "      <td>8.6</td>\n",
       "      <td>7.2</td>\n",
       "      <td>6.2</td>\n",
       "      <td>5.2 b</td>\n",
       "      <td>6.1</td>\n",
       "      <td>5.2</td>\n",
       "      <td>4.2</td>\n",
       "      <td>4.3</td>\n",
       "      <td>NaN</td>\n",
       "    </tr>\n",
       "    <tr>\n",
       "      <th>4</th>\n",
       "      <td>A</td>\n",
       "      <td>Y15-74</td>\n",
       "      <td>PC_ACT</td>\n",
       "      <td>T</td>\n",
       "      <td>CH</td>\n",
       "      <td>4.5</td>\n",
       "      <td>4.8</td>\n",
       "      <td>4.9</td>\n",
       "      <td>4.8</td>\n",
       "      <td>5.0</td>\n",
       "      <td>4.8</td>\n",
       "      <td>4.7</td>\n",
       "      <td>4.4</td>\n",
       "      <td>4.8</td>\n",
       "      <td>5.1</td>\n",
       "      <td>4.1</td>\n",
       "      <td>4.1</td>\n",
       "      <td>NaN</td>\n",
       "    </tr>\n",
       "  </tbody>\n",
       "</table>\n",
       "</div>"
      ],
      "text/plain": [
       "  freq     age    unit sex geo TIME_PERIOD  2012   2013   2014  2015   2016   \\\n",
       "0    A  Y15-74  PC_ACT   T  AT        5.2    5.7    6.0    6.1   6.5    5.9    \n",
       "1    A  Y15-74  PC_ACT   T  BA          :      :      :      :     :      :    \n",
       "2    A  Y15-74  PC_ACT   T  BE        7.6    8.6    8.7    8.7   7.9   7.2 b   \n",
       "3    A  Y15-74  PC_ACT   T  BG       13.3   13.9   12.4   10.1   8.6    7.2    \n",
       "4    A  Y15-74  PC_ACT   T  CH        4.5    4.8    4.9    4.8   5.0    4.8    \n",
       "\n",
       "  2017   2018  2019   2020   2021  2022   2023  \n",
       "0  5.2    4.8   6.0    6.2    4.8    5.1   NaN  \n",
       "1    :      :     :   17.4   15.4   13.2   NaN  \n",
       "2  6.0    5.5   5.8    6.3    5.6    5.5   NaN  \n",
       "3  6.2   5.2 b  6.1    5.2    4.2    4.3   NaN  \n",
       "4  4.7    4.4   4.8    5.1    4.1    4.1   NaN  "
      ]
     },
     "execution_count": 9,
     "metadata": {},
     "output_type": "execute_result"
    }
   ],
   "source": [
    "df.head()"
   ]
  },
  {
   "cell_type": "code",
   "execution_count": null,
   "id": "cface0d5-b982-471f-b161-037ead6acbc8",
   "metadata": {},
   "outputs": [],
   "source": []
  },
  {
   "cell_type": "code",
   "execution_count": 10,
   "id": "e62d7f7d-3072-492c-af50-e5ee0b9a1958",
   "metadata": {},
   "outputs": [
    {
     "data": {
      "text/html": [
       "<div>\n",
       "<style scoped>\n",
       "    .dataframe tbody tr th:only-of-type {\n",
       "        vertical-align: middle;\n",
       "    }\n",
       "\n",
       "    .dataframe tbody tr th {\n",
       "        vertical-align: top;\n",
       "    }\n",
       "\n",
       "    .dataframe thead th {\n",
       "        text-align: right;\n",
       "    }\n",
       "</style>\n",
       "<table border=\"1\" class=\"dataframe\">\n",
       "  <thead>\n",
       "    <tr style=\"text-align: right;\">\n",
       "      <th></th>\n",
       "      <th>2023</th>\n",
       "    </tr>\n",
       "  </thead>\n",
       "  <tbody>\n",
       "    <tr>\n",
       "      <th>count</th>\n",
       "      <td>0.0</td>\n",
       "    </tr>\n",
       "    <tr>\n",
       "      <th>mean</th>\n",
       "      <td>NaN</td>\n",
       "    </tr>\n",
       "    <tr>\n",
       "      <th>std</th>\n",
       "      <td>NaN</td>\n",
       "    </tr>\n",
       "    <tr>\n",
       "      <th>min</th>\n",
       "      <td>NaN</td>\n",
       "    </tr>\n",
       "    <tr>\n",
       "      <th>25%</th>\n",
       "      <td>NaN</td>\n",
       "    </tr>\n",
       "    <tr>\n",
       "      <th>50%</th>\n",
       "      <td>NaN</td>\n",
       "    </tr>\n",
       "    <tr>\n",
       "      <th>75%</th>\n",
       "      <td>NaN</td>\n",
       "    </tr>\n",
       "    <tr>\n",
       "      <th>max</th>\n",
       "      <td>NaN</td>\n",
       "    </tr>\n",
       "  </tbody>\n",
       "</table>\n",
       "</div>"
      ],
      "text/plain": [
       "       2023\n",
       "count   0.0\n",
       "mean    NaN\n",
       "std     NaN\n",
       "min     NaN\n",
       "25%     NaN\n",
       "50%     NaN\n",
       "75%     NaN\n",
       "max     NaN"
      ]
     },
     "execution_count": 10,
     "metadata": {},
     "output_type": "execute_result"
    }
   ],
   "source": [
    "df.describe()"
   ]
  },
  {
   "cell_type": "code",
   "execution_count": 11,
   "id": "6ddf99b1-d26e-4e31-8870-9906f705c8fd",
   "metadata": {},
   "outputs": [
    {
     "name": "stdout",
     "output_type": "stream",
     "text": [
      "<class 'pandas.core.frame.DataFrame'>\n",
      "RangeIndex: 111 entries, 0 to 110\n",
      "Data columns (total 18 columns):\n",
      " #   Column       Non-Null Count  Dtype  \n",
      "---  ------       --------------  -----  \n",
      " 0   freq         111 non-null    object \n",
      " 1   age          111 non-null    object \n",
      " 2   unit         111 non-null    object \n",
      " 3   sex          111 non-null    object \n",
      " 4   geo          111 non-null    object \n",
      " 5   TIME_PERIOD  111 non-null    object \n",
      " 6   2012         111 non-null    object \n",
      " 7   2013         111 non-null    object \n",
      " 8   2014         111 non-null    object \n",
      " 9   2015         111 non-null    object \n",
      " 10  2016         111 non-null    object \n",
      " 11  2017         111 non-null    object \n",
      " 12  2018         111 non-null    object \n",
      " 13  2019         111 non-null    object \n",
      " 14  2020         111 non-null    object \n",
      " 15  2021         111 non-null    object \n",
      " 16  2022         111 non-null    object \n",
      " 17  2023         0 non-null      float64\n",
      "dtypes: float64(1), object(17)\n",
      "memory usage: 15.7+ KB\n"
     ]
    }
   ],
   "source": [
    "df.info()"
   ]
  },
  {
   "cell_type": "code",
   "execution_count": 12,
   "id": "482314f8-1d7f-451b-8a2c-9eddbd6dee6d",
   "metadata": {},
   "outputs": [
    {
     "data": {
      "text/plain": [
       "freq             0\n",
       "age              0\n",
       "unit             0\n",
       "sex              0\n",
       "geo              0\n",
       "TIME_PERIOD      0\n",
       "2012             0\n",
       "2013             0\n",
       "2014             0\n",
       "2015             0\n",
       "2016             0\n",
       "2017             0\n",
       "2018             0\n",
       "2019             0\n",
       "2020             0\n",
       "2021             0\n",
       "2022             0\n",
       "2023           111\n",
       "dtype: int64"
      ]
     },
     "execution_count": 12,
     "metadata": {},
     "output_type": "execute_result"
    }
   ],
   "source": [
    "df.isna().sum()"
   ]
  },
  {
   "cell_type": "code",
   "execution_count": 13,
   "id": "eb3349f1-e374-4188-b907-fa504cbae3c2",
   "metadata": {},
   "outputs": [
    {
     "data": {
      "text/plain": [
       "0"
      ]
     },
     "execution_count": 13,
     "metadata": {},
     "output_type": "execute_result"
    }
   ],
   "source": [
    "df.duplicated().sum()"
   ]
  },
  {
   "cell_type": "code",
   "execution_count": 14,
   "id": "026952b0-f6e3-4d54-ad91-12ae2ba1bc78",
   "metadata": {},
   "outputs": [
    {
     "name": "stdout",
     "output_type": "stream",
     "text": [
      "unit\n",
      "PC_ACT     37\n",
      "PC_POP     37\n",
      "THS_PER    37\n",
      "Name: count, dtype: int64\n"
     ]
    }
   ],
   "source": [
    "unit = df[\"unit\"].value_counts()\n",
    "print(unit)"
   ]
  },
  {
   "cell_type": "markdown",
   "id": "b66f6ea3-7d06-482f-a613-440589ce2e5f",
   "metadata": {},
   "source": [
    "* PC_ACT = Percentage of labour force\n",
    "* PC_POP = Percentage of population\n",
    "* THS_PER = Thousand persons\n",
    "\n",
    "See link: http://localhost:8888/notebooks/BusinessIntelligencedat4%2FExam%2FExtracting_Unemployment_Eurostat.ipynb.ipynb"
   ]
  },
  {
   "cell_type": "markdown",
   "id": "d3cd8f96-7ef2-466f-8d8e-f6c68b14afa7",
   "metadata": {},
   "source": [
    "# 3) Transforming and cleaning data"
   ]
  },
  {
   "cell_type": "markdown",
   "id": "980e4ac6-3ece-47ce-837b-457f981c69dd",
   "metadata": {},
   "source": [
    "### 3.1) Transforming ':' to NaN"
   ]
  },
  {
   "cell_type": "code",
   "execution_count": 18,
   "id": "4393ce63-dba9-4534-9588-381944d57282",
   "metadata": {},
   "outputs": [
    {
     "data": {
      "text/html": [
       "<div>\n",
       "<style scoped>\n",
       "    .dataframe tbody tr th:only-of-type {\n",
       "        vertical-align: middle;\n",
       "    }\n",
       "\n",
       "    .dataframe tbody tr th {\n",
       "        vertical-align: top;\n",
       "    }\n",
       "\n",
       "    .dataframe thead th {\n",
       "        text-align: right;\n",
       "    }\n",
       "</style>\n",
       "<table border=\"1\" class=\"dataframe\">\n",
       "  <thead>\n",
       "    <tr style=\"text-align: right;\">\n",
       "      <th></th>\n",
       "      <th>freq</th>\n",
       "      <th>age</th>\n",
       "      <th>unit</th>\n",
       "      <th>sex</th>\n",
       "      <th>geo</th>\n",
       "      <th>TIME_PERIOD</th>\n",
       "      <th>2012</th>\n",
       "      <th>2013</th>\n",
       "      <th>2014</th>\n",
       "      <th>2015</th>\n",
       "      <th>2016</th>\n",
       "      <th>2017</th>\n",
       "      <th>2018</th>\n",
       "      <th>2019</th>\n",
       "      <th>2020</th>\n",
       "      <th>2021</th>\n",
       "      <th>2022</th>\n",
       "      <th>2023</th>\n",
       "    </tr>\n",
       "  </thead>\n",
       "  <tbody>\n",
       "    <tr>\n",
       "      <th>0</th>\n",
       "      <td>A</td>\n",
       "      <td>Y15-74</td>\n",
       "      <td>PC_ACT</td>\n",
       "      <td>T</td>\n",
       "      <td>AT</td>\n",
       "      <td>5.2</td>\n",
       "      <td>5.7</td>\n",
       "      <td>6.0</td>\n",
       "      <td>6.1</td>\n",
       "      <td>6.5</td>\n",
       "      <td>5.9</td>\n",
       "      <td>5.2</td>\n",
       "      <td>4.8</td>\n",
       "      <td>6.0</td>\n",
       "      <td>6.2</td>\n",
       "      <td>4.8</td>\n",
       "      <td>5.1</td>\n",
       "      <td>NaN</td>\n",
       "    </tr>\n",
       "    <tr>\n",
       "      <th>1</th>\n",
       "      <td>A</td>\n",
       "      <td>Y15-74</td>\n",
       "      <td>PC_ACT</td>\n",
       "      <td>T</td>\n",
       "      <td>BA</td>\n",
       "      <td>NaN</td>\n",
       "      <td>NaN</td>\n",
       "      <td>NaN</td>\n",
       "      <td>NaN</td>\n",
       "      <td>NaN</td>\n",
       "      <td>NaN</td>\n",
       "      <td>NaN</td>\n",
       "      <td>NaN</td>\n",
       "      <td>NaN</td>\n",
       "      <td>17.4</td>\n",
       "      <td>15.4</td>\n",
       "      <td>13.2</td>\n",
       "      <td>NaN</td>\n",
       "    </tr>\n",
       "    <tr>\n",
       "      <th>2</th>\n",
       "      <td>A</td>\n",
       "      <td>Y15-74</td>\n",
       "      <td>PC_ACT</td>\n",
       "      <td>T</td>\n",
       "      <td>BE</td>\n",
       "      <td>7.6</td>\n",
       "      <td>8.6</td>\n",
       "      <td>8.7</td>\n",
       "      <td>8.7</td>\n",
       "      <td>7.9</td>\n",
       "      <td>7.2 b</td>\n",
       "      <td>6.0</td>\n",
       "      <td>5.5</td>\n",
       "      <td>5.8</td>\n",
       "      <td>6.3</td>\n",
       "      <td>5.6</td>\n",
       "      <td>5.5</td>\n",
       "      <td>NaN</td>\n",
       "    </tr>\n",
       "    <tr>\n",
       "      <th>3</th>\n",
       "      <td>A</td>\n",
       "      <td>Y15-74</td>\n",
       "      <td>PC_ACT</td>\n",
       "      <td>T</td>\n",
       "      <td>BG</td>\n",
       "      <td>13.3</td>\n",
       "      <td>13.9</td>\n",
       "      <td>12.4</td>\n",
       "      <td>10.1</td>\n",
       "      <td>8.6</td>\n",
       "      <td>7.2</td>\n",
       "      <td>6.2</td>\n",
       "      <td>5.2 b</td>\n",
       "      <td>6.1</td>\n",
       "      <td>5.2</td>\n",
       "      <td>4.2</td>\n",
       "      <td>4.3</td>\n",
       "      <td>NaN</td>\n",
       "    </tr>\n",
       "    <tr>\n",
       "      <th>4</th>\n",
       "      <td>A</td>\n",
       "      <td>Y15-74</td>\n",
       "      <td>PC_ACT</td>\n",
       "      <td>T</td>\n",
       "      <td>CH</td>\n",
       "      <td>4.5</td>\n",
       "      <td>4.8</td>\n",
       "      <td>4.9</td>\n",
       "      <td>4.8</td>\n",
       "      <td>5.0</td>\n",
       "      <td>4.8</td>\n",
       "      <td>4.7</td>\n",
       "      <td>4.4</td>\n",
       "      <td>4.8</td>\n",
       "      <td>5.1</td>\n",
       "      <td>4.1</td>\n",
       "      <td>4.1</td>\n",
       "      <td>NaN</td>\n",
       "    </tr>\n",
       "  </tbody>\n",
       "</table>\n",
       "</div>"
      ],
      "text/plain": [
       "  freq     age    unit sex geo TIME_PERIOD  2012   2013   2014  2015   2016   \\\n",
       "0    A  Y15-74  PC_ACT   T  AT        5.2    5.7    6.0    6.1   6.5    5.9    \n",
       "1    A  Y15-74  PC_ACT   T  BA         NaN    NaN    NaN    NaN   NaN    NaN   \n",
       "2    A  Y15-74  PC_ACT   T  BE        7.6    8.6    8.7    8.7   7.9   7.2 b   \n",
       "3    A  Y15-74  PC_ACT   T  BG       13.3   13.9   12.4   10.1   8.6    7.2    \n",
       "4    A  Y15-74  PC_ACT   T  CH        4.5    4.8    4.9    4.8   5.0    4.8    \n",
       "\n",
       "  2017   2018  2019   2020   2021  2022   2023  \n",
       "0  5.2    4.8   6.0    6.2    4.8    5.1   NaN  \n",
       "1   NaN    NaN   NaN  17.4   15.4   13.2   NaN  \n",
       "2  6.0    5.5   5.8    6.3    5.6    5.5   NaN  \n",
       "3  6.2   5.2 b  6.1    5.2    4.2    4.3   NaN  \n",
       "4  4.7    4.4   4.8    5.1    4.1    4.1   NaN  "
      ]
     },
     "execution_count": 18,
     "metadata": {},
     "output_type": "execute_result"
    }
   ],
   "source": [
    "df.replace(r'^\\s*:\\s*$', np.nan, regex=True, inplace=True)\n",
    "df.head()"
   ]
  },
  {
   "cell_type": "markdown",
   "id": "b3a33c7e-f481-4eac-87f7-19d1dd42c038",
   "metadata": {},
   "source": [
    "### 3.2) Moving the values on column to the right so the valyes matches the correct year and then removing \"TIME_PERIOD\" column"
   ]
  },
  {
   "cell_type": "code",
   "execution_count": 20,
   "id": "3f4b6626-d443-423f-99fe-c4d5f6f5a3a7",
   "metadata": {},
   "outputs": [],
   "source": [
    "# Removing the 2023 column given that I don't need that column (I only have data up to 2022 in the main data frame: happiness_df) \n",
    "# and given that it's of a different type for some reason\n",
    "df.drop(columns=\"2023\", inplace=True)"
   ]
  },
  {
   "cell_type": "code",
   "execution_count": 21,
   "id": "165a5068-86bb-4632-adb2-e642605fa9a4",
   "metadata": {},
   "outputs": [
    {
     "data": {
      "text/html": [
       "<div>\n",
       "<style scoped>\n",
       "    .dataframe tbody tr th:only-of-type {\n",
       "        vertical-align: middle;\n",
       "    }\n",
       "\n",
       "    .dataframe tbody tr th {\n",
       "        vertical-align: top;\n",
       "    }\n",
       "\n",
       "    .dataframe thead th {\n",
       "        text-align: right;\n",
       "    }\n",
       "</style>\n",
       "<table border=\"1\" class=\"dataframe\">\n",
       "  <thead>\n",
       "    <tr style=\"text-align: right;\">\n",
       "      <th></th>\n",
       "      <th>freq</th>\n",
       "      <th>age</th>\n",
       "      <th>unit</th>\n",
       "      <th>sex</th>\n",
       "      <th>geo</th>\n",
       "      <th>TIME_PERIOD</th>\n",
       "      <th>2012</th>\n",
       "      <th>2013</th>\n",
       "      <th>2014</th>\n",
       "      <th>2015</th>\n",
       "      <th>2016</th>\n",
       "      <th>2017</th>\n",
       "      <th>2018</th>\n",
       "      <th>2019</th>\n",
       "      <th>2020</th>\n",
       "      <th>2021</th>\n",
       "      <th>2022</th>\n",
       "    </tr>\n",
       "  </thead>\n",
       "  <tbody>\n",
       "    <tr>\n",
       "      <th>0</th>\n",
       "      <td>A</td>\n",
       "      <td>Y15-74</td>\n",
       "      <td>PC_ACT</td>\n",
       "      <td>T</td>\n",
       "      <td>AT</td>\n",
       "      <td>5.2</td>\n",
       "      <td>5.2</td>\n",
       "      <td>5.7</td>\n",
       "      <td>6.0</td>\n",
       "      <td>6.1</td>\n",
       "      <td>6.5</td>\n",
       "      <td>5.9</td>\n",
       "      <td>5.2</td>\n",
       "      <td>4.8</td>\n",
       "      <td>6.0</td>\n",
       "      <td>6.2</td>\n",
       "      <td>4.8</td>\n",
       "    </tr>\n",
       "    <tr>\n",
       "      <th>1</th>\n",
       "      <td>A</td>\n",
       "      <td>Y15-74</td>\n",
       "      <td>PC_ACT</td>\n",
       "      <td>T</td>\n",
       "      <td>BA</td>\n",
       "      <td>NaN</td>\n",
       "      <td>NaN</td>\n",
       "      <td>NaN</td>\n",
       "      <td>NaN</td>\n",
       "      <td>NaN</td>\n",
       "      <td>NaN</td>\n",
       "      <td>NaN</td>\n",
       "      <td>NaN</td>\n",
       "      <td>NaN</td>\n",
       "      <td>NaN</td>\n",
       "      <td>17.4</td>\n",
       "      <td>15.4</td>\n",
       "    </tr>\n",
       "    <tr>\n",
       "      <th>2</th>\n",
       "      <td>A</td>\n",
       "      <td>Y15-74</td>\n",
       "      <td>PC_ACT</td>\n",
       "      <td>T</td>\n",
       "      <td>BE</td>\n",
       "      <td>7.6</td>\n",
       "      <td>7.6</td>\n",
       "      <td>8.6</td>\n",
       "      <td>8.7</td>\n",
       "      <td>8.7</td>\n",
       "      <td>7.9</td>\n",
       "      <td>7.2 b</td>\n",
       "      <td>6.0</td>\n",
       "      <td>5.5</td>\n",
       "      <td>5.8</td>\n",
       "      <td>6.3</td>\n",
       "      <td>5.6</td>\n",
       "    </tr>\n",
       "    <tr>\n",
       "      <th>3</th>\n",
       "      <td>A</td>\n",
       "      <td>Y15-74</td>\n",
       "      <td>PC_ACT</td>\n",
       "      <td>T</td>\n",
       "      <td>BG</td>\n",
       "      <td>13.3</td>\n",
       "      <td>13.3</td>\n",
       "      <td>13.9</td>\n",
       "      <td>12.4</td>\n",
       "      <td>10.1</td>\n",
       "      <td>8.6</td>\n",
       "      <td>7.2</td>\n",
       "      <td>6.2</td>\n",
       "      <td>5.2 b</td>\n",
       "      <td>6.1</td>\n",
       "      <td>5.2</td>\n",
       "      <td>4.2</td>\n",
       "    </tr>\n",
       "    <tr>\n",
       "      <th>4</th>\n",
       "      <td>A</td>\n",
       "      <td>Y15-74</td>\n",
       "      <td>PC_ACT</td>\n",
       "      <td>T</td>\n",
       "      <td>CH</td>\n",
       "      <td>4.5</td>\n",
       "      <td>4.5</td>\n",
       "      <td>4.8</td>\n",
       "      <td>4.9</td>\n",
       "      <td>4.8</td>\n",
       "      <td>5.0</td>\n",
       "      <td>4.8</td>\n",
       "      <td>4.7</td>\n",
       "      <td>4.4</td>\n",
       "      <td>4.8</td>\n",
       "      <td>5.1</td>\n",
       "      <td>4.1</td>\n",
       "    </tr>\n",
       "  </tbody>\n",
       "</table>\n",
       "</div>"
      ],
      "text/plain": [
       "  freq     age    unit sex geo TIME_PERIOD  2012   2013   2014   2015  2016   \\\n",
       "0    A  Y15-74  PC_ACT   T  AT        5.2    5.2    5.7    6.0    6.1   6.5    \n",
       "1    A  Y15-74  PC_ACT   T  BA         NaN    NaN    NaN    NaN    NaN   NaN   \n",
       "2    A  Y15-74  PC_ACT   T  BE        7.6    7.6    8.6    8.7    8.7   7.9    \n",
       "3    A  Y15-74  PC_ACT   T  BG       13.3   13.3   13.9   12.4   10.1   8.6    \n",
       "4    A  Y15-74  PC_ACT   T  CH        4.5    4.5    4.8    4.9    4.8   5.0    \n",
       "\n",
       "   2017  2018   2019  2020   2021   2022   \n",
       "0   5.9   5.2    4.8   6.0    6.2    4.8   \n",
       "1    NaN   NaN    NaN   NaN  17.4   15.4   \n",
       "2  7.2 b  6.0    5.5   5.8    6.3    5.6   \n",
       "3   7.2   6.2   5.2 b  6.1    5.2    4.2   \n",
       "4   4.8   4.7    4.4   4.8    5.1    4.1   "
      ]
     },
     "execution_count": 21,
     "metadata": {},
     "output_type": "execute_result"
    }
   ],
   "source": [
    "\n",
    "start_index = df.columns.get_loc(\"TIME_PERIOD\")\n",
    "\n",
    "df.iloc[:, start_index + 1:] = df.iloc[:, start_index:-1]\n",
    "\n",
    "df.head()"
   ]
  },
  {
   "cell_type": "code",
   "execution_count": 22,
   "id": "5313c543-974b-43dc-bc59-ab524fbf680e",
   "metadata": {},
   "outputs": [
    {
     "data": {
      "text/html": [
       "<div>\n",
       "<style scoped>\n",
       "    .dataframe tbody tr th:only-of-type {\n",
       "        vertical-align: middle;\n",
       "    }\n",
       "\n",
       "    .dataframe tbody tr th {\n",
       "        vertical-align: top;\n",
       "    }\n",
       "\n",
       "    .dataframe thead th {\n",
       "        text-align: right;\n",
       "    }\n",
       "</style>\n",
       "<table border=\"1\" class=\"dataframe\">\n",
       "  <thead>\n",
       "    <tr style=\"text-align: right;\">\n",
       "      <th></th>\n",
       "      <th>freq</th>\n",
       "      <th>age</th>\n",
       "      <th>unit</th>\n",
       "      <th>sex</th>\n",
       "      <th>geo</th>\n",
       "      <th>2012</th>\n",
       "      <th>2013</th>\n",
       "      <th>2014</th>\n",
       "      <th>2015</th>\n",
       "      <th>2016</th>\n",
       "      <th>2017</th>\n",
       "      <th>2018</th>\n",
       "      <th>2019</th>\n",
       "      <th>2020</th>\n",
       "      <th>2021</th>\n",
       "      <th>2022</th>\n",
       "    </tr>\n",
       "  </thead>\n",
       "  <tbody>\n",
       "    <tr>\n",
       "      <th>0</th>\n",
       "      <td>A</td>\n",
       "      <td>Y15-74</td>\n",
       "      <td>PC_ACT</td>\n",
       "      <td>T</td>\n",
       "      <td>AT</td>\n",
       "      <td>5.2</td>\n",
       "      <td>5.7</td>\n",
       "      <td>6.0</td>\n",
       "      <td>6.1</td>\n",
       "      <td>6.5</td>\n",
       "      <td>5.9</td>\n",
       "      <td>5.2</td>\n",
       "      <td>4.8</td>\n",
       "      <td>6.0</td>\n",
       "      <td>6.2</td>\n",
       "      <td>4.8</td>\n",
       "    </tr>\n",
       "    <tr>\n",
       "      <th>1</th>\n",
       "      <td>A</td>\n",
       "      <td>Y15-74</td>\n",
       "      <td>PC_ACT</td>\n",
       "      <td>T</td>\n",
       "      <td>BA</td>\n",
       "      <td>NaN</td>\n",
       "      <td>NaN</td>\n",
       "      <td>NaN</td>\n",
       "      <td>NaN</td>\n",
       "      <td>NaN</td>\n",
       "      <td>NaN</td>\n",
       "      <td>NaN</td>\n",
       "      <td>NaN</td>\n",
       "      <td>NaN</td>\n",
       "      <td>17.4</td>\n",
       "      <td>15.4</td>\n",
       "    </tr>\n",
       "    <tr>\n",
       "      <th>2</th>\n",
       "      <td>A</td>\n",
       "      <td>Y15-74</td>\n",
       "      <td>PC_ACT</td>\n",
       "      <td>T</td>\n",
       "      <td>BE</td>\n",
       "      <td>7.6</td>\n",
       "      <td>8.6</td>\n",
       "      <td>8.7</td>\n",
       "      <td>8.7</td>\n",
       "      <td>7.9</td>\n",
       "      <td>7.2 b</td>\n",
       "      <td>6.0</td>\n",
       "      <td>5.5</td>\n",
       "      <td>5.8</td>\n",
       "      <td>6.3</td>\n",
       "      <td>5.6</td>\n",
       "    </tr>\n",
       "    <tr>\n",
       "      <th>3</th>\n",
       "      <td>A</td>\n",
       "      <td>Y15-74</td>\n",
       "      <td>PC_ACT</td>\n",
       "      <td>T</td>\n",
       "      <td>BG</td>\n",
       "      <td>13.3</td>\n",
       "      <td>13.9</td>\n",
       "      <td>12.4</td>\n",
       "      <td>10.1</td>\n",
       "      <td>8.6</td>\n",
       "      <td>7.2</td>\n",
       "      <td>6.2</td>\n",
       "      <td>5.2 b</td>\n",
       "      <td>6.1</td>\n",
       "      <td>5.2</td>\n",
       "      <td>4.2</td>\n",
       "    </tr>\n",
       "    <tr>\n",
       "      <th>4</th>\n",
       "      <td>A</td>\n",
       "      <td>Y15-74</td>\n",
       "      <td>PC_ACT</td>\n",
       "      <td>T</td>\n",
       "      <td>CH</td>\n",
       "      <td>4.5</td>\n",
       "      <td>4.8</td>\n",
       "      <td>4.9</td>\n",
       "      <td>4.8</td>\n",
       "      <td>5.0</td>\n",
       "      <td>4.8</td>\n",
       "      <td>4.7</td>\n",
       "      <td>4.4</td>\n",
       "      <td>4.8</td>\n",
       "      <td>5.1</td>\n",
       "      <td>4.1</td>\n",
       "    </tr>\n",
       "  </tbody>\n",
       "</table>\n",
       "</div>"
      ],
      "text/plain": [
       "  freq     age    unit sex geo  2012   2013   2014   2015  2016   2017  2018   \\\n",
       "0    A  Y15-74  PC_ACT   T  AT   5.2    5.7    6.0    6.1   6.5    5.9   5.2    \n",
       "1    A  Y15-74  PC_ACT   T  BA    NaN    NaN    NaN    NaN   NaN    NaN   NaN   \n",
       "2    A  Y15-74  PC_ACT   T  BE   7.6    8.6    8.7    8.7   7.9   7.2 b  6.0    \n",
       "3    A  Y15-74  PC_ACT   T  BG  13.3   13.9   12.4   10.1   8.6    7.2   6.2    \n",
       "4    A  Y15-74  PC_ACT   T  CH   4.5    4.8    4.9    4.8   5.0    4.8   4.7    \n",
       "\n",
       "   2019  2020   2021   2022   \n",
       "0   4.8   6.0    6.2    4.8   \n",
       "1    NaN   NaN  17.4   15.4   \n",
       "2   5.5   5.8    6.3    5.6   \n",
       "3  5.2 b  6.1    5.2    4.2   \n",
       "4   4.4   4.8    5.1    4.1   "
      ]
     },
     "execution_count": 22,
     "metadata": {},
     "output_type": "execute_result"
    }
   ],
   "source": [
    "df.drop(columns=\"TIME_PERIOD\", inplace=True)\n",
    "df.head()"
   ]
  },
  {
   "cell_type": "markdown",
   "id": "420553f6-bda8-49c6-ad3c-f312524ccccf",
   "metadata": {},
   "source": [
    "### 3.3) Creating two data frames: 1) With PC_POP and 2) With PC_ACT "
   ]
  },
  {
   "cell_type": "markdown",
   "id": "5f29ea9a-d665-4a00-8f85-8764357cc4e9",
   "metadata": {},
   "source": [
    "I don't want thousand persons because it's a bad unit of measure for comparison of countries given that countries have very different populations\n"
   ]
  },
  {
   "cell_type": "code",
   "execution_count": 25,
   "id": "6dc069e1-2cd6-47a8-92e8-f039f001fc80",
   "metadata": {},
   "outputs": [
    {
     "name": "stdout",
     "output_type": "stream",
     "text": [
      "unit\n",
      "PC_ACT    37\n",
      "Name: count, dtype: int64\n"
     ]
    }
   ],
   "source": [
    "act_df = df[df[\"unit\"] == \"PC_ACT\"]\n",
    "unit1 = act_df[\"unit\"].value_counts()\n",
    "print(unit1)"
   ]
  },
  {
   "cell_type": "code",
   "execution_count": 26,
   "id": "790f16bd-a05e-449f-9866-a6421e575113",
   "metadata": {},
   "outputs": [
    {
     "name": "stdout",
     "output_type": "stream",
     "text": [
      "unit\n",
      "PC_POP    37\n",
      "Name: count, dtype: int64\n"
     ]
    }
   ],
   "source": [
    "df = df[~df[\"unit\"].isin([\"PC_ACT\", \"THS_PER\"])]\n",
    "\n",
    "unit = df[\"unit\"].value_counts()\n",
    "print(unit)"
   ]
  },
  {
   "cell_type": "code",
   "execution_count": 27,
   "id": "b5b307e6-1411-41c0-b9e8-2d1e11801220",
   "metadata": {},
   "outputs": [
    {
     "data": {
      "text/html": [
       "<div>\n",
       "<style scoped>\n",
       "    .dataframe tbody tr th:only-of-type {\n",
       "        vertical-align: middle;\n",
       "    }\n",
       "\n",
       "    .dataframe tbody tr th {\n",
       "        vertical-align: top;\n",
       "    }\n",
       "\n",
       "    .dataframe thead th {\n",
       "        text-align: right;\n",
       "    }\n",
       "</style>\n",
       "<table border=\"1\" class=\"dataframe\">\n",
       "  <thead>\n",
       "    <tr style=\"text-align: right;\">\n",
       "      <th></th>\n",
       "      <th>freq</th>\n",
       "      <th>age</th>\n",
       "      <th>unit</th>\n",
       "      <th>sex</th>\n",
       "      <th>geo</th>\n",
       "      <th>2012</th>\n",
       "      <th>2013</th>\n",
       "      <th>2014</th>\n",
       "      <th>2015</th>\n",
       "      <th>2016</th>\n",
       "      <th>2017</th>\n",
       "      <th>2018</th>\n",
       "      <th>2019</th>\n",
       "      <th>2020</th>\n",
       "      <th>2021</th>\n",
       "      <th>2022</th>\n",
       "    </tr>\n",
       "  </thead>\n",
       "  <tbody>\n",
       "    <tr>\n",
       "      <th>37</th>\n",
       "      <td>A</td>\n",
       "      <td>Y15-74</td>\n",
       "      <td>PC_POP</td>\n",
       "      <td>T</td>\n",
       "      <td>AT</td>\n",
       "      <td>3.5</td>\n",
       "      <td>3.8</td>\n",
       "      <td>4.0</td>\n",
       "      <td>4.1</td>\n",
       "      <td>4.4</td>\n",
       "      <td>4.0</td>\n",
       "      <td>3.6</td>\n",
       "      <td>3.3</td>\n",
       "      <td>4.1</td>\n",
       "      <td>4.2</td>\n",
       "      <td>3.3</td>\n",
       "    </tr>\n",
       "    <tr>\n",
       "      <th>38</th>\n",
       "      <td>A</td>\n",
       "      <td>Y15-74</td>\n",
       "      <td>PC_POP</td>\n",
       "      <td>T</td>\n",
       "      <td>BA</td>\n",
       "      <td>NaN</td>\n",
       "      <td>NaN</td>\n",
       "      <td>NaN</td>\n",
       "      <td>NaN</td>\n",
       "      <td>NaN</td>\n",
       "      <td>NaN</td>\n",
       "      <td>NaN</td>\n",
       "      <td>NaN</td>\n",
       "      <td>NaN</td>\n",
       "      <td>9.0</td>\n",
       "      <td>7.9</td>\n",
       "    </tr>\n",
       "    <tr>\n",
       "      <th>39</th>\n",
       "      <td>A</td>\n",
       "      <td>Y15-74</td>\n",
       "      <td>PC_POP</td>\n",
       "      <td>T</td>\n",
       "      <td>BE</td>\n",
       "      <td>4.6</td>\n",
       "      <td>5.1</td>\n",
       "      <td>5.2</td>\n",
       "      <td>5.2</td>\n",
       "      <td>4.7</td>\n",
       "      <td>4.3 b</td>\n",
       "      <td>3.6</td>\n",
       "      <td>3.3</td>\n",
       "      <td>3.4</td>\n",
       "      <td>3.8</td>\n",
       "      <td>3.4</td>\n",
       "    </tr>\n",
       "    <tr>\n",
       "      <th>40</th>\n",
       "      <td>A</td>\n",
       "      <td>Y15-74</td>\n",
       "      <td>PC_POP</td>\n",
       "      <td>T</td>\n",
       "      <td>BG</td>\n",
       "      <td>7.8</td>\n",
       "      <td>8.3</td>\n",
       "      <td>7.4</td>\n",
       "      <td>6.1</td>\n",
       "      <td>5.1</td>\n",
       "      <td>4.4</td>\n",
       "      <td>3.8</td>\n",
       "      <td>3.3 b</td>\n",
       "      <td>3.7</td>\n",
       "      <td>3.2</td>\n",
       "      <td>2.6</td>\n",
       "    </tr>\n",
       "    <tr>\n",
       "      <th>41</th>\n",
       "      <td>A</td>\n",
       "      <td>Y15-74</td>\n",
       "      <td>PC_POP</td>\n",
       "      <td>T</td>\n",
       "      <td>CH</td>\n",
       "      <td>3.3</td>\n",
       "      <td>3.5</td>\n",
       "      <td>3.6</td>\n",
       "      <td>3.6</td>\n",
       "      <td>3.7</td>\n",
       "      <td>3.7</td>\n",
       "      <td>3.6</td>\n",
       "      <td>3.4</td>\n",
       "      <td>3.7</td>\n",
       "      <td>3.8</td>\n",
       "      <td>3.1</td>\n",
       "    </tr>\n",
       "  </tbody>\n",
       "</table>\n",
       "</div>"
      ],
      "text/plain": [
       "   freq     age    unit sex geo 2012  2013  2014  2015  2016   2017  2018   \\\n",
       "37    A  Y15-74  PC_POP   T  AT  3.5   3.8   4.0   4.1   4.4    4.0   3.6    \n",
       "38    A  Y15-74  PC_POP   T  BA   NaN   NaN   NaN   NaN   NaN    NaN   NaN   \n",
       "39    A  Y15-74  PC_POP   T  BE  4.6   5.1   5.2   5.2   4.7   4.3 b  3.6    \n",
       "40    A  Y15-74  PC_POP   T  BG  7.8   8.3   7.4   6.1   5.1    4.4   3.8    \n",
       "41    A  Y15-74  PC_POP   T  CH  3.3   3.5   3.6   3.6   3.7    3.7   3.6    \n",
       "\n",
       "    2019  2020  2021  2022   \n",
       "37   3.3   4.1   4.2   3.3   \n",
       "38    NaN   NaN  9.0   7.9   \n",
       "39   3.3   3.4   3.8   3.4   \n",
       "40  3.3 b  3.7   3.2   2.6   \n",
       "41   3.4   3.7   3.8   3.1   "
      ]
     },
     "execution_count": 27,
     "metadata": {},
     "output_type": "execute_result"
    }
   ],
   "source": [
    "df.head()"
   ]
  },
  {
   "cell_type": "markdown",
   "id": "6cec328c-25db-4c4f-88b3-83bd2b3a0395",
   "metadata": {},
   "source": [
    "### 3.4) Deleting irrelevant columns: 'freq', 'age', 'unit' and 'sex' columns"
   ]
  },
  {
   "cell_type": "code",
   "execution_count": 29,
   "id": "7aa5e1bf-29c6-4a8e-a79e-d11717cf2547",
   "metadata": {},
   "outputs": [
    {
     "data": {
      "text/html": [
       "<div>\n",
       "<style scoped>\n",
       "    .dataframe tbody tr th:only-of-type {\n",
       "        vertical-align: middle;\n",
       "    }\n",
       "\n",
       "    .dataframe tbody tr th {\n",
       "        vertical-align: top;\n",
       "    }\n",
       "\n",
       "    .dataframe thead th {\n",
       "        text-align: right;\n",
       "    }\n",
       "</style>\n",
       "<table border=\"1\" class=\"dataframe\">\n",
       "  <thead>\n",
       "    <tr style=\"text-align: right;\">\n",
       "      <th></th>\n",
       "      <th>geo</th>\n",
       "      <th>2012</th>\n",
       "      <th>2013</th>\n",
       "      <th>2014</th>\n",
       "      <th>2015</th>\n",
       "      <th>2016</th>\n",
       "      <th>2017</th>\n",
       "      <th>2018</th>\n",
       "      <th>2019</th>\n",
       "      <th>2020</th>\n",
       "      <th>2021</th>\n",
       "      <th>2022</th>\n",
       "    </tr>\n",
       "  </thead>\n",
       "  <tbody>\n",
       "    <tr>\n",
       "      <th>37</th>\n",
       "      <td>AT</td>\n",
       "      <td>3.5</td>\n",
       "      <td>3.8</td>\n",
       "      <td>4.0</td>\n",
       "      <td>4.1</td>\n",
       "      <td>4.4</td>\n",
       "      <td>4.0</td>\n",
       "      <td>3.6</td>\n",
       "      <td>3.3</td>\n",
       "      <td>4.1</td>\n",
       "      <td>4.2</td>\n",
       "      <td>3.3</td>\n",
       "    </tr>\n",
       "    <tr>\n",
       "      <th>38</th>\n",
       "      <td>BA</td>\n",
       "      <td>NaN</td>\n",
       "      <td>NaN</td>\n",
       "      <td>NaN</td>\n",
       "      <td>NaN</td>\n",
       "      <td>NaN</td>\n",
       "      <td>NaN</td>\n",
       "      <td>NaN</td>\n",
       "      <td>NaN</td>\n",
       "      <td>NaN</td>\n",
       "      <td>9.0</td>\n",
       "      <td>7.9</td>\n",
       "    </tr>\n",
       "    <tr>\n",
       "      <th>39</th>\n",
       "      <td>BE</td>\n",
       "      <td>4.6</td>\n",
       "      <td>5.1</td>\n",
       "      <td>5.2</td>\n",
       "      <td>5.2</td>\n",
       "      <td>4.7</td>\n",
       "      <td>4.3 b</td>\n",
       "      <td>3.6</td>\n",
       "      <td>3.3</td>\n",
       "      <td>3.4</td>\n",
       "      <td>3.8</td>\n",
       "      <td>3.4</td>\n",
       "    </tr>\n",
       "    <tr>\n",
       "      <th>40</th>\n",
       "      <td>BG</td>\n",
       "      <td>7.8</td>\n",
       "      <td>8.3</td>\n",
       "      <td>7.4</td>\n",
       "      <td>6.1</td>\n",
       "      <td>5.1</td>\n",
       "      <td>4.4</td>\n",
       "      <td>3.8</td>\n",
       "      <td>3.3 b</td>\n",
       "      <td>3.7</td>\n",
       "      <td>3.2</td>\n",
       "      <td>2.6</td>\n",
       "    </tr>\n",
       "    <tr>\n",
       "      <th>41</th>\n",
       "      <td>CH</td>\n",
       "      <td>3.3</td>\n",
       "      <td>3.5</td>\n",
       "      <td>3.6</td>\n",
       "      <td>3.6</td>\n",
       "      <td>3.7</td>\n",
       "      <td>3.7</td>\n",
       "      <td>3.6</td>\n",
       "      <td>3.4</td>\n",
       "      <td>3.7</td>\n",
       "      <td>3.8</td>\n",
       "      <td>3.1</td>\n",
       "    </tr>\n",
       "  </tbody>\n",
       "</table>\n",
       "</div>"
      ],
      "text/plain": [
       "   geo 2012  2013  2014  2015  2016   2017  2018   2019  2020  2021  2022 \n",
       "37  AT  3.5   3.8   4.0   4.1   4.4    4.0   3.6    3.3   4.1   4.2   3.3 \n",
       "38  BA   NaN   NaN   NaN   NaN   NaN    NaN   NaN    NaN   NaN  9.0   7.9 \n",
       "39  BE  4.6   5.1   5.2   5.2   4.7   4.3 b  3.6    3.3   3.4   3.8   3.4 \n",
       "40  BG  7.8   8.3   7.4   6.1   5.1    4.4   3.8   3.3 b  3.7   3.2   2.6 \n",
       "41  CH  3.3   3.5   3.6   3.6   3.7    3.7   3.6    3.4   3.7   3.8   3.1 "
      ]
     },
     "execution_count": 29,
     "metadata": {},
     "output_type": "execute_result"
    }
   ],
   "source": [
    "df.drop(columns=[\"freq\", \"age\", \"unit\", \"sex\"], inplace= True)\n",
    "df.head()"
   ]
  },
  {
   "cell_type": "code",
   "execution_count": 30,
   "id": "ccf98a93-52a6-4302-a203-980ae88077f6",
   "metadata": {},
   "outputs": [
    {
     "data": {
      "text/html": [
       "<div>\n",
       "<style scoped>\n",
       "    .dataframe tbody tr th:only-of-type {\n",
       "        vertical-align: middle;\n",
       "    }\n",
       "\n",
       "    .dataframe tbody tr th {\n",
       "        vertical-align: top;\n",
       "    }\n",
       "\n",
       "    .dataframe thead th {\n",
       "        text-align: right;\n",
       "    }\n",
       "</style>\n",
       "<table border=\"1\" class=\"dataframe\">\n",
       "  <thead>\n",
       "    <tr style=\"text-align: right;\">\n",
       "      <th></th>\n",
       "      <th>geo</th>\n",
       "      <th>2012</th>\n",
       "      <th>2013</th>\n",
       "      <th>2014</th>\n",
       "      <th>2015</th>\n",
       "      <th>2016</th>\n",
       "      <th>2017</th>\n",
       "      <th>2018</th>\n",
       "      <th>2019</th>\n",
       "      <th>2020</th>\n",
       "      <th>2021</th>\n",
       "      <th>2022</th>\n",
       "    </tr>\n",
       "  </thead>\n",
       "  <tbody>\n",
       "    <tr>\n",
       "      <th>0</th>\n",
       "      <td>AT</td>\n",
       "      <td>5.2</td>\n",
       "      <td>5.7</td>\n",
       "      <td>6.0</td>\n",
       "      <td>6.1</td>\n",
       "      <td>6.5</td>\n",
       "      <td>5.9</td>\n",
       "      <td>5.2</td>\n",
       "      <td>4.8</td>\n",
       "      <td>6.0</td>\n",
       "      <td>6.2</td>\n",
       "      <td>4.8</td>\n",
       "    </tr>\n",
       "    <tr>\n",
       "      <th>1</th>\n",
       "      <td>BA</td>\n",
       "      <td>NaN</td>\n",
       "      <td>NaN</td>\n",
       "      <td>NaN</td>\n",
       "      <td>NaN</td>\n",
       "      <td>NaN</td>\n",
       "      <td>NaN</td>\n",
       "      <td>NaN</td>\n",
       "      <td>NaN</td>\n",
       "      <td>NaN</td>\n",
       "      <td>17.4</td>\n",
       "      <td>15.4</td>\n",
       "    </tr>\n",
       "    <tr>\n",
       "      <th>2</th>\n",
       "      <td>BE</td>\n",
       "      <td>7.6</td>\n",
       "      <td>8.6</td>\n",
       "      <td>8.7</td>\n",
       "      <td>8.7</td>\n",
       "      <td>7.9</td>\n",
       "      <td>7.2 b</td>\n",
       "      <td>6.0</td>\n",
       "      <td>5.5</td>\n",
       "      <td>5.8</td>\n",
       "      <td>6.3</td>\n",
       "      <td>5.6</td>\n",
       "    </tr>\n",
       "    <tr>\n",
       "      <th>3</th>\n",
       "      <td>BG</td>\n",
       "      <td>13.3</td>\n",
       "      <td>13.9</td>\n",
       "      <td>12.4</td>\n",
       "      <td>10.1</td>\n",
       "      <td>8.6</td>\n",
       "      <td>7.2</td>\n",
       "      <td>6.2</td>\n",
       "      <td>5.2 b</td>\n",
       "      <td>6.1</td>\n",
       "      <td>5.2</td>\n",
       "      <td>4.2</td>\n",
       "    </tr>\n",
       "    <tr>\n",
       "      <th>4</th>\n",
       "      <td>CH</td>\n",
       "      <td>4.5</td>\n",
       "      <td>4.8</td>\n",
       "      <td>4.9</td>\n",
       "      <td>4.8</td>\n",
       "      <td>5.0</td>\n",
       "      <td>4.8</td>\n",
       "      <td>4.7</td>\n",
       "      <td>4.4</td>\n",
       "      <td>4.8</td>\n",
       "      <td>5.1</td>\n",
       "      <td>4.1</td>\n",
       "    </tr>\n",
       "  </tbody>\n",
       "</table>\n",
       "</div>"
      ],
      "text/plain": [
       "  geo  2012   2013   2014   2015  2016   2017  2018   2019  2020   2021   \\\n",
       "0  AT   5.2    5.7    6.0    6.1   6.5    5.9   5.2    4.8   6.0    6.2    \n",
       "1  BA    NaN    NaN    NaN    NaN   NaN    NaN   NaN    NaN   NaN  17.4    \n",
       "2  BE   7.6    8.6    8.7    8.7   7.9   7.2 b  6.0    5.5   5.8    6.3    \n",
       "3  BG  13.3   13.9   12.4   10.1   8.6    7.2   6.2   5.2 b  6.1    5.2    \n",
       "4  CH   4.5    4.8    4.9    4.8   5.0    4.8   4.7    4.4   4.8    5.1    \n",
       "\n",
       "   2022   \n",
       "0   4.8   \n",
       "1  15.4   \n",
       "2   5.6   \n",
       "3   4.2   \n",
       "4   4.1   "
      ]
     },
     "execution_count": 30,
     "metadata": {},
     "output_type": "execute_result"
    }
   ],
   "source": [
    "act_df.drop(columns=[\"freq\", \"age\", \"unit\", \"sex\"], inplace= True)\n",
    "act_df.head()"
   ]
  },
  {
   "cell_type": "markdown",
   "id": "47882860-7524-452b-a311-374af48400c1",
   "metadata": {},
   "source": [
    "### 3.5) Transforming the data frames' year values from wide to long\n"
   ]
  },
  {
   "cell_type": "code",
   "execution_count": 32,
   "id": "48ec48d6-cb41-4914-85a6-7a6ea5184cd8",
   "metadata": {},
   "outputs": [
    {
     "data": {
      "text/html": [
       "<div>\n",
       "<style scoped>\n",
       "    .dataframe tbody tr th:only-of-type {\n",
       "        vertical-align: middle;\n",
       "    }\n",
       "\n",
       "    .dataframe tbody tr th {\n",
       "        vertical-align: top;\n",
       "    }\n",
       "\n",
       "    .dataframe thead th {\n",
       "        text-align: right;\n",
       "    }\n",
       "</style>\n",
       "<table border=\"1\" class=\"dataframe\">\n",
       "  <thead>\n",
       "    <tr style=\"text-align: right;\">\n",
       "      <th></th>\n",
       "      <th>geo</th>\n",
       "      <th>Year</th>\n",
       "      <th>Unemployment as percentage of labour force</th>\n",
       "    </tr>\n",
       "  </thead>\n",
       "  <tbody>\n",
       "    <tr>\n",
       "      <th>0</th>\n",
       "      <td>AT</td>\n",
       "      <td>2012</td>\n",
       "      <td>3.5</td>\n",
       "    </tr>\n",
       "    <tr>\n",
       "      <th>1</th>\n",
       "      <td>BA</td>\n",
       "      <td>2012</td>\n",
       "      <td>NaN</td>\n",
       "    </tr>\n",
       "    <tr>\n",
       "      <th>2</th>\n",
       "      <td>BE</td>\n",
       "      <td>2012</td>\n",
       "      <td>4.6</td>\n",
       "    </tr>\n",
       "    <tr>\n",
       "      <th>3</th>\n",
       "      <td>BG</td>\n",
       "      <td>2012</td>\n",
       "      <td>7.8</td>\n",
       "    </tr>\n",
       "    <tr>\n",
       "      <th>4</th>\n",
       "      <td>CH</td>\n",
       "      <td>2012</td>\n",
       "      <td>3.3</td>\n",
       "    </tr>\n",
       "  </tbody>\n",
       "</table>\n",
       "</div>"
      ],
      "text/plain": [
       "  geo   Year Unemployment as percentage of labour force\n",
       "0  AT  2012                                        3.5 \n",
       "1  BA  2012                                         NaN\n",
       "2  BE  2012                                        4.6 \n",
       "3  BG  2012                                        7.8 \n",
       "4  CH  2012                                        3.3 "
      ]
     },
     "execution_count": 32,
     "metadata": {},
     "output_type": "execute_result"
    }
   ],
   "source": [
    "df = pd.melt(df, id_vars=[\"geo\"], var_name = \"Year\", value_name = \"Unemployment as percentage of labour force\")\n",
    "df.head()"
   ]
  },
  {
   "cell_type": "code",
   "execution_count": 33,
   "id": "a354ba99-0abd-4097-b287-3badfa737374",
   "metadata": {},
   "outputs": [
    {
     "name": "stdout",
     "output_type": "stream",
     "text": [
      "<class 'pandas.core.frame.DataFrame'>\n",
      "RangeIndex: 407 entries, 0 to 406\n",
      "Data columns (total 3 columns):\n",
      " #   Column                                      Non-Null Count  Dtype \n",
      "---  ------                                      --------------  ----- \n",
      " 0   geo                                         407 non-null    object\n",
      " 1   Year                                        407 non-null    object\n",
      " 2   Unemployment as percentage of labour force  394 non-null    object\n",
      "dtypes: object(3)\n",
      "memory usage: 9.7+ KB\n"
     ]
    }
   ],
   "source": [
    "df.info()"
   ]
  },
  {
   "cell_type": "code",
   "execution_count": 34,
   "id": "fbe3f678-7e33-4828-a874-eba3bfa0aa97",
   "metadata": {},
   "outputs": [
    {
     "data": {
      "text/html": [
       "<div>\n",
       "<style scoped>\n",
       "    .dataframe tbody tr th:only-of-type {\n",
       "        vertical-align: middle;\n",
       "    }\n",
       "\n",
       "    .dataframe tbody tr th {\n",
       "        vertical-align: top;\n",
       "    }\n",
       "\n",
       "    .dataframe thead th {\n",
       "        text-align: right;\n",
       "    }\n",
       "</style>\n",
       "<table border=\"1\" class=\"dataframe\">\n",
       "  <thead>\n",
       "    <tr style=\"text-align: right;\">\n",
       "      <th></th>\n",
       "      <th>geo</th>\n",
       "      <th>Year</th>\n",
       "      <th>Unemployment as percentage of labour force</th>\n",
       "    </tr>\n",
       "  </thead>\n",
       "  <tbody>\n",
       "    <tr>\n",
       "      <th>0</th>\n",
       "      <td>AT</td>\n",
       "      <td>2012</td>\n",
       "      <td>5.2</td>\n",
       "    </tr>\n",
       "    <tr>\n",
       "      <th>1</th>\n",
       "      <td>BA</td>\n",
       "      <td>2012</td>\n",
       "      <td>NaN</td>\n",
       "    </tr>\n",
       "    <tr>\n",
       "      <th>2</th>\n",
       "      <td>BE</td>\n",
       "      <td>2012</td>\n",
       "      <td>7.6</td>\n",
       "    </tr>\n",
       "    <tr>\n",
       "      <th>3</th>\n",
       "      <td>BG</td>\n",
       "      <td>2012</td>\n",
       "      <td>13.3</td>\n",
       "    </tr>\n",
       "    <tr>\n",
       "      <th>4</th>\n",
       "      <td>CH</td>\n",
       "      <td>2012</td>\n",
       "      <td>4.5</td>\n",
       "    </tr>\n",
       "  </tbody>\n",
       "</table>\n",
       "</div>"
      ],
      "text/plain": [
       "  geo   Year Unemployment as percentage of labour force\n",
       "0  AT  2012                                        5.2 \n",
       "1  BA  2012                                         NaN\n",
       "2  BE  2012                                        7.6 \n",
       "3  BG  2012                                       13.3 \n",
       "4  CH  2012                                        4.5 "
      ]
     },
     "execution_count": 34,
     "metadata": {},
     "output_type": "execute_result"
    }
   ],
   "source": [
    "act_df = pd.melt(act_df, id_vars=[\"geo\"], var_name = \"Year\", value_name = \"Unemployment as percentage of labour force\")\n",
    "act_df.head()"
   ]
  },
  {
   "cell_type": "code",
   "execution_count": 35,
   "id": "630c857c-4d05-4113-8a3a-27d8c57f7c64",
   "metadata": {},
   "outputs": [
    {
     "name": "stdout",
     "output_type": "stream",
     "text": [
      "<class 'pandas.core.frame.DataFrame'>\n",
      "RangeIndex: 407 entries, 0 to 406\n",
      "Data columns (total 3 columns):\n",
      " #   Column                                      Non-Null Count  Dtype \n",
      "---  ------                                      --------------  ----- \n",
      " 0   geo                                         407 non-null    object\n",
      " 1   Year                                        407 non-null    object\n",
      " 2   Unemployment as percentage of labour force  394 non-null    object\n",
      "dtypes: object(3)\n",
      "memory usage: 9.7+ KB\n"
     ]
    }
   ],
   "source": [
    "act_df.info()"
   ]
  },
  {
   "cell_type": "markdown",
   "id": "72eb3fdc-e9e4-4f5d-899b-f5ff944e043f",
   "metadata": {},
   "source": [
    "### 3.6) Removing null/na/missing values"
   ]
  },
  {
   "cell_type": "markdown",
   "id": "4ffa8e4f-2cab-4b33-8ede-7df96d724cb9",
   "metadata": {},
   "source": [
    "This because I prefer as precise data as possible"
   ]
  },
  {
   "cell_type": "code",
   "execution_count": 38,
   "id": "3690dd56-35b2-4bc1-a7f6-c09d8ec573bd",
   "metadata": {},
   "outputs": [
    {
     "data": {
      "text/plain": [
       "geo                                            0\n",
       "Year                                           0\n",
       "Unemployment as percentage of labour force    13\n",
       "dtype: int64"
      ]
     },
     "execution_count": 38,
     "metadata": {},
     "output_type": "execute_result"
    }
   ],
   "source": [
    "df.isna().sum()"
   ]
  },
  {
   "cell_type": "code",
   "execution_count": 39,
   "id": "0cb11807-d2cd-4e03-b718-9ef0610a3c06",
   "metadata": {},
   "outputs": [
    {
     "data": {
      "text/plain": [
       "geo                                           0\n",
       "Year                                          0\n",
       "Unemployment as percentage of labour force    0\n",
       "dtype: int64"
      ]
     },
     "execution_count": 39,
     "metadata": {},
     "output_type": "execute_result"
    }
   ],
   "source": [
    "df.dropna(inplace=True)\n",
    "df.isna().sum()"
   ]
  },
  {
   "cell_type": "code",
   "execution_count": 40,
   "id": "c6dfcb11-ee14-4346-8747-fe191d94a795",
   "metadata": {},
   "outputs": [
    {
     "name": "stdout",
     "output_type": "stream",
     "text": [
      "<class 'pandas.core.frame.DataFrame'>\n",
      "Index: 394 entries, 0 to 406\n",
      "Data columns (total 3 columns):\n",
      " #   Column                                      Non-Null Count  Dtype \n",
      "---  ------                                      --------------  ----- \n",
      " 0   geo                                         394 non-null    object\n",
      " 1   Year                                        394 non-null    object\n",
      " 2   Unemployment as percentage of labour force  394 non-null    object\n",
      "dtypes: object(3)\n",
      "memory usage: 12.3+ KB\n"
     ]
    }
   ],
   "source": [
    "df.info()"
   ]
  },
  {
   "cell_type": "code",
   "execution_count": 41,
   "id": "8260d2bb-ca56-4903-863c-397c02bc84ab",
   "metadata": {},
   "outputs": [
    {
     "data": {
      "text/plain": [
       "geo                                            0\n",
       "Year                                           0\n",
       "Unemployment as percentage of labour force    13\n",
       "dtype: int64"
      ]
     },
     "execution_count": 41,
     "metadata": {},
     "output_type": "execute_result"
    }
   ],
   "source": [
    "act_df.isna().sum()"
   ]
  },
  {
   "cell_type": "code",
   "execution_count": 42,
   "id": "dd25a8c6-ac8f-47f1-ac63-c0d331202209",
   "metadata": {},
   "outputs": [
    {
     "data": {
      "text/plain": [
       "geo                                           0\n",
       "Year                                          0\n",
       "Unemployment as percentage of labour force    0\n",
       "dtype: int64"
      ]
     },
     "execution_count": 42,
     "metadata": {},
     "output_type": "execute_result"
    }
   ],
   "source": [
    "act_df.dropna(inplace=True)\n",
    "act_df.isna().sum()"
   ]
  },
  {
   "cell_type": "markdown",
   "id": "24044f03-ceeb-44b1-9574-facb8a9711aa",
   "metadata": {},
   "source": [
    "### 3.7) Checking for duplicates"
   ]
  },
  {
   "cell_type": "code",
   "execution_count": 44,
   "id": "3b7ab1f6-7ff4-4eb0-8a22-2e79e32aaa4d",
   "metadata": {},
   "outputs": [
    {
     "data": {
      "text/plain": [
       "0"
      ]
     },
     "execution_count": 44,
     "metadata": {},
     "output_type": "execute_result"
    }
   ],
   "source": [
    "df.duplicated().sum()"
   ]
  },
  {
   "cell_type": "code",
   "execution_count": 45,
   "id": "4aca38a2-0ad2-4d40-8f74-fdc76fb2f324",
   "metadata": {},
   "outputs": [
    {
     "data": {
      "text/plain": [
       "0"
      ]
     },
     "execution_count": 45,
     "metadata": {},
     "output_type": "execute_result"
    }
   ],
   "source": [
    "act_df.duplicated().sum()"
   ]
  },
  {
   "cell_type": "markdown",
   "id": "269d527b-4267-414a-ba4e-eb84ccec75d3",
   "metadata": {},
   "source": [
    "### 3.8) Renaming columns"
   ]
  },
  {
   "cell_type": "code",
   "execution_count": 47,
   "id": "8af9c645-367d-4e5d-adb2-f4f0559c6449",
   "metadata": {},
   "outputs": [
    {
     "data": {
      "text/html": [
       "<div>\n",
       "<style scoped>\n",
       "    .dataframe tbody tr th:only-of-type {\n",
       "        vertical-align: middle;\n",
       "    }\n",
       "\n",
       "    .dataframe tbody tr th {\n",
       "        vertical-align: top;\n",
       "    }\n",
       "\n",
       "    .dataframe thead th {\n",
       "        text-align: right;\n",
       "    }\n",
       "</style>\n",
       "<table border=\"1\" class=\"dataframe\">\n",
       "  <thead>\n",
       "    <tr style=\"text-align: right;\">\n",
       "      <th></th>\n",
       "      <th>Country</th>\n",
       "      <th>Year</th>\n",
       "      <th>Unemployment as % of labour force</th>\n",
       "    </tr>\n",
       "  </thead>\n",
       "  <tbody>\n",
       "    <tr>\n",
       "      <th>0</th>\n",
       "      <td>AT</td>\n",
       "      <td>2012</td>\n",
       "      <td>3.5</td>\n",
       "    </tr>\n",
       "    <tr>\n",
       "      <th>2</th>\n",
       "      <td>BE</td>\n",
       "      <td>2012</td>\n",
       "      <td>4.6</td>\n",
       "    </tr>\n",
       "    <tr>\n",
       "      <th>3</th>\n",
       "      <td>BG</td>\n",
       "      <td>2012</td>\n",
       "      <td>7.8</td>\n",
       "    </tr>\n",
       "    <tr>\n",
       "      <th>4</th>\n",
       "      <td>CH</td>\n",
       "      <td>2012</td>\n",
       "      <td>3.3</td>\n",
       "    </tr>\n",
       "    <tr>\n",
       "      <th>5</th>\n",
       "      <td>CY</td>\n",
       "      <td>2012</td>\n",
       "      <td>8.0</td>\n",
       "    </tr>\n",
       "  </tbody>\n",
       "</table>\n",
       "</div>"
      ],
      "text/plain": [
       "  Country   Year Unemployment as % of labour force\n",
       "0      AT  2012                               3.5 \n",
       "2      BE  2012                               4.6 \n",
       "3      BG  2012                               7.8 \n",
       "4      CH  2012                               3.3 \n",
       "5      CY  2012                               8.0 "
      ]
     },
     "execution_count": 47,
     "metadata": {},
     "output_type": "execute_result"
    }
   ],
   "source": [
    "df.rename(columns={\"geo\": \"Country\", \"Unemployment as percentage of labour force\": \"Unemployment as % of labour force\"}, inplace= True)\n",
    "df.head()"
   ]
  },
  {
   "cell_type": "code",
   "execution_count": 48,
   "id": "4274b0ba-c9d2-4bdf-8d0b-1d51a8642f29",
   "metadata": {},
   "outputs": [
    {
     "data": {
      "text/html": [
       "<div>\n",
       "<style scoped>\n",
       "    .dataframe tbody tr th:only-of-type {\n",
       "        vertical-align: middle;\n",
       "    }\n",
       "\n",
       "    .dataframe tbody tr th {\n",
       "        vertical-align: top;\n",
       "    }\n",
       "\n",
       "    .dataframe thead th {\n",
       "        text-align: right;\n",
       "    }\n",
       "</style>\n",
       "<table border=\"1\" class=\"dataframe\">\n",
       "  <thead>\n",
       "    <tr style=\"text-align: right;\">\n",
       "      <th></th>\n",
       "      <th>Country</th>\n",
       "      <th>Year</th>\n",
       "      <th>Unemployment as % of labour force</th>\n",
       "    </tr>\n",
       "  </thead>\n",
       "  <tbody>\n",
       "    <tr>\n",
       "      <th>0</th>\n",
       "      <td>AT</td>\n",
       "      <td>2012</td>\n",
       "      <td>5.2</td>\n",
       "    </tr>\n",
       "    <tr>\n",
       "      <th>2</th>\n",
       "      <td>BE</td>\n",
       "      <td>2012</td>\n",
       "      <td>7.6</td>\n",
       "    </tr>\n",
       "    <tr>\n",
       "      <th>3</th>\n",
       "      <td>BG</td>\n",
       "      <td>2012</td>\n",
       "      <td>13.3</td>\n",
       "    </tr>\n",
       "    <tr>\n",
       "      <th>4</th>\n",
       "      <td>CH</td>\n",
       "      <td>2012</td>\n",
       "      <td>4.5</td>\n",
       "    </tr>\n",
       "    <tr>\n",
       "      <th>5</th>\n",
       "      <td>CY</td>\n",
       "      <td>2012</td>\n",
       "      <td>11.9</td>\n",
       "    </tr>\n",
       "  </tbody>\n",
       "</table>\n",
       "</div>"
      ],
      "text/plain": [
       "  Country   Year Unemployment as % of labour force\n",
       "0      AT  2012                               5.2 \n",
       "2      BE  2012                               7.6 \n",
       "3      BG  2012                              13.3 \n",
       "4      CH  2012                               4.5 \n",
       "5      CY  2012                              11.9 "
      ]
     },
     "execution_count": 48,
     "metadata": {},
     "output_type": "execute_result"
    }
   ],
   "source": [
    "act_df.rename(columns={\"geo\": \"Country\", \"Unemployment as percentage of labour force\": \"Unemployment as % of labour force\"}, inplace= True)\n",
    "act_df.head()"
   ]
  },
  {
   "cell_type": "code",
   "execution_count": null,
   "id": "7737ce3a-2336-4ce5-84d6-843f13ec4759",
   "metadata": {},
   "outputs": [],
   "source": []
  },
  {
   "cell_type": "markdown",
   "id": "8b66a938-571a-4d61-a33b-794e1c1b7e0f",
   "metadata": {},
   "source": [
    "### 3.9) Transforming values in 'Country' from abbreviations to full country names "
   ]
  },
  {
   "cell_type": "markdown",
   "id": "5214d567-b67f-4c33-9749-1dcae377e00e",
   "metadata": {},
   "source": [
    "So that the data can be merged with the other data"
   ]
  },
  {
   "cell_type": "code",
   "execution_count": 51,
   "id": "9462f71f-e754-4461-b70e-3fb1d76d4731",
   "metadata": {},
   "outputs": [
    {
     "name": "stdout",
     "output_type": "stream",
     "text": [
      "<class 'pandas.core.frame.DataFrame'>\n",
      "Index: 394 entries, 0 to 406\n",
      "Data columns (total 3 columns):\n",
      " #   Column                             Non-Null Count  Dtype \n",
      "---  ------                             --------------  ----- \n",
      " 0   Country                            394 non-null    object\n",
      " 1   Year                               394 non-null    object\n",
      " 2   Unemployment as % of labour force  394 non-null    object\n",
      "dtypes: object(3)\n",
      "memory usage: 12.3+ KB\n"
     ]
    }
   ],
   "source": [
    "df.info()"
   ]
  },
  {
   "cell_type": "code",
   "execution_count": 52,
   "id": "c2ea70d5-6378-45d2-82b4-3f8162f87e34",
   "metadata": {},
   "outputs": [
    {
     "data": {
      "text/html": [
       "<div>\n",
       "<style scoped>\n",
       "    .dataframe tbody tr th:only-of-type {\n",
       "        vertical-align: middle;\n",
       "    }\n",
       "\n",
       "    .dataframe tbody tr th {\n",
       "        vertical-align: top;\n",
       "    }\n",
       "\n",
       "    .dataframe thead th {\n",
       "        text-align: right;\n",
       "    }\n",
       "</style>\n",
       "<table border=\"1\" class=\"dataframe\">\n",
       "  <thead>\n",
       "    <tr style=\"text-align: right;\">\n",
       "      <th></th>\n",
       "      <th>Country</th>\n",
       "      <th>Year</th>\n",
       "      <th>Unemployment as % of labour force</th>\n",
       "    </tr>\n",
       "  </thead>\n",
       "  <tbody>\n",
       "    <tr>\n",
       "      <th>0</th>\n",
       "      <td>Austria</td>\n",
       "      <td>2012</td>\n",
       "      <td>3.5</td>\n",
       "    </tr>\n",
       "    <tr>\n",
       "      <th>2</th>\n",
       "      <td>Belgium</td>\n",
       "      <td>2012</td>\n",
       "      <td>4.6</td>\n",
       "    </tr>\n",
       "    <tr>\n",
       "      <th>3</th>\n",
       "      <td>Bulgaria</td>\n",
       "      <td>2012</td>\n",
       "      <td>7.8</td>\n",
       "    </tr>\n",
       "    <tr>\n",
       "      <th>4</th>\n",
       "      <td>Switzerland</td>\n",
       "      <td>2012</td>\n",
       "      <td>3.3</td>\n",
       "    </tr>\n",
       "    <tr>\n",
       "      <th>5</th>\n",
       "      <td>Cyprus</td>\n",
       "      <td>2012</td>\n",
       "      <td>8.0</td>\n",
       "    </tr>\n",
       "  </tbody>\n",
       "</table>\n",
       "</div>"
      ],
      "text/plain": [
       "       Country   Year Unemployment as % of labour force\n",
       "0      Austria  2012                               3.5 \n",
       "2      Belgium  2012                               4.6 \n",
       "3     Bulgaria  2012                               7.8 \n",
       "4  Switzerland  2012                               3.3 \n",
       "5       Cyprus  2012                               8.0 "
      ]
     },
     "execution_count": 52,
     "metadata": {},
     "output_type": "execute_result"
    }
   ],
   "source": [
    "# Creating a country mapper\n",
    "country_mapping = {country.alpha_2: country.name for country in pycountry.countries}\n",
    "\n",
    "# Replace abbreviations with full country names\n",
    "df['Country'] = df['Country'].replace(country_mapping)\n",
    "df.head()"
   ]
  },
  {
   "cell_type": "code",
   "execution_count": 53,
   "id": "39bd9ef1-cee9-4935-8d34-eefbe0dea039",
   "metadata": {},
   "outputs": [
    {
     "name": "stdout",
     "output_type": "stream",
     "text": [
      "<class 'pandas.core.frame.DataFrame'>\n",
      "Index: 394 entries, 0 to 406\n",
      "Data columns (total 3 columns):\n",
      " #   Column                             Non-Null Count  Dtype \n",
      "---  ------                             --------------  ----- \n",
      " 0   Country                            394 non-null    object\n",
      " 1   Year                               394 non-null    object\n",
      " 2   Unemployment as % of labour force  394 non-null    object\n",
      "dtypes: object(3)\n",
      "memory usage: 12.3+ KB\n"
     ]
    }
   ],
   "source": [
    "df.info()"
   ]
  },
  {
   "cell_type": "code",
   "execution_count": 54,
   "id": "a11ca584-c5c3-45c6-bc48-12a5b00bce1b",
   "metadata": {},
   "outputs": [
    {
     "data": {
      "text/plain": [
       "Country                              0\n",
       "Year                                 0\n",
       "Unemployment as % of labour force    0\n",
       "dtype: int64"
      ]
     },
     "execution_count": 54,
     "metadata": {},
     "output_type": "execute_result"
    }
   ],
   "source": [
    "df.isna().sum()"
   ]
  },
  {
   "cell_type": "code",
   "execution_count": 55,
   "id": "36375dc1-c56a-473b-ac09-d5ae74f8fd14",
   "metadata": {},
   "outputs": [
    {
     "data": {
      "text/html": [
       "<div>\n",
       "<style scoped>\n",
       "    .dataframe tbody tr th:only-of-type {\n",
       "        vertical-align: middle;\n",
       "    }\n",
       "\n",
       "    .dataframe tbody tr th {\n",
       "        vertical-align: top;\n",
       "    }\n",
       "\n",
       "    .dataframe thead th {\n",
       "        text-align: right;\n",
       "    }\n",
       "</style>\n",
       "<table border=\"1\" class=\"dataframe\">\n",
       "  <thead>\n",
       "    <tr style=\"text-align: right;\">\n",
       "      <th></th>\n",
       "      <th>Country</th>\n",
       "      <th>Year</th>\n",
       "      <th>Unemployment as % of labour force</th>\n",
       "    </tr>\n",
       "  </thead>\n",
       "  <tbody>\n",
       "    <tr>\n",
       "      <th>0</th>\n",
       "      <td>Austria</td>\n",
       "      <td>2012</td>\n",
       "      <td>5.2</td>\n",
       "    </tr>\n",
       "    <tr>\n",
       "      <th>2</th>\n",
       "      <td>Belgium</td>\n",
       "      <td>2012</td>\n",
       "      <td>7.6</td>\n",
       "    </tr>\n",
       "    <tr>\n",
       "      <th>3</th>\n",
       "      <td>Bulgaria</td>\n",
       "      <td>2012</td>\n",
       "      <td>13.3</td>\n",
       "    </tr>\n",
       "    <tr>\n",
       "      <th>4</th>\n",
       "      <td>Switzerland</td>\n",
       "      <td>2012</td>\n",
       "      <td>4.5</td>\n",
       "    </tr>\n",
       "    <tr>\n",
       "      <th>5</th>\n",
       "      <td>Cyprus</td>\n",
       "      <td>2012</td>\n",
       "      <td>11.9</td>\n",
       "    </tr>\n",
       "  </tbody>\n",
       "</table>\n",
       "</div>"
      ],
      "text/plain": [
       "       Country   Year Unemployment as % of labour force\n",
       "0      Austria  2012                               5.2 \n",
       "2      Belgium  2012                               7.6 \n",
       "3     Bulgaria  2012                              13.3 \n",
       "4  Switzerland  2012                               4.5 \n",
       "5       Cyprus  2012                              11.9 "
      ]
     },
     "execution_count": 55,
     "metadata": {},
     "output_type": "execute_result"
    }
   ],
   "source": [
    "# Creating a country mapper\n",
    "country_mapping2 = {country.alpha_2: country.name for country in pycountry.countries}\n",
    "\n",
    "# Replacing abbreviations with full country names\n",
    "act_df['Country'] = act_df['Country'].replace(country_mapping2)\n",
    "act_df.head()"
   ]
  },
  {
   "cell_type": "code",
   "execution_count": 56,
   "id": "54dc0bab-771f-48d0-b684-e8fb303cfb24",
   "metadata": {},
   "outputs": [
    {
     "name": "stdout",
     "output_type": "stream",
     "text": [
      "<class 'pandas.core.frame.DataFrame'>\n",
      "Index: 394 entries, 0 to 406\n",
      "Data columns (total 3 columns):\n",
      " #   Column                             Non-Null Count  Dtype \n",
      "---  ------                             --------------  ----- \n",
      " 0   Country                            394 non-null    object\n",
      " 1   Year                               394 non-null    object\n",
      " 2   Unemployment as % of labour force  394 non-null    object\n",
      "dtypes: object(3)\n",
      "memory usage: 12.3+ KB\n"
     ]
    }
   ],
   "source": [
    "act_df.info()"
   ]
  },
  {
   "cell_type": "markdown",
   "id": "173ed3e9-09eb-452a-bbed-f258ab8e71da",
   "metadata": {},
   "source": [
    "### 3.10) Transforming \"numeric\" object values to numeric values "
   ]
  },
  {
   "cell_type": "code",
   "execution_count": 58,
   "id": "85028122-205e-4afb-adac-86528c2c8257",
   "metadata": {},
   "outputs": [],
   "source": [
    "df['Year'] = pd.to_numeric(df['Year'], errors='coerce').astype('int64')\n",
    "act_df['Year'] = pd.to_numeric(act_df['Year'], errors='coerce').astype('int64')\n",
    "\n",
    "# Convert to float64 (if values contain decimals)\n",
    "df['Unemployment as % of labour force'] = pd.to_numeric(df['Unemployment as % of labour force'], errors='coerce').astype('float64')\n",
    "act_df['Unemployment as % of labour force'] = pd.to_numeric(act_df['Unemployment as % of labour force'], errors='coerce').astype('float64')"
   ]
  },
  {
   "cell_type": "code",
   "execution_count": 59,
   "id": "b4cc37c2-70e0-4cd0-9ddf-37b2b74174bc",
   "metadata": {},
   "outputs": [
    {
     "name": "stdout",
     "output_type": "stream",
     "text": [
      "<class 'pandas.core.frame.DataFrame'>\n",
      "Index: 394 entries, 0 to 406\n",
      "Data columns (total 3 columns):\n",
      " #   Column                             Non-Null Count  Dtype  \n",
      "---  ------                             --------------  -----  \n",
      " 0   Country                            394 non-null    object \n",
      " 1   Year                               394 non-null    int64  \n",
      " 2   Unemployment as % of labour force  376 non-null    float64\n",
      "dtypes: float64(1), int64(1), object(1)\n",
      "memory usage: 12.3+ KB\n"
     ]
    }
   ],
   "source": [
    "df.info()"
   ]
  },
  {
   "cell_type": "code",
   "execution_count": 60,
   "id": "f05cba8d-d23a-4cf1-a269-12c112c21d55",
   "metadata": {},
   "outputs": [
    {
     "name": "stdout",
     "output_type": "stream",
     "text": [
      "<class 'pandas.core.frame.DataFrame'>\n",
      "Index: 394 entries, 0 to 406\n",
      "Data columns (total 3 columns):\n",
      " #   Column                             Non-Null Count  Dtype  \n",
      "---  ------                             --------------  -----  \n",
      " 0   Country                            394 non-null    object \n",
      " 1   Year                               394 non-null    int64  \n",
      " 2   Unemployment as % of labour force  376 non-null    float64\n",
      "dtypes: float64(1), int64(1), object(1)\n",
      "memory usage: 12.3+ KB\n"
     ]
    }
   ],
   "source": [
    "act_df.info()"
   ]
  },
  {
   "cell_type": "markdown",
   "id": "7773c78d-80fb-4834-9934-e2e4bb37cb06",
   "metadata": {},
   "source": [
    "### 3.11) Removing new missing values "
   ]
  },
  {
   "cell_type": "markdown",
   "id": "82e0ec3e-bfe6-4b38-9f8c-8a64f4a7bd1a",
   "metadata": {},
   "source": [
    "error=\"coerce\" in the above creates missing values if it can't convert the values from object to numeric"
   ]
  },
  {
   "cell_type": "code",
   "execution_count": 63,
   "id": "ef9e6c1f-3555-479c-9908-2316be3a1928",
   "metadata": {},
   "outputs": [],
   "source": [
    "df.dropna(inplace=True)\n",
    "act_df.dropna(inplace=True)"
   ]
  },
  {
   "cell_type": "code",
   "execution_count": 64,
   "id": "19116951-3881-476f-9d24-83e06534d71c",
   "metadata": {},
   "outputs": [
    {
     "name": "stdout",
     "output_type": "stream",
     "text": [
      "<class 'pandas.core.frame.DataFrame'>\n",
      "Index: 376 entries, 0 to 406\n",
      "Data columns (total 3 columns):\n",
      " #   Column                             Non-Null Count  Dtype  \n",
      "---  ------                             --------------  -----  \n",
      " 0   Country                            376 non-null    object \n",
      " 1   Year                               376 non-null    int64  \n",
      " 2   Unemployment as % of labour force  376 non-null    float64\n",
      "dtypes: float64(1), int64(1), object(1)\n",
      "memory usage: 11.8+ KB\n"
     ]
    }
   ],
   "source": [
    "df.info()"
   ]
  },
  {
   "cell_type": "code",
   "execution_count": 65,
   "id": "84d33aff-d0e4-4da7-931c-04af0350859a",
   "metadata": {},
   "outputs": [
    {
     "name": "stdout",
     "output_type": "stream",
     "text": [
      "<class 'pandas.core.frame.DataFrame'>\n",
      "Index: 376 entries, 0 to 406\n",
      "Data columns (total 3 columns):\n",
      " #   Column                             Non-Null Count  Dtype  \n",
      "---  ------                             --------------  -----  \n",
      " 0   Country                            376 non-null    object \n",
      " 1   Year                               376 non-null    int64  \n",
      " 2   Unemployment as % of labour force  376 non-null    float64\n",
      "dtypes: float64(1), int64(1), object(1)\n",
      "memory usage: 11.8+ KB\n"
     ]
    }
   ],
   "source": [
    "act_df.info()"
   ]
  },
  {
   "cell_type": "code",
   "execution_count": null,
   "id": "28fa5e8f-4e75-45c4-9f23-cfe69dd200bd",
   "metadata": {},
   "outputs": [],
   "source": []
  },
  {
   "cell_type": "markdown",
   "id": "74fe3262-cc4e-4fa3-b639-9d4ebac07ddd",
   "metadata": {},
   "source": [
    "# 4) Storing data frame in file"
   ]
  },
  {
   "cell_type": "code",
   "execution_count": 67,
   "id": "3edbd76a-8a2a-4f1a-b76f-a9426f73f165",
   "metadata": {},
   "outputs": [],
   "source": [
    "with pd.HDFStore('dataframes.h5') as store:\n",
    "    store['unempl_pop_df'] = df"
   ]
  },
  {
   "cell_type": "code",
   "execution_count": 68,
   "id": "daa1a59f-425a-405f-b687-fdb9a61c269f",
   "metadata": {},
   "outputs": [],
   "source": [
    "with pd.HDFStore('dataframes.h5') as store:\n",
    "    store['unempl_act_df'] = act_df"
   ]
  },
  {
   "cell_type": "code",
   "execution_count": null,
   "id": "62d350af-e3ac-4cd8-b58a-44bfd180fd99",
   "metadata": {},
   "outputs": [],
   "source": []
  }
 ],
 "metadata": {
  "kernelspec": {
   "display_name": "Python 3 (ipykernel)",
   "language": "python",
   "name": "python3"
  },
  "language_info": {
   "codemirror_mode": {
    "name": "ipython",
    "version": 3
   },
   "file_extension": ".py",
   "mimetype": "text/x-python",
   "name": "python",
   "nbconvert_exporter": "python",
   "pygments_lexer": "ipython3",
   "version": "3.12.4"
  }
 },
 "nbformat": 4,
 "nbformat_minor": 5
}
