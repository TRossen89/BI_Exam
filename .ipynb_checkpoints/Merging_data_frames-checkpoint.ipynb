{
 "cells": [
  {
   "cell_type": "markdown",
   "id": "a2144c1f-6503-4ccd-9c12-4cf17e75831a",
   "metadata": {},
   "source": [
    "# Merging dataframes"
   ]
  },
  {
   "cell_type": "markdown",
   "id": "36a11379-0f07-4cd7-8ffa-1579638cd431",
   "metadata": {},
   "source": [
    "# Imports"
   ]
  },
  {
   "cell_type": "code",
   "execution_count": 3,
   "id": "dae44f2d-dbed-45c4-aa90-d83ac652259d",
   "metadata": {},
   "outputs": [],
   "source": [
    "import pandas as pd\n",
    "import numpy as np"
   ]
  },
  {
   "cell_type": "markdown",
   "id": "fa86562e-154d-4712-a1ca-c69b66491747",
   "metadata": {},
   "source": [
    "# 1) Merging Social Expenditure Data with World Happiness data"
   ]
  },
  {
   "cell_type": "markdown",
   "id": "3b7583f8-5211-4be6-a7b8-1c24c4fe1c72",
   "metadata": {},
   "source": [
    "### 1.1) Loading data from file with data frames"
   ]
  },
  {
   "cell_type": "code",
   "execution_count": 6,
   "id": "101bda76-3445-484a-9858-7579d8e082a8",
   "metadata": {},
   "outputs": [],
   "source": [
    "file_name = 'dataframes.h5'\n",
    "hap_key = \"happiness_df\"\n",
    "soc_key = \"social_exp_df\"\n",
    "\n",
    "hap_df = pd.read_hdf(file_name, hap_key)\n",
    "soc_df = pd.read_hdf(file_name, soc_key)"
   ]
  },
  {
   "cell_type": "markdown",
   "id": "987eaa15-c372-4fba-984f-3099934b3de4",
   "metadata": {},
   "source": [
    "### 1.2) Merging data frames"
   ]
  },
  {
   "cell_type": "code",
   "execution_count": 8,
   "id": "a5551286-3255-440d-87d6-7c51468106dc",
   "metadata": {},
   "outputs": [
    {
     "data": {
      "text/html": [
       "<div>\n",
       "<style scoped>\n",
       "    .dataframe tbody tr th:only-of-type {\n",
       "        vertical-align: middle;\n",
       "    }\n",
       "\n",
       "    .dataframe tbody tr th {\n",
       "        vertical-align: top;\n",
       "    }\n",
       "\n",
       "    .dataframe thead th {\n",
       "        text-align: right;\n",
       "    }\n",
       "</style>\n",
       "<table border=\"1\" class=\"dataframe\">\n",
       "  <thead>\n",
       "    <tr style=\"text-align: right;\">\n",
       "      <th></th>\n",
       "      <th>Country</th>\n",
       "      <th>Year</th>\n",
       "      <th>Life Ladder</th>\n",
       "      <th>Log GDP per capita</th>\n",
       "      <th>Social support</th>\n",
       "      <th>Healthy life expectancy at birth</th>\n",
       "      <th>Freedom to make life choices</th>\n",
       "      <th>Generosity</th>\n",
       "      <th>Perceptions of corruption</th>\n",
       "      <th>Positive affect</th>\n",
       "      <th>Negative affect</th>\n",
       "      <th>Social expenditure as % of GDP</th>\n",
       "    </tr>\n",
       "  </thead>\n",
       "  <tbody>\n",
       "    <tr>\n",
       "      <th>0</th>\n",
       "      <td>Australia</td>\n",
       "      <td>2007</td>\n",
       "      <td>7.285391</td>\n",
       "      <td>10.694434</td>\n",
       "      <td>0.965276</td>\n",
       "      <td>69.959999</td>\n",
       "      <td>0.890682</td>\n",
       "      <td>0.343434</td>\n",
       "      <td>0.512578</td>\n",
       "      <td>0.762304</td>\n",
       "      <td>0.215351</td>\n",
       "      <td>15.858</td>\n",
       "    </tr>\n",
       "    <tr>\n",
       "      <th>1</th>\n",
       "      <td>Australia</td>\n",
       "      <td>2008</td>\n",
       "      <td>7.253757</td>\n",
       "      <td>10.709456</td>\n",
       "      <td>0.946635</td>\n",
       "      <td>70.040001</td>\n",
       "      <td>0.915733</td>\n",
       "      <td>0.301722</td>\n",
       "      <td>0.430811</td>\n",
       "      <td>0.728992</td>\n",
       "      <td>0.218427</td>\n",
       "      <td>17.050</td>\n",
       "    </tr>\n",
       "    <tr>\n",
       "      <th>2</th>\n",
       "      <td>Australia</td>\n",
       "      <td>2010</td>\n",
       "      <td>7.450047</td>\n",
       "      <td>10.713649</td>\n",
       "      <td>0.954520</td>\n",
       "      <td>70.199997</td>\n",
       "      <td>0.932059</td>\n",
       "      <td>0.313121</td>\n",
       "      <td>0.366127</td>\n",
       "      <td>0.761716</td>\n",
       "      <td>0.220073</td>\n",
       "      <td>16.553</td>\n",
       "    </tr>\n",
       "    <tr>\n",
       "      <th>3</th>\n",
       "      <td>Australia</td>\n",
       "      <td>2011</td>\n",
       "      <td>7.405616</td>\n",
       "      <td>10.723386</td>\n",
       "      <td>0.967029</td>\n",
       "      <td>70.279999</td>\n",
       "      <td>0.944586</td>\n",
       "      <td>0.365759</td>\n",
       "      <td>0.381772</td>\n",
       "      <td>0.724132</td>\n",
       "      <td>0.195324</td>\n",
       "      <td>17.020</td>\n",
       "    </tr>\n",
       "    <tr>\n",
       "      <th>4</th>\n",
       "      <td>Australia</td>\n",
       "      <td>2012</td>\n",
       "      <td>7.195586</td>\n",
       "      <td>10.744205</td>\n",
       "      <td>0.944599</td>\n",
       "      <td>70.360001</td>\n",
       "      <td>0.935146</td>\n",
       "      <td>0.270048</td>\n",
       "      <td>0.368252</td>\n",
       "      <td>0.728092</td>\n",
       "      <td>0.214397</td>\n",
       "      <td>17.308</td>\n",
       "    </tr>\n",
       "  </tbody>\n",
       "</table>\n",
       "</div>"
      ],
      "text/plain": [
       "     Country  Year  Life Ladder  Log GDP per capita  Social support  \\\n",
       "0  Australia  2007     7.285391           10.694434        0.965276   \n",
       "1  Australia  2008     7.253757           10.709456        0.946635   \n",
       "2  Australia  2010     7.450047           10.713649        0.954520   \n",
       "3  Australia  2011     7.405616           10.723386        0.967029   \n",
       "4  Australia  2012     7.195586           10.744205        0.944599   \n",
       "\n",
       "   Healthy life expectancy at birth  Freedom to make life choices  Generosity  \\\n",
       "0                         69.959999                      0.890682    0.343434   \n",
       "1                         70.040001                      0.915733    0.301722   \n",
       "2                         70.199997                      0.932059    0.313121   \n",
       "3                         70.279999                      0.944586    0.365759   \n",
       "4                         70.360001                      0.935146    0.270048   \n",
       "\n",
       "   Perceptions of corruption  Positive affect  Negative affect  \\\n",
       "0                   0.512578         0.762304         0.215351   \n",
       "1                   0.430811         0.728992         0.218427   \n",
       "2                   0.366127         0.761716         0.220073   \n",
       "3                   0.381772         0.724132         0.195324   \n",
       "4                   0.368252         0.728092         0.214397   \n",
       "\n",
       "   Social expenditure as % of GDP  \n",
       "0                          15.858  \n",
       "1                          17.050  \n",
       "2                          16.553  \n",
       "3                          17.020  \n",
       "4                          17.308  "
      ]
     },
     "execution_count": 8,
     "metadata": {},
     "output_type": "execute_result"
    }
   ],
   "source": [
    "hap_soc_df = pd.merge(hap_df, soc_df, on =['Country', 'Year'], how='inner') \n",
    "hap_soc_df.head()"
   ]
  },
  {
   "cell_type": "code",
   "execution_count": 9,
   "id": "b7e6d3e3-641b-477c-844d-9bf964e5a703",
   "metadata": {},
   "outputs": [
    {
     "name": "stdout",
     "output_type": "stream",
     "text": [
      "<class 'pandas.core.frame.DataFrame'>\n",
      "RangeIndex: 424 entries, 0 to 423\n",
      "Data columns (total 12 columns):\n",
      " #   Column                            Non-Null Count  Dtype  \n",
      "---  ------                            --------------  -----  \n",
      " 0   Country                           424 non-null    object \n",
      " 1   Year                              424 non-null    int64  \n",
      " 2   Life Ladder                       424 non-null    float64\n",
      " 3   Log GDP per capita                424 non-null    float64\n",
      " 4   Social support                    424 non-null    float64\n",
      " 5   Healthy life expectancy at birth  424 non-null    float64\n",
      " 6   Freedom to make life choices      424 non-null    float64\n",
      " 7   Generosity                        424 non-null    float64\n",
      " 8   Perceptions of corruption         424 non-null    float64\n",
      " 9   Positive affect                   424 non-null    float64\n",
      " 10  Negative affect                   424 non-null    float64\n",
      " 11  Social expenditure as % of GDP    424 non-null    float64\n",
      "dtypes: float64(10), int64(1), object(1)\n",
      "memory usage: 39.9+ KB\n"
     ]
    }
   ],
   "source": [
    "hap_soc_df.info()"
   ]
  },
  {
   "cell_type": "markdown",
   "id": "8b3519f6-d191-4a88-9148-88e11c1e35a1",
   "metadata": {},
   "source": [
    "### 1.3) Storing data frame "
   ]
  },
  {
   "cell_type": "code",
   "execution_count": 11,
   "id": "16256b13-f082-4a9a-a00a-0eb81b8ea78c",
   "metadata": {},
   "outputs": [],
   "source": [
    "with pd.HDFStore('dataframes.h5') as store:\n",
    "    store['hap_soc_df'] = hap_soc_df"
   ]
  },
  {
   "cell_type": "markdown",
   "id": "401e6a7a-8dfb-411a-b955-669027fd9a6b",
   "metadata": {},
   "source": [
    "# 2) Merging taxation data into happiness and social expenditure data"
   ]
  },
  {
   "cell_type": "markdown",
   "id": "67123472-e12f-48df-9e70-a48ac8febcd3",
   "metadata": {},
   "source": [
    "### 2.1) Loading data from file with data frames"
   ]
  },
  {
   "cell_type": "code",
   "execution_count": 14,
   "id": "9eda2688-5709-4a6e-ab36-1bd0c3740b6b",
   "metadata": {},
   "outputs": [],
   "source": [
    "tax_key = \"taxation_df\"\n",
    "tax_df = pd.read_hdf(file_name, tax_key)"
   ]
  },
  {
   "cell_type": "markdown",
   "id": "749e2bea-08e2-4553-9e0d-0e2cb28909aa",
   "metadata": {},
   "source": [
    "### 2.2) Merging data frames"
   ]
  },
  {
   "cell_type": "code",
   "execution_count": 16,
   "id": "edcd0851-e6be-48a7-950c-fbec771b6b6c",
   "metadata": {},
   "outputs": [
    {
     "data": {
      "text/html": [
       "<div>\n",
       "<style scoped>\n",
       "    .dataframe tbody tr th:only-of-type {\n",
       "        vertical-align: middle;\n",
       "    }\n",
       "\n",
       "    .dataframe tbody tr th {\n",
       "        vertical-align: top;\n",
       "    }\n",
       "\n",
       "    .dataframe thead th {\n",
       "        text-align: right;\n",
       "    }\n",
       "</style>\n",
       "<table border=\"1\" class=\"dataframe\">\n",
       "  <thead>\n",
       "    <tr style=\"text-align: right;\">\n",
       "      <th></th>\n",
       "      <th>Country</th>\n",
       "      <th>Year</th>\n",
       "      <th>Life Ladder</th>\n",
       "      <th>Log GDP per capita</th>\n",
       "      <th>Social support</th>\n",
       "      <th>Healthy life expectancy at birth</th>\n",
       "      <th>Freedom to make life choices</th>\n",
       "      <th>Generosity</th>\n",
       "      <th>Perceptions of corruption</th>\n",
       "      <th>Positive affect</th>\n",
       "      <th>Negative affect</th>\n",
       "      <th>Social expenditure as % of GDP</th>\n",
       "      <th>Main aggregated taxation as % of GDP</th>\n",
       "      <th>Tax difference 2012-2022</th>\n",
       "    </tr>\n",
       "  </thead>\n",
       "  <tbody>\n",
       "    <tr>\n",
       "      <th>0</th>\n",
       "      <td>Austria</td>\n",
       "      <td>2010</td>\n",
       "      <td>7.302679</td>\n",
       "      <td>10.855984</td>\n",
       "      <td>0.914193</td>\n",
       "      <td>69.900002</td>\n",
       "      <td>0.895980</td>\n",
       "      <td>0.126924</td>\n",
       "      <td>0.546145</td>\n",
       "      <td>0.710302</td>\n",
       "      <td>0.155793</td>\n",
       "      <td>28.052</td>\n",
       "      <td>41.100269</td>\n",
       "      <td>1.3</td>\n",
       "    </tr>\n",
       "    <tr>\n",
       "      <th>1</th>\n",
       "      <td>Austria</td>\n",
       "      <td>2011</td>\n",
       "      <td>7.470513</td>\n",
       "      <td>10.881422</td>\n",
       "      <td>0.944157</td>\n",
       "      <td>70.000000</td>\n",
       "      <td>0.939356</td>\n",
       "      <td>0.127590</td>\n",
       "      <td>0.702721</td>\n",
       "      <td>0.672192</td>\n",
       "      <td>0.145238</td>\n",
       "      <td>27.231</td>\n",
       "      <td>41.229561</td>\n",
       "      <td>1.3</td>\n",
       "    </tr>\n",
       "    <tr>\n",
       "      <th>2</th>\n",
       "      <td>Austria</td>\n",
       "      <td>2012</td>\n",
       "      <td>7.400689</td>\n",
       "      <td>10.883644</td>\n",
       "      <td>0.945142</td>\n",
       "      <td>70.099998</td>\n",
       "      <td>0.919704</td>\n",
       "      <td>0.113814</td>\n",
       "      <td>0.770586</td>\n",
       "      <td>0.712150</td>\n",
       "      <td>0.156675</td>\n",
       "      <td>27.611</td>\n",
       "      <td>41.870248</td>\n",
       "      <td>1.3</td>\n",
       "    </tr>\n",
       "    <tr>\n",
       "      <th>3</th>\n",
       "      <td>Austria</td>\n",
       "      <td>2013</td>\n",
       "      <td>7.498803</td>\n",
       "      <td>10.878005</td>\n",
       "      <td>0.949809</td>\n",
       "      <td>70.199997</td>\n",
       "      <td>0.921734</td>\n",
       "      <td>0.164263</td>\n",
       "      <td>0.678937</td>\n",
       "      <td>0.725053</td>\n",
       "      <td>0.162603</td>\n",
       "      <td>28.031</td>\n",
       "      <td>42.740210</td>\n",
       "      <td>1.3</td>\n",
       "    </tr>\n",
       "    <tr>\n",
       "      <th>4</th>\n",
       "      <td>Austria</td>\n",
       "      <td>2014</td>\n",
       "      <td>6.950000</td>\n",
       "      <td>10.876781</td>\n",
       "      <td>0.898920</td>\n",
       "      <td>70.300003</td>\n",
       "      <td>0.885027</td>\n",
       "      <td>0.113623</td>\n",
       "      <td>0.566931</td>\n",
       "      <td>0.720965</td>\n",
       "      <td>0.170150</td>\n",
       "      <td>28.255</td>\n",
       "      <td>42.793747</td>\n",
       "      <td>1.3</td>\n",
       "    </tr>\n",
       "  </tbody>\n",
       "</table>\n",
       "</div>"
      ],
      "text/plain": [
       "   Country  Year  Life Ladder  Log GDP per capita  Social support  \\\n",
       "0  Austria  2010     7.302679           10.855984        0.914193   \n",
       "1  Austria  2011     7.470513           10.881422        0.944157   \n",
       "2  Austria  2012     7.400689           10.883644        0.945142   \n",
       "3  Austria  2013     7.498803           10.878005        0.949809   \n",
       "4  Austria  2014     6.950000           10.876781        0.898920   \n",
       "\n",
       "   Healthy life expectancy at birth  Freedom to make life choices  Generosity  \\\n",
       "0                         69.900002                      0.895980    0.126924   \n",
       "1                         70.000000                      0.939356    0.127590   \n",
       "2                         70.099998                      0.919704    0.113814   \n",
       "3                         70.199997                      0.921734    0.164263   \n",
       "4                         70.300003                      0.885027    0.113623   \n",
       "\n",
       "   Perceptions of corruption  Positive affect  Negative affect  \\\n",
       "0                   0.546145         0.710302         0.155793   \n",
       "1                   0.702721         0.672192         0.145238   \n",
       "2                   0.770586         0.712150         0.156675   \n",
       "3                   0.678937         0.725053         0.162603   \n",
       "4                   0.566931         0.720965         0.170150   \n",
       "\n",
       "   Social expenditure as % of GDP  Main aggregated taxation as % of GDP  \\\n",
       "0                          28.052                             41.100269   \n",
       "1                          27.231                             41.229561   \n",
       "2                          27.611                             41.870248   \n",
       "3                          28.031                             42.740210   \n",
       "4                          28.255                             42.793747   \n",
       "\n",
       "   Tax difference 2012-2022  \n",
       "0                       1.3  \n",
       "1                       1.3  \n",
       "2                       1.3  \n",
       "3                       1.3  \n",
       "4                       1.3  "
      ]
     },
     "execution_count": 16,
     "metadata": {},
     "output_type": "execute_result"
    }
   ],
   "source": [
    "hp_tax_df = pd.merge(hap_soc_df, tax_df, on =['Country', 'Year'], how='inner') \n",
    "hp_tax_df.head()"
   ]
  },
  {
   "cell_type": "code",
   "execution_count": 17,
   "id": "82b58867-c377-4fd0-be4d-b89a0980bbdc",
   "metadata": {},
   "outputs": [
    {
     "name": "stdout",
     "output_type": "stream",
     "text": [
      "<class 'pandas.core.frame.DataFrame'>\n",
      "RangeIndex: 286 entries, 0 to 285\n",
      "Data columns (total 14 columns):\n",
      " #   Column                                Non-Null Count  Dtype  \n",
      "---  ------                                --------------  -----  \n",
      " 0   Country                               286 non-null    object \n",
      " 1   Year                                  286 non-null    int64  \n",
      " 2   Life Ladder                           286 non-null    float64\n",
      " 3   Log GDP per capita                    286 non-null    float64\n",
      " 4   Social support                        286 non-null    float64\n",
      " 5   Healthy life expectancy at birth      286 non-null    float64\n",
      " 6   Freedom to make life choices          286 non-null    float64\n",
      " 7   Generosity                            286 non-null    float64\n",
      " 8   Perceptions of corruption             286 non-null    float64\n",
      " 9   Positive affect                       286 non-null    float64\n",
      " 10  Negative affect                       286 non-null    float64\n",
      " 11  Social expenditure as % of GDP        286 non-null    float64\n",
      " 12  Main aggregated taxation as % of GDP  286 non-null    float64\n",
      " 13  Tax difference 2012-2022              286 non-null    float64\n",
      "dtypes: float64(12), int64(1), object(1)\n",
      "memory usage: 31.4+ KB\n"
     ]
    }
   ],
   "source": [
    "hp_tax_df.info()"
   ]
  },
  {
   "cell_type": "markdown",
   "id": "2867d828-969a-4559-bba3-7257497924b1",
   "metadata": {},
   "source": [
    "### 2.3) Storing data frame "
   ]
  },
  {
   "cell_type": "code",
   "execution_count": 19,
   "id": "17d72e3d-2fa0-45cc-9cd1-579a4f80886f",
   "metadata": {},
   "outputs": [],
   "source": [
    "with pd.HDFStore('dataframes.h5') as store:\n",
    "    store['hp_tax_df'] = hp_tax_df"
   ]
  },
  {
   "cell_type": "markdown",
   "id": "b03f8f13-9511-4577-8dbc-0374163175a7",
   "metadata": {},
   "source": [
    "# 3) Merging unemployment data into happiness, social expenditure and taxation data"
   ]
  },
  {
   "cell_type": "code",
   "execution_count": 21,
   "id": "ae7351b4-f998-4eb3-b410-d3eb59cef582",
   "metadata": {},
   "outputs": [
    {
     "data": {
      "text/html": [
       "<div>\n",
       "<style scoped>\n",
       "    .dataframe tbody tr th:only-of-type {\n",
       "        vertical-align: middle;\n",
       "    }\n",
       "\n",
       "    .dataframe tbody tr th {\n",
       "        vertical-align: top;\n",
       "    }\n",
       "\n",
       "    .dataframe thead th {\n",
       "        text-align: right;\n",
       "    }\n",
       "</style>\n",
       "<table border=\"1\" class=\"dataframe\">\n",
       "  <thead>\n",
       "    <tr style=\"text-align: right;\">\n",
       "      <th></th>\n",
       "      <th>Country</th>\n",
       "      <th>Year</th>\n",
       "      <th>Life Ladder</th>\n",
       "      <th>Log GDP per capita</th>\n",
       "      <th>Social support</th>\n",
       "      <th>Healthy life expectancy at birth</th>\n",
       "      <th>Freedom to make life choices</th>\n",
       "      <th>Generosity</th>\n",
       "      <th>Perceptions of corruption</th>\n",
       "      <th>Positive affect</th>\n",
       "      <th>Negative affect</th>\n",
       "      <th>Social expenditure as % of GDP</th>\n",
       "      <th>Main aggregated taxation as % of GDP</th>\n",
       "      <th>Tax difference 2012-2022</th>\n",
       "      <th>Unemployment as % of labour force</th>\n",
       "    </tr>\n",
       "  </thead>\n",
       "  <tbody>\n",
       "    <tr>\n",
       "      <th>0</th>\n",
       "      <td>Austria</td>\n",
       "      <td>2012</td>\n",
       "      <td>7.400689</td>\n",
       "      <td>10.883644</td>\n",
       "      <td>0.945142</td>\n",
       "      <td>70.099998</td>\n",
       "      <td>0.919704</td>\n",
       "      <td>0.113814</td>\n",
       "      <td>0.770586</td>\n",
       "      <td>0.712150</td>\n",
       "      <td>0.156675</td>\n",
       "      <td>27.611</td>\n",
       "      <td>41.870248</td>\n",
       "      <td>1.3</td>\n",
       "      <td>5.2</td>\n",
       "    </tr>\n",
       "    <tr>\n",
       "      <th>1</th>\n",
       "      <td>Austria</td>\n",
       "      <td>2013</td>\n",
       "      <td>7.498803</td>\n",
       "      <td>10.878005</td>\n",
       "      <td>0.949809</td>\n",
       "      <td>70.199997</td>\n",
       "      <td>0.921734</td>\n",
       "      <td>0.164263</td>\n",
       "      <td>0.678937</td>\n",
       "      <td>0.725053</td>\n",
       "      <td>0.162603</td>\n",
       "      <td>28.031</td>\n",
       "      <td>42.740210</td>\n",
       "      <td>1.3</td>\n",
       "      <td>5.7</td>\n",
       "    </tr>\n",
       "    <tr>\n",
       "      <th>2</th>\n",
       "      <td>Austria</td>\n",
       "      <td>2014</td>\n",
       "      <td>6.950000</td>\n",
       "      <td>10.876781</td>\n",
       "      <td>0.898920</td>\n",
       "      <td>70.300003</td>\n",
       "      <td>0.885027</td>\n",
       "      <td>0.113623</td>\n",
       "      <td>0.566931</td>\n",
       "      <td>0.720965</td>\n",
       "      <td>0.170150</td>\n",
       "      <td>28.255</td>\n",
       "      <td>42.793747</td>\n",
       "      <td>1.3</td>\n",
       "      <td>6.0</td>\n",
       "    </tr>\n",
       "    <tr>\n",
       "      <th>3</th>\n",
       "      <td>Austria</td>\n",
       "      <td>2015</td>\n",
       "      <td>7.076447</td>\n",
       "      <td>10.875665</td>\n",
       "      <td>0.928110</td>\n",
       "      <td>70.400002</td>\n",
       "      <td>0.900305</td>\n",
       "      <td>0.094910</td>\n",
       "      <td>0.557480</td>\n",
       "      <td>0.747708</td>\n",
       "      <td>0.164469</td>\n",
       "      <td>28.261</td>\n",
       "      <td>43.211649</td>\n",
       "      <td>1.3</td>\n",
       "      <td>6.1</td>\n",
       "    </tr>\n",
       "    <tr>\n",
       "      <th>4</th>\n",
       "      <td>Austria</td>\n",
       "      <td>2016</td>\n",
       "      <td>7.048072</td>\n",
       "      <td>10.884549</td>\n",
       "      <td>0.926319</td>\n",
       "      <td>70.525002</td>\n",
       "      <td>0.888514</td>\n",
       "      <td>0.075823</td>\n",
       "      <td>0.523641</td>\n",
       "      <td>0.713451</td>\n",
       "      <td>0.197424</td>\n",
       "      <td>28.197</td>\n",
       "      <td>41.815396</td>\n",
       "      <td>1.3</td>\n",
       "      <td>6.5</td>\n",
       "    </tr>\n",
       "  </tbody>\n",
       "</table>\n",
       "</div>"
      ],
      "text/plain": [
       "   Country  Year  Life Ladder  Log GDP per capita  Social support  \\\n",
       "0  Austria  2012     7.400689           10.883644        0.945142   \n",
       "1  Austria  2013     7.498803           10.878005        0.949809   \n",
       "2  Austria  2014     6.950000           10.876781        0.898920   \n",
       "3  Austria  2015     7.076447           10.875665        0.928110   \n",
       "4  Austria  2016     7.048072           10.884549        0.926319   \n",
       "\n",
       "   Healthy life expectancy at birth  Freedom to make life choices  Generosity  \\\n",
       "0                         70.099998                      0.919704    0.113814   \n",
       "1                         70.199997                      0.921734    0.164263   \n",
       "2                         70.300003                      0.885027    0.113623   \n",
       "3                         70.400002                      0.900305    0.094910   \n",
       "4                         70.525002                      0.888514    0.075823   \n",
       "\n",
       "   Perceptions of corruption  Positive affect  Negative affect  \\\n",
       "0                   0.770586         0.712150         0.156675   \n",
       "1                   0.678937         0.725053         0.162603   \n",
       "2                   0.566931         0.720965         0.170150   \n",
       "3                   0.557480         0.747708         0.164469   \n",
       "4                   0.523641         0.713451         0.197424   \n",
       "\n",
       "   Social expenditure as % of GDP  Main aggregated taxation as % of GDP  \\\n",
       "0                          27.611                             41.870248   \n",
       "1                          28.031                             42.740210   \n",
       "2                          28.255                             42.793747   \n",
       "3                          28.261                             43.211649   \n",
       "4                          28.197                             41.815396   \n",
       "\n",
       "   Tax difference 2012-2022  Unemployment as % of labour force  \n",
       "0                       1.3                                5.2  \n",
       "1                       1.3                                5.7  \n",
       "2                       1.3                                6.0  \n",
       "3                       1.3                                6.1  \n",
       "4                       1.3                                6.5  "
      ]
     },
     "execution_count": 21,
     "metadata": {},
     "output_type": "execute_result"
    }
   ],
   "source": [
    "une_key = \"unempl_act_df\"\n",
    "\n",
    "une_df = pd.read_hdf(file_name, une_key)\n",
    "\n",
    "hpt_une_df = pd.merge(hp_tax_df, une_df, on =['Country', 'Year'], how='inner') \n",
    "hpt_une_df.head()"
   ]
  },
  {
   "cell_type": "code",
   "execution_count": 22,
   "id": "b0d16d52-5d55-4a22-9195-4538abb92790",
   "metadata": {},
   "outputs": [
    {
     "name": "stdout",
     "output_type": "stream",
     "text": [
      "<class 'pandas.core.frame.DataFrame'>\n",
      "RangeIndex: 222 entries, 0 to 221\n",
      "Data columns (total 15 columns):\n",
      " #   Column                                Non-Null Count  Dtype  \n",
      "---  ------                                --------------  -----  \n",
      " 0   Country                               222 non-null    object \n",
      " 1   Year                                  222 non-null    int64  \n",
      " 2   Life Ladder                           222 non-null    float64\n",
      " 3   Log GDP per capita                    222 non-null    float64\n",
      " 4   Social support                        222 non-null    float64\n",
      " 5   Healthy life expectancy at birth      222 non-null    float64\n",
      " 6   Freedom to make life choices          222 non-null    float64\n",
      " 7   Generosity                            222 non-null    float64\n",
      " 8   Perceptions of corruption             222 non-null    float64\n",
      " 9   Positive affect                       222 non-null    float64\n",
      " 10  Negative affect                       222 non-null    float64\n",
      " 11  Social expenditure as % of GDP        222 non-null    float64\n",
      " 12  Main aggregated taxation as % of GDP  222 non-null    float64\n",
      " 13  Tax difference 2012-2022              222 non-null    float64\n",
      " 14  Unemployment as % of labour force     222 non-null    float64\n",
      "dtypes: float64(13), int64(1), object(1)\n",
      "memory usage: 26.1+ KB\n"
     ]
    }
   ],
   "source": [
    "hpt_une_df.info()"
   ]
  },
  {
   "cell_type": "code",
   "execution_count": 23,
   "id": "f3f4d380-e7c3-42a8-bb3d-ead985d4de68",
   "metadata": {},
   "outputs": [],
   "source": [
    "with pd.HDFStore('dataframes.h5') as store:\n",
    "    store['all_df'] = hpt_une_df"
   ]
  },
  {
   "cell_type": "code",
   "execution_count": 24,
   "id": "d6f13ed5-c86c-473c-b866-34f0e22ce9a3",
   "metadata": {},
   "outputs": [
    {
     "data": {
      "text/plain": [
       "0"
      ]
     },
     "execution_count": 24,
     "metadata": {},
     "output_type": "execute_result"
    }
   ],
   "source": [
    "hap_soc_df.duplicated().sum()\n"
   ]
  },
  {
   "cell_type": "code",
   "execution_count": 25,
   "id": "08992eb6-5a0a-4b41-a84d-cc386cb7ae6c",
   "metadata": {},
   "outputs": [
    {
     "data": {
      "text/plain": [
       "0"
      ]
     },
     "execution_count": 25,
     "metadata": {},
     "output_type": "execute_result"
    }
   ],
   "source": [
    "hp_tax_df.duplicated().sum()\n"
   ]
  },
  {
   "cell_type": "code",
   "execution_count": 26,
   "id": "406293a1-71c4-4aa0-b2a4-a59edb6ba87c",
   "metadata": {},
   "outputs": [
    {
     "data": {
      "text/plain": [
       "0"
      ]
     },
     "execution_count": 26,
     "metadata": {},
     "output_type": "execute_result"
    }
   ],
   "source": [
    "hpt_une_df.duplicated().sum()"
   ]
  },
  {
   "cell_type": "code",
   "execution_count": null,
   "id": "a2f29816-1cbe-4e54-817f-42be5d535785",
   "metadata": {},
   "outputs": [],
   "source": []
  }
 ],
 "metadata": {
  "kernelspec": {
   "display_name": "Python 3 (ipykernel)",
   "language": "python",
   "name": "python3"
  },
  "language_info": {
   "codemirror_mode": {
    "name": "ipython",
    "version": 3
   },
   "file_extension": ".py",
   "mimetype": "text/x-python",
   "name": "python",
   "nbconvert_exporter": "python",
   "pygments_lexer": "ipython3",
   "version": "3.12.4"
  }
 },
 "nbformat": 4,
 "nbformat_minor": 5
}
