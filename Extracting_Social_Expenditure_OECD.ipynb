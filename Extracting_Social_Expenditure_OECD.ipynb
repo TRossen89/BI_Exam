{
 "cells": [
  {
   "cell_type": "markdown",
   "id": "6dfc3265-d37a-4799-880d-1b589e70f081",
   "metadata": {},
   "source": [
    "# Extracting data on Social Expenditure in OECD countries"
   ]
  },
  {
   "cell_type": "markdown",
   "id": "e2b77022-8073-4d14-aa49-551446627bf0",
   "metadata": {},
   "source": [
    "# Link\n",
    "\n",
    "OECD data explorer:\n",
    "https://data-explorer.oecd.org/\n",
    "\n",
    "SOCIAL EXPENDITURE (EU, USA, AUSTRALIA): https://data-explorer.oecd.org/vis?tm=Social%20expenditure&pg=0&snb=139&vw=tb&df[ds]=dsDisseminateFinalDMZ&df[id]=DSD_SOCX_AGG%40DF_SOCX_AGG&df[ag]=OECD.ELS.SPD&df[vs]=1.0&dq=AUS%2BAUT%2BBEL%2BCZE%2BDNK%2BEST%2BFIN%2BDEU%2BFRA%2BGRC%2BHUN%2BISL%2BIRL%2BISR%2BITA%2BLVA%2BLTU%2BLUX%2BNLD%2BNZL%2BNOR%2BPOL%2BPRT%2BSVK%2BSVN%2BESP%2BSWE%2BCHE%2BTUR%2BGBR%2BUSA.A..PT_OTE_S13%2BPT_B1GQ.ES10._T._T.&pd=1989%2C2022&to[TIME_PERIOD]=false&ly[cl]=TIME_PERIOD&ly[rw]=REF_AREA%2CCOMBINED_UNIT_MEASURE\n",
    "\n"
   ]
  },
  {
   "cell_type": "markdown",
   "id": "56174cbb-a3a1-477a-9ebf-fc20c8ac20ac",
   "metadata": {},
   "source": [
    "# Imports"
   ]
  },
  {
   "cell_type": "code",
   "execution_count": 4,
   "id": "d277b181-d19f-4959-a072-aa89fafd3873",
   "metadata": {},
   "outputs": [],
   "source": [
    "import pandas as pd\n",
    "import numpy as np\n"
   ]
  },
  {
   "cell_type": "markdown",
   "id": "818e45c0-59e1-4c33-a120-1cbb4e8c578c",
   "metadata": {},
   "source": [
    "# 1) Extracting data from csv file"
   ]
  },
  {
   "cell_type": "code",
   "execution_count": 6,
   "id": "3bce9656-743b-4008-8076-a41c8049fc36",
   "metadata": {},
   "outputs": [],
   "source": [
    "df = pd.read_csv(\"social_expenditure_eu_usa_australia.csv\")"
   ]
  },
  {
   "cell_type": "markdown",
   "id": "26cdcbf1-3659-4e73-ba15-6540481fedde",
   "metadata": {},
   "source": [
    "# 2) Initial exploration of data (for cleaning and transformation)"
   ]
  },
  {
   "cell_type": "code",
   "execution_count": 8,
   "id": "99a7e212-7dc3-47f2-8a8f-6accef1702b2",
   "metadata": {},
   "outputs": [
    {
     "data": {
      "text/html": [
       "<div>\n",
       "<style scoped>\n",
       "    .dataframe tbody tr th:only-of-type {\n",
       "        vertical-align: middle;\n",
       "    }\n",
       "\n",
       "    .dataframe tbody tr th {\n",
       "        vertical-align: top;\n",
       "    }\n",
       "\n",
       "    .dataframe thead th {\n",
       "        text-align: right;\n",
       "    }\n",
       "</style>\n",
       "<table border=\"1\" class=\"dataframe\">\n",
       "  <thead>\n",
       "    <tr style=\"text-align: right;\">\n",
       "      <th></th>\n",
       "      <th>STRUCTURE</th>\n",
       "      <th>STRUCTURE_ID</th>\n",
       "      <th>STRUCTURE_NAME</th>\n",
       "      <th>ACTION</th>\n",
       "      <th>REF_AREA</th>\n",
       "      <th>Reference area</th>\n",
       "      <th>FREQ</th>\n",
       "      <th>Frequency of observation</th>\n",
       "      <th>MEASURE</th>\n",
       "      <th>Measure</th>\n",
       "      <th>...</th>\n",
       "      <th>OBS_STATUS</th>\n",
       "      <th>Observation status</th>\n",
       "      <th>UNIT_MULT</th>\n",
       "      <th>Unit multiplier</th>\n",
       "      <th>DECIMALS</th>\n",
       "      <th>Decimals</th>\n",
       "      <th>CURRENCY</th>\n",
       "      <th>Currency</th>\n",
       "      <th>BASE_PER</th>\n",
       "      <th>Base period</th>\n",
       "    </tr>\n",
       "  </thead>\n",
       "  <tbody>\n",
       "    <tr>\n",
       "      <th>0</th>\n",
       "      <td>DATAFLOW</td>\n",
       "      <td>OECD.ELS.SPD:DSD_SOCX_AGG@DF_SOCX_AGG(1.0)</td>\n",
       "      <td>Social expenditure aggregates</td>\n",
       "      <td>I</td>\n",
       "      <td>HUN</td>\n",
       "      <td>Hungary</td>\n",
       "      <td>A</td>\n",
       "      <td>Annual</td>\n",
       "      <td>SOCX</td>\n",
       "      <td>Social expenditure</td>\n",
       "      <td>...</td>\n",
       "      <td>A</td>\n",
       "      <td>Normal value</td>\n",
       "      <td>0</td>\n",
       "      <td>Units</td>\n",
       "      <td>1</td>\n",
       "      <td>One</td>\n",
       "      <td>_Z</td>\n",
       "      <td>Not applicable</td>\n",
       "      <td>NaN</td>\n",
       "      <td>NaN</td>\n",
       "    </tr>\n",
       "    <tr>\n",
       "      <th>1</th>\n",
       "      <td>DATAFLOW</td>\n",
       "      <td>OECD.ELS.SPD:DSD_SOCX_AGG@DF_SOCX_AGG(1.0)</td>\n",
       "      <td>Social expenditure aggregates</td>\n",
       "      <td>I</td>\n",
       "      <td>HUN</td>\n",
       "      <td>Hungary</td>\n",
       "      <td>A</td>\n",
       "      <td>Annual</td>\n",
       "      <td>SOCX</td>\n",
       "      <td>Social expenditure</td>\n",
       "      <td>...</td>\n",
       "      <td>A</td>\n",
       "      <td>Normal value</td>\n",
       "      <td>0</td>\n",
       "      <td>Units</td>\n",
       "      <td>1</td>\n",
       "      <td>One</td>\n",
       "      <td>_Z</td>\n",
       "      <td>Not applicable</td>\n",
       "      <td>NaN</td>\n",
       "      <td>NaN</td>\n",
       "    </tr>\n",
       "    <tr>\n",
       "      <th>2</th>\n",
       "      <td>DATAFLOW</td>\n",
       "      <td>OECD.ELS.SPD:DSD_SOCX_AGG@DF_SOCX_AGG(1.0)</td>\n",
       "      <td>Social expenditure aggregates</td>\n",
       "      <td>I</td>\n",
       "      <td>HUN</td>\n",
       "      <td>Hungary</td>\n",
       "      <td>A</td>\n",
       "      <td>Annual</td>\n",
       "      <td>SOCX</td>\n",
       "      <td>Social expenditure</td>\n",
       "      <td>...</td>\n",
       "      <td>A</td>\n",
       "      <td>Normal value</td>\n",
       "      <td>0</td>\n",
       "      <td>Units</td>\n",
       "      <td>1</td>\n",
       "      <td>One</td>\n",
       "      <td>_Z</td>\n",
       "      <td>Not applicable</td>\n",
       "      <td>NaN</td>\n",
       "      <td>NaN</td>\n",
       "    </tr>\n",
       "    <tr>\n",
       "      <th>3</th>\n",
       "      <td>DATAFLOW</td>\n",
       "      <td>OECD.ELS.SPD:DSD_SOCX_AGG@DF_SOCX_AGG(1.0)</td>\n",
       "      <td>Social expenditure aggregates</td>\n",
       "      <td>I</td>\n",
       "      <td>HUN</td>\n",
       "      <td>Hungary</td>\n",
       "      <td>A</td>\n",
       "      <td>Annual</td>\n",
       "      <td>SOCX</td>\n",
       "      <td>Social expenditure</td>\n",
       "      <td>...</td>\n",
       "      <td>A</td>\n",
       "      <td>Normal value</td>\n",
       "      <td>0</td>\n",
       "      <td>Units</td>\n",
       "      <td>1</td>\n",
       "      <td>One</td>\n",
       "      <td>_Z</td>\n",
       "      <td>Not applicable</td>\n",
       "      <td>NaN</td>\n",
       "      <td>NaN</td>\n",
       "    </tr>\n",
       "    <tr>\n",
       "      <th>4</th>\n",
       "      <td>DATAFLOW</td>\n",
       "      <td>OECD.ELS.SPD:DSD_SOCX_AGG@DF_SOCX_AGG(1.0)</td>\n",
       "      <td>Social expenditure aggregates</td>\n",
       "      <td>I</td>\n",
       "      <td>HUN</td>\n",
       "      <td>Hungary</td>\n",
       "      <td>A</td>\n",
       "      <td>Annual</td>\n",
       "      <td>SOCX</td>\n",
       "      <td>Social expenditure</td>\n",
       "      <td>...</td>\n",
       "      <td>A</td>\n",
       "      <td>Normal value</td>\n",
       "      <td>0</td>\n",
       "      <td>Units</td>\n",
       "      <td>1</td>\n",
       "      <td>One</td>\n",
       "      <td>_Z</td>\n",
       "      <td>Not applicable</td>\n",
       "      <td>NaN</td>\n",
       "      <td>NaN</td>\n",
       "    </tr>\n",
       "  </tbody>\n",
       "</table>\n",
       "<p>5 rows × 34 columns</p>\n",
       "</div>"
      ],
      "text/plain": [
       "  STRUCTURE                                STRUCTURE_ID  \\\n",
       "0  DATAFLOW  OECD.ELS.SPD:DSD_SOCX_AGG@DF_SOCX_AGG(1.0)   \n",
       "1  DATAFLOW  OECD.ELS.SPD:DSD_SOCX_AGG@DF_SOCX_AGG(1.0)   \n",
       "2  DATAFLOW  OECD.ELS.SPD:DSD_SOCX_AGG@DF_SOCX_AGG(1.0)   \n",
       "3  DATAFLOW  OECD.ELS.SPD:DSD_SOCX_AGG@DF_SOCX_AGG(1.0)   \n",
       "4  DATAFLOW  OECD.ELS.SPD:DSD_SOCX_AGG@DF_SOCX_AGG(1.0)   \n",
       "\n",
       "                  STRUCTURE_NAME ACTION REF_AREA Reference area FREQ  \\\n",
       "0  Social expenditure aggregates      I      HUN        Hungary    A   \n",
       "1  Social expenditure aggregates      I      HUN        Hungary    A   \n",
       "2  Social expenditure aggregates      I      HUN        Hungary    A   \n",
       "3  Social expenditure aggregates      I      HUN        Hungary    A   \n",
       "4  Social expenditure aggregates      I      HUN        Hungary    A   \n",
       "\n",
       "  Frequency of observation MEASURE             Measure  ... OBS_STATUS  \\\n",
       "0                   Annual    SOCX  Social expenditure  ...          A   \n",
       "1                   Annual    SOCX  Social expenditure  ...          A   \n",
       "2                   Annual    SOCX  Social expenditure  ...          A   \n",
       "3                   Annual    SOCX  Social expenditure  ...          A   \n",
       "4                   Annual    SOCX  Social expenditure  ...          A   \n",
       "\n",
       "  Observation status UNIT_MULT Unit multiplier DECIMALS Decimals CURRENCY  \\\n",
       "0       Normal value         0           Units        1      One       _Z   \n",
       "1       Normal value         0           Units        1      One       _Z   \n",
       "2       Normal value         0           Units        1      One       _Z   \n",
       "3       Normal value         0           Units        1      One       _Z   \n",
       "4       Normal value         0           Units        1      One       _Z   \n",
       "\n",
       "         Currency BASE_PER Base period  \n",
       "0  Not applicable      NaN         NaN  \n",
       "1  Not applicable      NaN         NaN  \n",
       "2  Not applicable      NaN         NaN  \n",
       "3  Not applicable      NaN         NaN  \n",
       "4  Not applicable      NaN         NaN  \n",
       "\n",
       "[5 rows x 34 columns]"
      ]
     },
     "execution_count": 8,
     "metadata": {},
     "output_type": "execute_result"
    }
   ],
   "source": [
    "df.head()"
   ]
  },
  {
   "cell_type": "code",
   "execution_count": 9,
   "id": "ee1cc960-fe17-4919-9f15-ae9b17011a35",
   "metadata": {},
   "outputs": [
    {
     "data": {
      "text/html": [
       "<div>\n",
       "<style scoped>\n",
       "    .dataframe tbody tr th:only-of-type {\n",
       "        vertical-align: middle;\n",
       "    }\n",
       "\n",
       "    .dataframe tbody tr th {\n",
       "        vertical-align: top;\n",
       "    }\n",
       "\n",
       "    .dataframe thead th {\n",
       "        text-align: right;\n",
       "    }\n",
       "</style>\n",
       "<table border=\"1\" class=\"dataframe\">\n",
       "  <thead>\n",
       "    <tr style=\"text-align: right;\">\n",
       "      <th></th>\n",
       "      <th>TIME_PERIOD</th>\n",
       "      <th>Time period</th>\n",
       "      <th>OBS_VALUE</th>\n",
       "      <th>Observation value</th>\n",
       "      <th>UNIT_MULT</th>\n",
       "      <th>DECIMALS</th>\n",
       "      <th>BASE_PER</th>\n",
       "      <th>Base period</th>\n",
       "    </tr>\n",
       "  </thead>\n",
       "  <tbody>\n",
       "    <tr>\n",
       "      <th>count</th>\n",
       "      <td>1821.000000</td>\n",
       "      <td>0.0</td>\n",
       "      <td>1779.000000</td>\n",
       "      <td>0.0</td>\n",
       "      <td>1821.0</td>\n",
       "      <td>1821.0</td>\n",
       "      <td>0.0</td>\n",
       "      <td>0.0</td>\n",
       "    </tr>\n",
       "    <tr>\n",
       "      <th>mean</th>\n",
       "      <td>2006.057111</td>\n",
       "      <td>NaN</td>\n",
       "      <td>31.922561</td>\n",
       "      <td>NaN</td>\n",
       "      <td>0.0</td>\n",
       "      <td>1.0</td>\n",
       "      <td>NaN</td>\n",
       "      <td>NaN</td>\n",
       "    </tr>\n",
       "    <tr>\n",
       "      <th>std</th>\n",
       "      <td>8.862629</td>\n",
       "      <td>NaN</td>\n",
       "      <td>14.063110</td>\n",
       "      <td>NaN</td>\n",
       "      <td>0.0</td>\n",
       "      <td>0.0</td>\n",
       "      <td>NaN</td>\n",
       "      <td>NaN</td>\n",
       "    </tr>\n",
       "    <tr>\n",
       "      <th>min</th>\n",
       "      <td>1989.000000</td>\n",
       "      <td>NaN</td>\n",
       "      <td>0.000000</td>\n",
       "      <td>NaN</td>\n",
       "      <td>0.0</td>\n",
       "      <td>1.0</td>\n",
       "      <td>NaN</td>\n",
       "      <td>NaN</td>\n",
       "    </tr>\n",
       "    <tr>\n",
       "      <th>25%</th>\n",
       "      <td>1999.000000</td>\n",
       "      <td>NaN</td>\n",
       "      <td>19.617000</td>\n",
       "      <td>NaN</td>\n",
       "      <td>0.0</td>\n",
       "      <td>1.0</td>\n",
       "      <td>NaN</td>\n",
       "      <td>NaN</td>\n",
       "    </tr>\n",
       "    <tr>\n",
       "      <th>50%</th>\n",
       "      <td>2006.000000</td>\n",
       "      <td>NaN</td>\n",
       "      <td>27.704000</td>\n",
       "      <td>NaN</td>\n",
       "      <td>0.0</td>\n",
       "      <td>1.0</td>\n",
       "      <td>NaN</td>\n",
       "      <td>NaN</td>\n",
       "    </tr>\n",
       "    <tr>\n",
       "      <th>75%</th>\n",
       "      <td>2014.000000</td>\n",
       "      <td>NaN</td>\n",
       "      <td>46.295000</td>\n",
       "      <td>NaN</td>\n",
       "      <td>0.0</td>\n",
       "      <td>1.0</td>\n",
       "      <td>NaN</td>\n",
       "      <td>NaN</td>\n",
       "    </tr>\n",
       "    <tr>\n",
       "      <th>max</th>\n",
       "      <td>2022.000000</td>\n",
       "      <td>NaN</td>\n",
       "      <td>58.241000</td>\n",
       "      <td>NaN</td>\n",
       "      <td>0.0</td>\n",
       "      <td>1.0</td>\n",
       "      <td>NaN</td>\n",
       "      <td>NaN</td>\n",
       "    </tr>\n",
       "  </tbody>\n",
       "</table>\n",
       "</div>"
      ],
      "text/plain": [
       "       TIME_PERIOD  Time period    OBS_VALUE  Observation value  UNIT_MULT  \\\n",
       "count  1821.000000          0.0  1779.000000                0.0     1821.0   \n",
       "mean   2006.057111          NaN    31.922561                NaN        0.0   \n",
       "std       8.862629          NaN    14.063110                NaN        0.0   \n",
       "min    1989.000000          NaN     0.000000                NaN        0.0   \n",
       "25%    1999.000000          NaN    19.617000                NaN        0.0   \n",
       "50%    2006.000000          NaN    27.704000                NaN        0.0   \n",
       "75%    2014.000000          NaN    46.295000                NaN        0.0   \n",
       "max    2022.000000          NaN    58.241000                NaN        0.0   \n",
       "\n",
       "       DECIMALS  BASE_PER  Base period  \n",
       "count    1821.0       0.0          0.0  \n",
       "mean        1.0       NaN          NaN  \n",
       "std         0.0       NaN          NaN  \n",
       "min         1.0       NaN          NaN  \n",
       "25%         1.0       NaN          NaN  \n",
       "50%         1.0       NaN          NaN  \n",
       "75%         1.0       NaN          NaN  \n",
       "max         1.0       NaN          NaN  "
      ]
     },
     "execution_count": 9,
     "metadata": {},
     "output_type": "execute_result"
    }
   ],
   "source": [
    "df.describe()"
   ]
  },
  {
   "cell_type": "code",
   "execution_count": 10,
   "id": "d4fa4ef2-b2b6-4a87-a495-6f2146609522",
   "metadata": {},
   "outputs": [
    {
     "name": "stdout",
     "output_type": "stream",
     "text": [
      "<class 'pandas.core.frame.DataFrame'>\n",
      "RangeIndex: 1821 entries, 0 to 1820\n",
      "Data columns (total 34 columns):\n",
      " #   Column                    Non-Null Count  Dtype  \n",
      "---  ------                    --------------  -----  \n",
      " 0   STRUCTURE                 1821 non-null   object \n",
      " 1   STRUCTURE_ID              1821 non-null   object \n",
      " 2   STRUCTURE_NAME            1821 non-null   object \n",
      " 3   ACTION                    1821 non-null   object \n",
      " 4   REF_AREA                  1821 non-null   object \n",
      " 5   Reference area            1821 non-null   object \n",
      " 6   FREQ                      1821 non-null   object \n",
      " 7   Frequency of observation  1821 non-null   object \n",
      " 8   MEASURE                   1821 non-null   object \n",
      " 9   Measure                   1821 non-null   object \n",
      " 10  UNIT_MEASURE              1821 non-null   object \n",
      " 11  Unit of measure           1821 non-null   object \n",
      " 12  EXPEND_SOURCE             1821 non-null   object \n",
      " 13  Expenditure source        1821 non-null   object \n",
      " 14  SPENDING_TYPE             1821 non-null   object \n",
      " 15  Spending type             1821 non-null   object \n",
      " 16  PROGRAMME_TYPE            1821 non-null   object \n",
      " 17  Programme type            1821 non-null   object \n",
      " 18  PRICE_BASE                1821 non-null   object \n",
      " 19  Price base                1821 non-null   object \n",
      " 20  TIME_PERIOD               1821 non-null   int64  \n",
      " 21  Time period               0 non-null      float64\n",
      " 22  OBS_VALUE                 1779 non-null   float64\n",
      " 23  Observation value         0 non-null      float64\n",
      " 24  OBS_STATUS                1821 non-null   object \n",
      " 25  Observation status        1821 non-null   object \n",
      " 26  UNIT_MULT                 1821 non-null   int64  \n",
      " 27  Unit multiplier           1821 non-null   object \n",
      " 28  DECIMALS                  1821 non-null   int64  \n",
      " 29  Decimals                  1821 non-null   object \n",
      " 30  CURRENCY                  1821 non-null   object \n",
      " 31  Currency                  1821 non-null   object \n",
      " 32  BASE_PER                  0 non-null      float64\n",
      " 33  Base period               0 non-null      float64\n",
      "dtypes: float64(5), int64(3), object(26)\n",
      "memory usage: 483.8+ KB\n"
     ]
    }
   ],
   "source": [
    "df.info()"
   ]
  },
  {
   "cell_type": "code",
   "execution_count": 11,
   "id": "777c9a39-c7de-4af2-8adc-c75680f8e1ea",
   "metadata": {},
   "outputs": [
    {
     "name": "stdout",
     "output_type": "stream",
     "text": [
      "Unit of measure\n",
      "Percentage of GDP                               1022\n",
      "Percentage of general government expenditure     799\n",
      "Name: count, dtype: int64\n"
     ]
    }
   ],
   "source": [
    "unit_of_measure = df[\"Unit of measure\"].value_counts()\n",
    "print(unit_of_measure)"
   ]
  },
  {
   "cell_type": "code",
   "execution_count": 12,
   "id": "2e2ae7c2-7264-42c4-b2d6-2221bbec6aa7",
   "metadata": {},
   "outputs": [
    {
     "data": {
      "text/plain": [
       "STRUCTURE                      0\n",
       "STRUCTURE_ID                   0\n",
       "STRUCTURE_NAME                 0\n",
       "ACTION                         0\n",
       "REF_AREA                       0\n",
       "Reference area                 0\n",
       "FREQ                           0\n",
       "Frequency of observation       0\n",
       "MEASURE                        0\n",
       "Measure                        0\n",
       "UNIT_MEASURE                   0\n",
       "Unit of measure                0\n",
       "EXPEND_SOURCE                  0\n",
       "Expenditure source             0\n",
       "SPENDING_TYPE                  0\n",
       "Spending type                  0\n",
       "PROGRAMME_TYPE                 0\n",
       "Programme type                 0\n",
       "PRICE_BASE                     0\n",
       "Price base                     0\n",
       "TIME_PERIOD                    0\n",
       "Time period                 1821\n",
       "OBS_VALUE                     42\n",
       "Observation value           1821\n",
       "OBS_STATUS                     0\n",
       "Observation status             0\n",
       "UNIT_MULT                      0\n",
       "Unit multiplier                0\n",
       "DECIMALS                       0\n",
       "Decimals                       0\n",
       "CURRENCY                       0\n",
       "Currency                       0\n",
       "BASE_PER                    1821\n",
       "Base period                 1821\n",
       "dtype: int64"
      ]
     },
     "execution_count": 12,
     "metadata": {},
     "output_type": "execute_result"
    }
   ],
   "source": [
    "df.isna().sum()"
   ]
  },
  {
   "cell_type": "code",
   "execution_count": 13,
   "id": "18df483f-55d1-4421-8c40-848f204c5a17",
   "metadata": {},
   "outputs": [
    {
     "data": {
      "text/plain": [
       "0"
      ]
     },
     "execution_count": 13,
     "metadata": {},
     "output_type": "execute_result"
    }
   ],
   "source": [
    "df.duplicated().sum()"
   ]
  },
  {
   "cell_type": "markdown",
   "id": "7210038a-3a7f-4714-a817-9b42c28ecbd4",
   "metadata": {},
   "source": [
    "# 3) Transforming and cleaning data"
   ]
  },
  {
   "cell_type": "markdown",
   "id": "c1fe86bb-fcaa-4cd7-8848-9c6dfee932de",
   "metadata": {},
   "source": [
    "### 3.1) Removing all irrelevant columns"
   ]
  },
  {
   "cell_type": "code",
   "execution_count": 16,
   "id": "595ea017-a436-4e72-baac-1cf169c8df1f",
   "metadata": {},
   "outputs": [],
   "source": [
    "df.drop(columns=['PROGRAMME_TYPE', 'SPENDING_TYPE', 'EXPEND_SOURCE', 'MEASURE', 'Price base', 'BASE_PER', 'Base period', 'STRUCTURE', 'STRUCTURE_ID', 'ACTION', 'FREQ', 'CURRENCY', 'Currency', 'Decimals',  'Time period', 'Observation value', 'PRICE_BASE', 'STRUCTURE_NAME', 'Frequency of observation', 'UNIT_MULT', 'DECIMALS', 'Measure', 'UNIT_MEASURE', 'Unit multiplier', 'REF_AREA', 'Expenditure source', 'Spending type', 'Programme type', 'OBS_STATUS'], inplace = True)"
   ]
  },
  {
   "cell_type": "code",
   "execution_count": 17,
   "id": "ec3097da-5236-4357-b196-877125b16b1b",
   "metadata": {},
   "outputs": [
    {
     "data": {
      "text/html": [
       "<div>\n",
       "<style scoped>\n",
       "    .dataframe tbody tr th:only-of-type {\n",
       "        vertical-align: middle;\n",
       "    }\n",
       "\n",
       "    .dataframe tbody tr th {\n",
       "        vertical-align: top;\n",
       "    }\n",
       "\n",
       "    .dataframe thead th {\n",
       "        text-align: right;\n",
       "    }\n",
       "</style>\n",
       "<table border=\"1\" class=\"dataframe\">\n",
       "  <thead>\n",
       "    <tr style=\"text-align: right;\">\n",
       "      <th></th>\n",
       "      <th>Reference area</th>\n",
       "      <th>Unit of measure</th>\n",
       "      <th>TIME_PERIOD</th>\n",
       "      <th>OBS_VALUE</th>\n",
       "      <th>Observation status</th>\n",
       "    </tr>\n",
       "  </thead>\n",
       "  <tbody>\n",
       "    <tr>\n",
       "      <th>0</th>\n",
       "      <td>Hungary</td>\n",
       "      <td>Percentage of general government expenditure</td>\n",
       "      <td>2014</td>\n",
       "      <td>42.619</td>\n",
       "      <td>Normal value</td>\n",
       "    </tr>\n",
       "    <tr>\n",
       "      <th>1</th>\n",
       "      <td>Hungary</td>\n",
       "      <td>Percentage of general government expenditure</td>\n",
       "      <td>2015</td>\n",
       "      <td>40.403</td>\n",
       "      <td>Normal value</td>\n",
       "    </tr>\n",
       "    <tr>\n",
       "      <th>2</th>\n",
       "      <td>Hungary</td>\n",
       "      <td>Percentage of general government expenditure</td>\n",
       "      <td>2016</td>\n",
       "      <td>43.110</td>\n",
       "      <td>Normal value</td>\n",
       "    </tr>\n",
       "    <tr>\n",
       "      <th>3</th>\n",
       "      <td>Hungary</td>\n",
       "      <td>Percentage of general government expenditure</td>\n",
       "      <td>2017</td>\n",
       "      <td>41.605</td>\n",
       "      <td>Normal value</td>\n",
       "    </tr>\n",
       "    <tr>\n",
       "      <th>4</th>\n",
       "      <td>Hungary</td>\n",
       "      <td>Percentage of general government expenditure</td>\n",
       "      <td>2018</td>\n",
       "      <td>40.342</td>\n",
       "      <td>Normal value</td>\n",
       "    </tr>\n",
       "  </tbody>\n",
       "</table>\n",
       "</div>"
      ],
      "text/plain": [
       "  Reference area                               Unit of measure  TIME_PERIOD  \\\n",
       "0        Hungary  Percentage of general government expenditure         2014   \n",
       "1        Hungary  Percentage of general government expenditure         2015   \n",
       "2        Hungary  Percentage of general government expenditure         2016   \n",
       "3        Hungary  Percentage of general government expenditure         2017   \n",
       "4        Hungary  Percentage of general government expenditure         2018   \n",
       "\n",
       "   OBS_VALUE Observation status  \n",
       "0     42.619       Normal value  \n",
       "1     40.403       Normal value  \n",
       "2     43.110       Normal value  \n",
       "3     41.605       Normal value  \n",
       "4     40.342       Normal value  "
      ]
     },
     "execution_count": 17,
     "metadata": {},
     "output_type": "execute_result"
    }
   ],
   "source": [
    "df.head()"
   ]
  },
  {
   "cell_type": "markdown",
   "id": "ed282b88-7d57-43fb-af20-24bdd149eed2",
   "metadata": {},
   "source": [
    "### 3.2) Removing all non-'normal values' in Observation status to get the most precise values "
   ]
  },
  {
   "cell_type": "markdown",
   "id": "7f8fcc00-5d91-4c33-b1fb-d00cc8a08ccf",
   "metadata": {},
   "source": [
    "In this data set it's the same as removing all missing values. But in other data sets from OECD Observation status values\n",
    "includes 'Estimated value', 'Provisional value', 'Time series break', 'Definition differs'"
   ]
  },
  {
   "cell_type": "code",
   "execution_count": 35,
   "id": "dc624ba9-f07a-47df-a119-063b9d89197f",
   "metadata": {},
   "outputs": [
    {
     "name": "stdout",
     "output_type": "stream",
     "text": [
      "Observation status\n",
      "Normal value                                        1779\n",
      "Missing value; data exist but were not collected      34\n",
      "Missing value; data cannot exist                       8\n",
      "Name: count, dtype: int64\n"
     ]
    }
   ],
   "source": [
    "obs_status = df[\"Observation status\"].value_counts()\n",
    "print(obs_status)"
   ]
  },
  {
   "cell_type": "code",
   "execution_count": 37,
   "id": "625e7a98-e169-4328-b59d-e7d1ae46677f",
   "metadata": {},
   "outputs": [
    {
     "data": {
      "text/plain": [
       "Reference area         0\n",
       "Unit of measure        0\n",
       "TIME_PERIOD            0\n",
       "OBS_VALUE             42\n",
       "Observation status     0\n",
       "dtype: int64"
      ]
     },
     "execution_count": 37,
     "metadata": {},
     "output_type": "execute_result"
    }
   ],
   "source": [
    "df.isna().sum()"
   ]
  },
  {
   "cell_type": "code",
   "execution_count": 39,
   "id": "a77c85b1-6bf2-4b3d-815f-216e0c2bd17d",
   "metadata": {},
   "outputs": [
    {
     "name": "stdout",
     "output_type": "stream",
     "text": [
      "Observation status\n",
      "Normal value    1779\n",
      "Name: count, dtype: int64\n"
     ]
    }
   ],
   "source": [
    "df = df[df[\"Observation status\"] == \"Normal value\"]\n",
    "obs_status = df[\"Observation status\"].value_counts()\n",
    "print(obs_status)"
   ]
  },
  {
   "cell_type": "markdown",
   "id": "99cdf577-125f-45b9-8687-91ad3f82ddf1",
   "metadata": {},
   "source": [
    "### 3.3) Checking for missing values again"
   ]
  },
  {
   "cell_type": "code",
   "execution_count": 42,
   "id": "2e87ab98-4498-4505-99a9-cc0b627dbecd",
   "metadata": {},
   "outputs": [
    {
     "data": {
      "text/plain": [
       "Reference area        0\n",
       "Unit of measure       0\n",
       "TIME_PERIOD           0\n",
       "OBS_VALUE             0\n",
       "Observation status    0\n",
       "dtype: int64"
      ]
     },
     "execution_count": 42,
     "metadata": {},
     "output_type": "execute_result"
    }
   ],
   "source": [
    "df.isna().sum()"
   ]
  },
  {
   "cell_type": "markdown",
   "id": "1edd7421-6d27-43d8-b014-2df68c150f82",
   "metadata": {},
   "source": [
    "### 3.4) Checking for duplicates and removing them"
   ]
  },
  {
   "cell_type": "code",
   "execution_count": 45,
   "id": "5c7c9b0f-0f48-465f-9148-3d52a544f960",
   "metadata": {},
   "outputs": [
    {
     "data": {
      "text/plain": [
       "0"
      ]
     },
     "execution_count": 45,
     "metadata": {},
     "output_type": "execute_result"
    }
   ],
   "source": [
    "df.duplicated().sum()"
   ]
  },
  {
   "cell_type": "code",
   "execution_count": 47,
   "id": "e6249a15-79eb-4077-ab2d-d1c1b3bbee86",
   "metadata": {},
   "outputs": [
    {
     "data": {
      "text/plain": [
       "0"
      ]
     },
     "execution_count": 47,
     "metadata": {},
     "output_type": "execute_result"
    }
   ],
   "source": [
    "df.drop_duplicates(inplace=True)\n",
    "df.duplicated().sum()"
   ]
  },
  {
   "cell_type": "markdown",
   "id": "0d612b4f-988a-4088-a69f-20dd4625d2b3",
   "metadata": {},
   "source": [
    "### 3.5) Choosing only one unit of measure: \"Percentage of GDP\" (most rows)"
   ]
  },
  {
   "cell_type": "code",
   "execution_count": 50,
   "id": "b107943d-7e37-481a-bb69-cb8673380b3c",
   "metadata": {},
   "outputs": [
    {
     "name": "stdout",
     "output_type": "stream",
     "text": [
      "<class 'pandas.core.frame.DataFrame'>\n",
      "Index: 989 entries, 25 to 1795\n",
      "Data columns (total 5 columns):\n",
      " #   Column              Non-Null Count  Dtype  \n",
      "---  ------              --------------  -----  \n",
      " 0   Reference area      989 non-null    object \n",
      " 1   Unit of measure     989 non-null    object \n",
      " 2   TIME_PERIOD         989 non-null    int64  \n",
      " 3   OBS_VALUE           989 non-null    float64\n",
      " 4   Observation status  989 non-null    object \n",
      "dtypes: float64(1), int64(1), object(3)\n",
      "memory usage: 46.4+ KB\n"
     ]
    }
   ],
   "source": [
    "df = df[df[\"Unit of measure\"]==\"Percentage of GDP\"]\n",
    "df.info()"
   ]
  },
  {
   "cell_type": "markdown",
   "id": "9e2dec18-e312-4099-b75a-e86b63553358",
   "metadata": {},
   "source": [
    "### 3.6) Removing 'Observation status' and 'Unit of measure' columns because they aren'tn relevant anymore"
   ]
  },
  {
   "cell_type": "code",
   "execution_count": 53,
   "id": "46da7fe7-69d2-4d22-978f-a7264cfecf32",
   "metadata": {},
   "outputs": [
    {
     "data": {
      "text/html": [
       "<div>\n",
       "<style scoped>\n",
       "    .dataframe tbody tr th:only-of-type {\n",
       "        vertical-align: middle;\n",
       "    }\n",
       "\n",
       "    .dataframe tbody tr th {\n",
       "        vertical-align: top;\n",
       "    }\n",
       "\n",
       "    .dataframe thead th {\n",
       "        text-align: right;\n",
       "    }\n",
       "</style>\n",
       "<table border=\"1\" class=\"dataframe\">\n",
       "  <thead>\n",
       "    <tr style=\"text-align: right;\">\n",
       "      <th></th>\n",
       "      <th>Reference area</th>\n",
       "      <th>TIME_PERIOD</th>\n",
       "      <th>OBS_VALUE</th>\n",
       "    </tr>\n",
       "  </thead>\n",
       "  <tbody>\n",
       "    <tr>\n",
       "      <th>25</th>\n",
       "      <td>Greece</td>\n",
       "      <td>2008</td>\n",
       "      <td>21.571</td>\n",
       "    </tr>\n",
       "    <tr>\n",
       "      <th>26</th>\n",
       "      <td>Greece</td>\n",
       "      <td>2009</td>\n",
       "      <td>23.912</td>\n",
       "    </tr>\n",
       "    <tr>\n",
       "      <th>27</th>\n",
       "      <td>Greece</td>\n",
       "      <td>2010</td>\n",
       "      <td>25.017</td>\n",
       "    </tr>\n",
       "    <tr>\n",
       "      <th>28</th>\n",
       "      <td>Greece</td>\n",
       "      <td>2011</td>\n",
       "      <td>26.464</td>\n",
       "    </tr>\n",
       "    <tr>\n",
       "      <th>29</th>\n",
       "      <td>Greece</td>\n",
       "      <td>2012</td>\n",
       "      <td>27.426</td>\n",
       "    </tr>\n",
       "  </tbody>\n",
       "</table>\n",
       "</div>"
      ],
      "text/plain": [
       "   Reference area  TIME_PERIOD  OBS_VALUE\n",
       "25         Greece         2008     21.571\n",
       "26         Greece         2009     23.912\n",
       "27         Greece         2010     25.017\n",
       "28         Greece         2011     26.464\n",
       "29         Greece         2012     27.426"
      ]
     },
     "execution_count": 53,
     "metadata": {},
     "output_type": "execute_result"
    }
   ],
   "source": [
    "df.drop(columns=['Observation status', 'Unit of measure'], inplace=True)\n",
    "df.head()"
   ]
  },
  {
   "cell_type": "code",
   "execution_count": null,
   "id": "d1b807e8-a55a-4bc8-be6c-71e9ac2c41fe",
   "metadata": {},
   "outputs": [],
   "source": []
  },
  {
   "cell_type": "markdown",
   "id": "6197bf4b-1060-4e2b-8579-c7b34de0da23",
   "metadata": {},
   "source": [
    "### 3.7) Renaming columns "
   ]
  },
  {
   "cell_type": "code",
   "execution_count": 57,
   "id": "f7f1f30e-80f6-4896-9468-d9a8fa178cc7",
   "metadata": {},
   "outputs": [],
   "source": [
    "df.rename(columns= {\"Reference area\": \"Country\", \"TIME_PERIOD\": \"Year\", \"OBS_VALUE\": \"Social expenditure as % of GDP\"}, inplace=True)"
   ]
  },
  {
   "cell_type": "code",
   "execution_count": 59,
   "id": "da1590ee-e1f2-4d63-b483-3cf56dacb6c6",
   "metadata": {},
   "outputs": [
    {
     "data": {
      "text/html": [
       "<div>\n",
       "<style scoped>\n",
       "    .dataframe tbody tr th:only-of-type {\n",
       "        vertical-align: middle;\n",
       "    }\n",
       "\n",
       "    .dataframe tbody tr th {\n",
       "        vertical-align: top;\n",
       "    }\n",
       "\n",
       "    .dataframe thead th {\n",
       "        text-align: right;\n",
       "    }\n",
       "</style>\n",
       "<table border=\"1\" class=\"dataframe\">\n",
       "  <thead>\n",
       "    <tr style=\"text-align: right;\">\n",
       "      <th></th>\n",
       "      <th>Country</th>\n",
       "      <th>Year</th>\n",
       "      <th>Social expenditure as % of GDP</th>\n",
       "    </tr>\n",
       "  </thead>\n",
       "  <tbody>\n",
       "    <tr>\n",
       "      <th>25</th>\n",
       "      <td>Greece</td>\n",
       "      <td>2008</td>\n",
       "      <td>21.571</td>\n",
       "    </tr>\n",
       "    <tr>\n",
       "      <th>26</th>\n",
       "      <td>Greece</td>\n",
       "      <td>2009</td>\n",
       "      <td>23.912</td>\n",
       "    </tr>\n",
       "    <tr>\n",
       "      <th>27</th>\n",
       "      <td>Greece</td>\n",
       "      <td>2010</td>\n",
       "      <td>25.017</td>\n",
       "    </tr>\n",
       "    <tr>\n",
       "      <th>28</th>\n",
       "      <td>Greece</td>\n",
       "      <td>2011</td>\n",
       "      <td>26.464</td>\n",
       "    </tr>\n",
       "    <tr>\n",
       "      <th>29</th>\n",
       "      <td>Greece</td>\n",
       "      <td>2012</td>\n",
       "      <td>27.426</td>\n",
       "    </tr>\n",
       "  </tbody>\n",
       "</table>\n",
       "</div>"
      ],
      "text/plain": [
       "   Country  Year  Social expenditure as % of GDP\n",
       "25  Greece  2008                          21.571\n",
       "26  Greece  2009                          23.912\n",
       "27  Greece  2010                          25.017\n",
       "28  Greece  2011                          26.464\n",
       "29  Greece  2012                          27.426"
      ]
     },
     "execution_count": 59,
     "metadata": {},
     "output_type": "execute_result"
    }
   ],
   "source": [
    "df.head()"
   ]
  },
  {
   "cell_type": "markdown",
   "id": "2fc01c9e-6cef-425d-8a7a-6b4d75880edc",
   "metadata": {},
   "source": [
    "# 4) Storing data frame in file"
   ]
  },
  {
   "cell_type": "code",
   "execution_count": 62,
   "id": "fbfe4686-5841-4a54-852c-8b2a2f54459b",
   "metadata": {},
   "outputs": [],
   "source": [
    "with pd.HDFStore('dataframes.h5') as store:\n",
    "    store['social_exp_df'] = df"
   ]
  },
  {
   "cell_type": "code",
   "execution_count": null,
   "id": "be20a9f0-a7bc-4ad0-b82d-d493419a7bce",
   "metadata": {},
   "outputs": [],
   "source": []
  },
  {
   "cell_type": "code",
   "execution_count": null,
   "id": "8f2bd218-4994-49e3-9375-d944eb5acfed",
   "metadata": {},
   "outputs": [],
   "source": []
  },
  {
   "cell_type": "code",
   "execution_count": null,
   "id": "cb3cea6e-4b73-41f6-aeb7-7930cc9ce419",
   "metadata": {},
   "outputs": [],
   "source": []
  },
  {
   "cell_type": "code",
   "execution_count": null,
   "id": "bb1d1060-8f7b-4577-a8b7-f1d3fb1c4ec5",
   "metadata": {},
   "outputs": [],
   "source": []
  },
  {
   "cell_type": "code",
   "execution_count": null,
   "id": "b211d4dd-1071-4efc-bcee-b1ffc9d73da0",
   "metadata": {},
   "outputs": [],
   "source": []
  },
  {
   "cell_type": "code",
   "execution_count": null,
   "id": "ecb5d5bb-b29e-4806-b158-91dde8d1f323",
   "metadata": {},
   "outputs": [],
   "source": []
  }
 ],
 "metadata": {
  "kernelspec": {
   "display_name": "Python 3 (ipykernel)",
   "language": "python",
   "name": "python3"
  },
  "language_info": {
   "codemirror_mode": {
    "name": "ipython",
    "version": 3
   },
   "file_extension": ".py",
   "mimetype": "text/x-python",
   "name": "python",
   "nbconvert_exporter": "python",
   "pygments_lexer": "ipython3",
   "version": "3.12.4"
  }
 },
 "nbformat": 4,
 "nbformat_minor": 5
}
