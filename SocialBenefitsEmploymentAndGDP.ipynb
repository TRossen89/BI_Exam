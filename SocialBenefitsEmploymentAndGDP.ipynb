{
 "cells": [
  {
   "cell_type": "code",
   "execution_count": 1,
   "id": "82f92e71-0061-43c0-a14f-a103e79504f8",
   "metadata": {},
   "outputs": [],
   "source": [
    "import pandas as pd"
   ]
  },
  {
   "cell_type": "markdown",
   "id": "0447ba1b-1283-45d2-8d80-1e4bc2763126",
   "metadata": {},
   "source": [
    "# LINKS"
   ]
  },
  {
   "cell_type": "markdown",
   "id": "e3039f42-2bbc-42d4-8122-47486021eadb",
   "metadata": {},
   "source": [
    "#### World Happines Report:\n",
    "- https://worldhappiness.report/data/\n",
    "\n",
    "#### OECD data explorer:\n",
    "- https://data-explorer.oecd.org/\n",
    "\n",
    "SOCIAL EXPENDITURE (EU, USA, AUSTRALIA): https://data-explorer.oecd.org/vis?tm=Social%20expenditure&pg=0&snb=139&vw=tb&df[ds]=dsDisseminateFinalDMZ&df[id]=DSD_SOCX_AGG%40DF_SOCX_AGG&df[ag]=OECD.ELS.SPD&df[vs]=1.0&dq=AUS%2BAUT%2BBEL%2BCZE%2BDNK%2BEST%2BFIN%2BDEU%2BFRA%2BGRC%2BHUN%2BISL%2BIRL%2BISR%2BITA%2BLVA%2BLTU%2BLUX%2BNLD%2BNZL%2BNOR%2BPOL%2BPRT%2BSVK%2BSVN%2BESP%2BSWE%2BCHE%2BTUR%2BGBR%2BUSA.A..PT_OTE_S13%2BPT_B1GQ.ES10._T._T.&pd=1989%2C2022&to[TIME_PERIOD]=false&ly[cl]=TIME_PERIOD&ly[rw]=REF_AREA%2CCOMBINED_UNIT_MEASURE\n",
    "\n",
    "\n",
    "#### European Comission: \n",
    "\n",
    "- https://taxation-customs.ec.europa.eu/taxation/economic-analyses/taxation-trends-eu/data-taxation-trends_en\n",
    "- https://webgate.ec.europa.eu/taxation_customs/redisstat/databrowser/explore/all/DATA_ON_TAX?lang=en&display=card&sort=category"
   ]
  },
  {
   "cell_type": "markdown",
   "id": "ea9811ef-a143-448f-8d60-c27ff4d12705",
   "metadata": {},
   "source": [
    "# 1) Data ingestion"
   ]
  },
  {
   "cell_type": "markdown",
   "id": "7ccaf78a-78aa-4fcd-8a19-16f7cb374773",
   "metadata": {},
   "source": [
    "## 1.1) GDP data"
   ]
  },
  {
   "cell_type": "markdown",
   "id": "92346b28-2d82-414c-9daf-ff8b24d4a12d",
   "metadata": {},
   "source": [
    "### 1.1.1) (OECD) GDP 1970-2023 deflated"
   ]
  },
  {
   "cell_type": "code",
   "execution_count": 7,
   "id": "4ce9b49a-a8e3-446a-a157-d51ae3525eb2",
   "metadata": {},
   "outputs": [],
   "source": [
    "gdp_1970_deflated_df = pd.read_csv(\"oecd_gdp_1970_2023_deflated.csv\")"
   ]
  },
  {
   "cell_type": "code",
   "execution_count": 8,
   "id": "2dd7b8aa-3c59-457b-aafd-19a0681f557e",
   "metadata": {},
   "outputs": [
    {
     "name": "stdout",
     "output_type": "stream",
     "text": [
      "<class 'pandas.core.frame.DataFrame'>\n",
      "RangeIndex: 2624 entries, 0 to 2623\n",
      "Data columns (total 44 columns):\n",
      " #   Column                                          Non-Null Count  Dtype  \n",
      "---  ------                                          --------------  -----  \n",
      " 0   STRUCTURE                                       2624 non-null   object \n",
      " 1   STRUCTURE_ID                                    2624 non-null   object \n",
      " 2   STRUCTURE_NAME                                  2624 non-null   object \n",
      " 3   ACTION                                          2624 non-null   object \n",
      " 4   FREQ                                            2624 non-null   object \n",
      " 5   Frequency of observation                        2624 non-null   object \n",
      " 6   REF_AREA                                        2624 non-null   object \n",
      " 7   Reference area                                  2624 non-null   object \n",
      " 8   SECTOR                                          2624 non-null   object \n",
      " 9   Institutional sector                            2624 non-null   object \n",
      " 10  COUNTERPART_SECTOR                              2624 non-null   object \n",
      " 11  Counterpart institutional sector                2624 non-null   object \n",
      " 12  TRANSACTION                                     2624 non-null   object \n",
      " 13  Transaction                                     2624 non-null   object \n",
      " 14  INSTR_ASSET                                     2624 non-null   object \n",
      " 15  Financial instruments and non-financial assets  2624 non-null   object \n",
      " 16  ACTIVITY                                        2624 non-null   object \n",
      " 17  Economic activity                               2624 non-null   object \n",
      " 18  EXPENDITURE                                     2624 non-null   object \n",
      " 19  Expenditure                                     2624 non-null   object \n",
      " 20  UNIT_MEASURE                                    2624 non-null   object \n",
      " 21  Unit of measure                                 2624 non-null   object \n",
      " 22  PRICE_BASE                                      2624 non-null   object \n",
      " 23  Price base                                      2624 non-null   object \n",
      " 24  TRANSFORMATION                                  2624 non-null   object \n",
      " 25  Transformation                                  2624 non-null   object \n",
      " 26  TABLE_IDENTIFIER                                2624 non-null   object \n",
      " 27  Table identifier                                2624 non-null   object \n",
      " 28  TIME_PERIOD                                     2624 non-null   int64  \n",
      " 29  Time period                                     0 non-null      float64\n",
      " 30  OBS_VALUE                                       2624 non-null   float64\n",
      " 31  Observation value                               0 non-null      float64\n",
      " 32  REF_YEAR_PRICE                                  2624 non-null   int64  \n",
      " 33  Price reference year                            0 non-null      float64\n",
      " 34  CONF_STATUS                                     2624 non-null   object \n",
      " 35  Confidentiality status                          2624 non-null   object \n",
      " 36  DECIMALS                                        2624 non-null   int64  \n",
      " 37  Decimals                                        2624 non-null   object \n",
      " 38  OBS_STATUS                                      2624 non-null   object \n",
      " 39  Observation status                              2624 non-null   object \n",
      " 40  UNIT_MULT                                       2624 non-null   int64  \n",
      " 41  Unit multiplier                                 2624 non-null   object \n",
      " 42  CURRENCY                                        2624 non-null   object \n",
      " 43  Currency                                        2624 non-null   object \n",
      "dtypes: float64(4), int64(4), object(36)\n",
      "memory usage: 902.1+ KB\n"
     ]
    }
   ],
   "source": [
    "gdp_1970_deflated_df.info()"
   ]
  },
  {
   "cell_type": "code",
   "execution_count": 9,
   "id": "9ecca73d-9165-4ab2-9e21-cee00944aa9f",
   "metadata": {},
   "outputs": [
    {
     "data": {
      "text/plain": [
       "array([1970, 1971, 1972, 1973, 1974, 1975, 1976, 1977, 1978, 1979, 1980,\n",
       "       1981, 1982, 1983, 1984, 1985, 1986, 1987, 1988, 1989, 1990, 1991,\n",
       "       1992, 1993, 1994, 1995, 1996, 1997, 1998, 1999, 2000, 2001, 2002,\n",
       "       2003, 2004, 2005, 2006, 2007, 2008, 2009, 2010, 2011, 2012, 2013,\n",
       "       2014, 2015, 2016, 2017, 2018, 2019, 2020, 2021, 2022, 2023],\n",
       "      dtype=int64)"
      ]
     },
     "execution_count": 9,
     "metadata": {},
     "output_type": "execute_result"
    }
   ],
   "source": [
    "gdp_years = gdp_1970_deflated_df[\"TIME_PERIOD\"].unique()\n",
    "gdp_years.sort()\n",
    "gdp_years"
   ]
  },
  {
   "cell_type": "markdown",
   "id": "4977054d-479e-40c2-841b-ca9e359237d9",
   "metadata": {},
   "source": [
    "## 1.2) Social Policy Expenditure Data"
   ]
  },
  {
   "cell_type": "markdown",
   "id": "ec68fdbf-67dd-464e-bafd-ce002f405263",
   "metadata": {},
   "source": [
    "### 1.2.1) Total social policy expenditure as percentage of GDP"
   ]
  },
  {
   "cell_type": "code",
   "execution_count": 12,
   "id": "ee030d1a-3b59-45e3-ac97-74450503d577",
   "metadata": {},
   "outputs": [],
   "source": [
    "expend_on_social_policy_df = pd.read_csv(\"expenditure_on_social_policy.csv\")"
   ]
  },
  {
   "cell_type": "code",
   "execution_count": 13,
   "id": "e25cab45-6fb5-47cd-a609-371b2104d855",
   "metadata": {},
   "outputs": [
    {
     "name": "stdout",
     "output_type": "stream",
     "text": [
      "<class 'pandas.core.frame.DataFrame'>\n",
      "RangeIndex: 366 entries, 0 to 365\n",
      "Data columns (total 34 columns):\n",
      " #   Column                    Non-Null Count  Dtype  \n",
      "---  ------                    --------------  -----  \n",
      " 0   STRUCTURE                 366 non-null    object \n",
      " 1   STRUCTURE_ID              366 non-null    object \n",
      " 2   STRUCTURE_NAME            366 non-null    object \n",
      " 3   ACTION                    366 non-null    object \n",
      " 4   REF_AREA                  366 non-null    object \n",
      " 5   Reference area            366 non-null    object \n",
      " 6   FREQ                      366 non-null    object \n",
      " 7   Frequency of observation  366 non-null    object \n",
      " 8   MEASURE                   366 non-null    object \n",
      " 9   Measure                   366 non-null    object \n",
      " 10  UNIT_MEASURE              366 non-null    object \n",
      " 11  Unit of measure           366 non-null    object \n",
      " 12  EXPEND_SOURCE             366 non-null    object \n",
      " 13  Expenditure source        366 non-null    object \n",
      " 14  SPENDING_TYPE             366 non-null    object \n",
      " 15  Spending type             366 non-null    object \n",
      " 16  PROGRAMME_TYPE            366 non-null    object \n",
      " 17  Programme type            366 non-null    object \n",
      " 18  PRICE_BASE                366 non-null    object \n",
      " 19  Price base                366 non-null    object \n",
      " 20  TIME_PERIOD               366 non-null    int64  \n",
      " 21  Time period               0 non-null      float64\n",
      " 22  OBS_VALUE                 366 non-null    float64\n",
      " 23  Observation value         0 non-null      float64\n",
      " 24  OBS_STATUS                366 non-null    object \n",
      " 25  Observation status        366 non-null    object \n",
      " 26  UNIT_MULT                 366 non-null    int64  \n",
      " 27  Unit multiplier           366 non-null    object \n",
      " 28  DECIMALS                  366 non-null    int64  \n",
      " 29  Decimals                  366 non-null    object \n",
      " 30  CURRENCY                  366 non-null    object \n",
      " 31  Currency                  366 non-null    object \n",
      " 32  BASE_PER                  0 non-null      float64\n",
      " 33  Base period               0 non-null      float64\n",
      "dtypes: float64(5), int64(3), object(26)\n",
      "memory usage: 97.3+ KB\n"
     ]
    }
   ],
   "source": [
    "expend_on_social_policy_df.info()"
   ]
  },
  {
   "cell_type": "code",
   "execution_count": 14,
   "id": "c44080c1-e5b8-4b13-bd36-d0d948d3943d",
   "metadata": {},
   "outputs": [
    {
     "data": {
      "text/plain": [
       "STRUCTURE                     0\n",
       "STRUCTURE_ID                  0\n",
       "STRUCTURE_NAME                0\n",
       "ACTION                        0\n",
       "REF_AREA                      0\n",
       "Reference area                0\n",
       "FREQ                          0\n",
       "Frequency of observation      0\n",
       "MEASURE                       0\n",
       "Measure                       0\n",
       "UNIT_MEASURE                  0\n",
       "Unit of measure               0\n",
       "EXPEND_SOURCE                 0\n",
       "Expenditure source            0\n",
       "SPENDING_TYPE                 0\n",
       "Spending type                 0\n",
       "PROGRAMME_TYPE                0\n",
       "Programme type                0\n",
       "PRICE_BASE                    0\n",
       "Price base                    0\n",
       "TIME_PERIOD                   0\n",
       "Time period                 366\n",
       "OBS_VALUE                     0\n",
       "Observation value           366\n",
       "OBS_STATUS                    0\n",
       "Observation status            0\n",
       "UNIT_MULT                     0\n",
       "Unit multiplier               0\n",
       "DECIMALS                      0\n",
       "Decimals                      0\n",
       "CURRENCY                      0\n",
       "Currency                      0\n",
       "BASE_PER                    366\n",
       "Base period                 366\n",
       "dtype: int64"
      ]
     },
     "execution_count": 14,
     "metadata": {},
     "output_type": "execute_result"
    }
   ],
   "source": [
    "expend_on_social_policy_df.isnull().sum()"
   ]
  },
  {
   "cell_type": "markdown",
   "id": "947c24c5-6753-4053-a369-30b093b3627e",
   "metadata": {},
   "source": [
    "### 1.2.2) Social expenditure eu, usa and australia\n",
    "\n",
    "Link: https://data-explorer.oecd.org/vis?tm=Social%20expenditure&pg=0&snb=139&vw=tb&df[ds]=dsDisseminateFinalDMZ&df[id]=DSD_SOCX_AGG%40DF_SOCX_AGG&df[ag]=OECD.ELS.SPD&df[vs]=1.0&dq=AUS%2BAUT%2BBEL%2BCZE%2BDNK%2BEST%2BFIN%2BDEU%2BFRA%2BGRC%2BHUN%2BISL%2BIRL%2BISR%2BITA%2BLVA%2BLTU%2BLUX%2BNLD%2BNZL%2BNOR%2BPOL%2BPRT%2BSVK%2BSVN%2BESP%2BSWE%2BCHE%2BTUR%2BGBR%2BUSA.A..PT_OTE_S13%2BPT_B1GQ.ES10._T._T.&pd=1989%2C2022&to[TIME_PERIOD]=false&ly[cl]=TIME_PERIOD&ly[rw]=REF_AREA%2CCOMBINED_UNIT_MEASURE"
   ]
  },
  {
   "cell_type": "code",
   "execution_count": 16,
   "id": "d92e3cbc-1cce-4c1c-aad0-dfe7fd159521",
   "metadata": {},
   "outputs": [],
   "source": [
    "social_policy_eu_usa_australia_df = pd.read_csv(\"social_expenditure_eu_usa_australia.csv\")"
   ]
  },
  {
   "cell_type": "code",
   "execution_count": 17,
   "id": "d6ab151b-74f3-49f2-9416-19bbce806460",
   "metadata": {},
   "outputs": [
    {
     "data": {
      "text/plain": [
       "array([1989, 1990, 1991, 1992, 1993, 1994, 1995, 1996, 1997, 1998, 1999,\n",
       "       2000, 2001, 2002, 2003, 2004, 2005, 2006, 2007, 2008, 2009, 2010,\n",
       "       2011, 2012, 2013, 2014, 2015, 2016, 2017, 2018, 2019, 2020, 2021,\n",
       "       2022], dtype=int64)"
      ]
     },
     "execution_count": 17,
     "metadata": {},
     "output_type": "execute_result"
    }
   ],
   "source": [
    "social_policy_years = social_policy_eu_usa_australia_df[\"TIME_PERIOD\"].unique()\n",
    "social_policy_years.sort()\n",
    "social_policy_years"
   ]
  },
  {
   "cell_type": "code",
   "execution_count": 209,
   "id": "fbce9caf-78df-4e4b-b566-bc408a215d07",
   "metadata": {},
   "outputs": [
    {
     "name": "stdout",
     "output_type": "stream",
     "text": [
      "<class 'pandas.core.frame.DataFrame'>\n",
      "RangeIndex: 1821 entries, 0 to 1820\n",
      "Data columns (total 34 columns):\n",
      " #   Column                    Non-Null Count  Dtype  \n",
      "---  ------                    --------------  -----  \n",
      " 0   STRUCTURE                 1821 non-null   object \n",
      " 1   STRUCTURE_ID              1821 non-null   object \n",
      " 2   STRUCTURE_NAME            1821 non-null   object \n",
      " 3   ACTION                    1821 non-null   object \n",
      " 4   REF_AREA                  1821 non-null   object \n",
      " 5   Reference area            1821 non-null   object \n",
      " 6   FREQ                      1821 non-null   object \n",
      " 7   Frequency of observation  1821 non-null   object \n",
      " 8   MEASURE                   1821 non-null   object \n",
      " 9   Measure                   1821 non-null   object \n",
      " 10  UNIT_MEASURE              1821 non-null   object \n",
      " 11  Unit of measure           1821 non-null   object \n",
      " 12  EXPEND_SOURCE             1821 non-null   object \n",
      " 13  Expenditure source        1821 non-null   object \n",
      " 14  SPENDING_TYPE             1821 non-null   object \n",
      " 15  Spending type             1821 non-null   object \n",
      " 16  PROGRAMME_TYPE            1821 non-null   object \n",
      " 17  Programme type            1821 non-null   object \n",
      " 18  PRICE_BASE                1821 non-null   object \n",
      " 19  Price base                1821 non-null   object \n",
      " 20  TIME_PERIOD               1821 non-null   int64  \n",
      " 21  Time period               0 non-null      float64\n",
      " 22  OBS_VALUE                 1779 non-null   float64\n",
      " 23  Observation value         0 non-null      float64\n",
      " 24  OBS_STATUS                1821 non-null   object \n",
      " 25  Observation status        1821 non-null   object \n",
      " 26  UNIT_MULT                 1821 non-null   int64  \n",
      " 27  Unit multiplier           1821 non-null   object \n",
      " 28  DECIMALS                  1821 non-null   int64  \n",
      " 29  Decimals                  1821 non-null   object \n",
      " 30  CURRENCY                  1821 non-null   object \n",
      " 31  Currency                  1821 non-null   object \n",
      " 32  BASE_PER                  0 non-null      float64\n",
      " 33  Base period               0 non-null      float64\n",
      "dtypes: float64(5), int64(3), object(26)\n",
      "memory usage: 483.8+ KB\n"
     ]
    }
   ],
   "source": [
    "social_policy_eu_usa_australia_df.info()"
   ]
  },
  {
   "cell_type": "code",
   "execution_count": 213,
   "id": "386ecef8-40fb-447f-9df9-7a2f0e32e386",
   "metadata": {},
   "outputs": [],
   "source": [
    "social_exp_eu_usa_aus = social_policy_eu_usa_australia_df.drop(columns=['PROGRAMME_TYPE', 'SPENDING_TYPE', 'EXPEND_SOURCE', 'MEASURE', 'Price base', 'BASE_PER', 'Base period', 'STRUCTURE', 'STRUCTURE_ID', 'ACTION', 'FREQ', 'CURRENCY', 'Currency', 'Decimals',  'Time period', 'Observation value', 'PRICE_BASE', 'REF_AREA', 'STRUCTURE_NAME', 'Frequency of observation', 'UNIT_MULT', 'DECIMALS', 'UNIT_MEASURE'])"
   ]
  },
  {
   "cell_type": "code",
   "execution_count": 337,
   "id": "345364cd-c3d0-4ea7-a3f4-f969e2760813",
   "metadata": {},
   "outputs": [
    {
     "name": "stdout",
     "output_type": "stream",
     "text": [
      "['Percentage of general government expenditure' 'Percentage of GDP']\n"
     ]
    }
   ],
   "source": []
  },
  {
   "cell_type": "markdown",
   "id": "4456ca96-fd88-4607-a1ab-347ed512b296",
   "metadata": {},
   "source": [
    "## 1.3) Happiness"
   ]
  },
  {
   "cell_type": "code",
   "execution_count": null,
   "id": "a381401d-e9be-4900-b039-7380eb3fa6db",
   "metadata": {},
   "outputs": [],
   "source": []
  },
  {
   "cell_type": "markdown",
   "id": "c19dba16-16f2-461c-8091-fc162b358cc7",
   "metadata": {
    "jp-MarkdownHeadingCollapsed": true
   },
   "source": [
    "## 1.3.1) Wellbeing (hand picked features) 2004-2024"
   ]
  },
  {
   "cell_type": "code",
   "execution_count": 20,
   "id": "6025be06-32a3-4f30-b42b-2ed29e65c878",
   "metadata": {},
   "outputs": [],
   "source": [
    "current_wellbeing_df = pd.read_csv(\"current_wellbeing.csv\")"
   ]
  },
  {
   "cell_type": "code",
   "execution_count": 21,
   "id": "8c433b66-6372-4440-9939-62c9a8e04934",
   "metadata": {},
   "outputs": [
    {
     "name": "stdout",
     "output_type": "stream",
     "text": [
      "<class 'pandas.core.frame.DataFrame'>\n",
      "RangeIndex: 5466 entries, 0 to 5465\n",
      "Data columns (total 30 columns):\n",
      " #   Column              Non-Null Count  Dtype  \n",
      "---  ------              --------------  -----  \n",
      " 0   STRUCTURE           5466 non-null   object \n",
      " 1   STRUCTURE_ID        5466 non-null   object \n",
      " 2   STRUCTURE_NAME      5466 non-null   object \n",
      " 3   ACTION              5466 non-null   object \n",
      " 4   REF_AREA            5466 non-null   object \n",
      " 5   Reference area      5466 non-null   object \n",
      " 6   MEASURE             5466 non-null   object \n",
      " 7   Measure             5466 non-null   object \n",
      " 8   UNIT_MEASURE        5466 non-null   object \n",
      " 9   Unit of measure     5466 non-null   object \n",
      " 10  AGE                 5466 non-null   object \n",
      " 11  Age                 5466 non-null   object \n",
      " 12  SEX                 5466 non-null   object \n",
      " 13  Sex                 5466 non-null   object \n",
      " 14  EDUCATION_LEV       5466 non-null   object \n",
      " 15  Education level     5466 non-null   object \n",
      " 16  DOMAIN              5466 non-null   object \n",
      " 17  Domain              5466 non-null   object \n",
      " 18  TIME_PERIOD         5466 non-null   int64  \n",
      " 19  Time period         0 non-null      float64\n",
      " 20  OBS_VALUE           5466 non-null   float64\n",
      " 21  Observation value   0 non-null      float64\n",
      " 22  OBS_STATUS          5466 non-null   object \n",
      " 23  Observation status  5466 non-null   object \n",
      " 24  UNIT_MULT           5466 non-null   int64  \n",
      " 25  Unit multiplier     5466 non-null   object \n",
      " 26  DECIMALS            5466 non-null   int64  \n",
      " 27  Decimals            5466 non-null   object \n",
      " 28  BASE_PER            0 non-null      float64\n",
      " 29  Base period         0 non-null      float64\n",
      "dtypes: float64(5), int64(3), object(22)\n",
      "memory usage: 1.3+ MB\n"
     ]
    }
   ],
   "source": [
    "current_wellbeing_df.info()"
   ]
  },
  {
   "cell_type": "markdown",
   "id": "a2b4984f-06b9-4062-8097-b8d4aa0ab82e",
   "metadata": {},
   "source": [
    "## 1.3.2) World Happiness Report 2012"
   ]
  },
  {
   "cell_type": "code",
   "execution_count": 23,
   "id": "b2490cf3-eed2-46e0-9179-bafe2c8c955f",
   "metadata": {},
   "outputs": [],
   "source": [
    "world_happiness_2023 = pd.read_excel(\"data_happiness_2023.xls\")"
   ]
  },
  {
   "cell_type": "code",
   "execution_count": 24,
   "id": "4038947c-0a8c-4ccc-9100-3410430d0fea",
   "metadata": {},
   "outputs": [
    {
     "data": {
      "text/html": [
       "<div>\n",
       "<style scoped>\n",
       "    .dataframe tbody tr th:only-of-type {\n",
       "        vertical-align: middle;\n",
       "    }\n",
       "\n",
       "    .dataframe tbody tr th {\n",
       "        vertical-align: top;\n",
       "    }\n",
       "\n",
       "    .dataframe thead th {\n",
       "        text-align: right;\n",
       "    }\n",
       "</style>\n",
       "<table border=\"1\" class=\"dataframe\">\n",
       "  <thead>\n",
       "    <tr style=\"text-align: right;\">\n",
       "      <th></th>\n",
       "      <th>Country name</th>\n",
       "      <th>year</th>\n",
       "      <th>Life Ladder</th>\n",
       "      <th>Log GDP per capita</th>\n",
       "      <th>Social support</th>\n",
       "      <th>Healthy life expectancy at birth</th>\n",
       "      <th>Freedom to make life choices</th>\n",
       "      <th>Generosity</th>\n",
       "      <th>Perceptions of corruption</th>\n",
       "      <th>Positive affect</th>\n",
       "      <th>Negative affect</th>\n",
       "    </tr>\n",
       "  </thead>\n",
       "  <tbody>\n",
       "    <tr>\n",
       "      <th>0</th>\n",
       "      <td>Afghanistan</td>\n",
       "      <td>2008</td>\n",
       "      <td>3.723590</td>\n",
       "      <td>7.350416</td>\n",
       "      <td>0.450662</td>\n",
       "      <td>50.500000</td>\n",
       "      <td>0.718114</td>\n",
       "      <td>0.167652</td>\n",
       "      <td>0.881686</td>\n",
       "      <td>0.414297</td>\n",
       "      <td>0.258195</td>\n",
       "    </tr>\n",
       "    <tr>\n",
       "      <th>1</th>\n",
       "      <td>Afghanistan</td>\n",
       "      <td>2009</td>\n",
       "      <td>4.401778</td>\n",
       "      <td>7.508646</td>\n",
       "      <td>0.552308</td>\n",
       "      <td>50.799999</td>\n",
       "      <td>0.678896</td>\n",
       "      <td>0.190809</td>\n",
       "      <td>0.850035</td>\n",
       "      <td>0.481421</td>\n",
       "      <td>0.237092</td>\n",
       "    </tr>\n",
       "    <tr>\n",
       "      <th>2</th>\n",
       "      <td>Afghanistan</td>\n",
       "      <td>2010</td>\n",
       "      <td>4.758381</td>\n",
       "      <td>7.613900</td>\n",
       "      <td>0.539075</td>\n",
       "      <td>51.099998</td>\n",
       "      <td>0.600127</td>\n",
       "      <td>0.121316</td>\n",
       "      <td>0.706766</td>\n",
       "      <td>0.516907</td>\n",
       "      <td>0.275324</td>\n",
       "    </tr>\n",
       "    <tr>\n",
       "      <th>3</th>\n",
       "      <td>Afghanistan</td>\n",
       "      <td>2011</td>\n",
       "      <td>3.831719</td>\n",
       "      <td>7.581259</td>\n",
       "      <td>0.521104</td>\n",
       "      <td>51.400002</td>\n",
       "      <td>0.495901</td>\n",
       "      <td>0.163571</td>\n",
       "      <td>0.731109</td>\n",
       "      <td>0.479835</td>\n",
       "      <td>0.267175</td>\n",
       "    </tr>\n",
       "    <tr>\n",
       "      <th>4</th>\n",
       "      <td>Afghanistan</td>\n",
       "      <td>2012</td>\n",
       "      <td>3.782938</td>\n",
       "      <td>7.660506</td>\n",
       "      <td>0.520637</td>\n",
       "      <td>51.700001</td>\n",
       "      <td>0.530935</td>\n",
       "      <td>0.237588</td>\n",
       "      <td>0.775620</td>\n",
       "      <td>0.613513</td>\n",
       "      <td>0.267919</td>\n",
       "    </tr>\n",
       "  </tbody>\n",
       "</table>\n",
       "</div>"
      ],
      "text/plain": [
       "  Country name  year  Life Ladder  Log GDP per capita  Social support  \\\n",
       "0  Afghanistan  2008     3.723590            7.350416        0.450662   \n",
       "1  Afghanistan  2009     4.401778            7.508646        0.552308   \n",
       "2  Afghanistan  2010     4.758381            7.613900        0.539075   \n",
       "3  Afghanistan  2011     3.831719            7.581259        0.521104   \n",
       "4  Afghanistan  2012     3.782938            7.660506        0.520637   \n",
       "\n",
       "   Healthy life expectancy at birth  Freedom to make life choices  Generosity  \\\n",
       "0                         50.500000                      0.718114    0.167652   \n",
       "1                         50.799999                      0.678896    0.190809   \n",
       "2                         51.099998                      0.600127    0.121316   \n",
       "3                         51.400002                      0.495901    0.163571   \n",
       "4                         51.700001                      0.530935    0.237588   \n",
       "\n",
       "   Perceptions of corruption  Positive affect  Negative affect  \n",
       "0                   0.881686         0.414297         0.258195  \n",
       "1                   0.850035         0.481421         0.237092  \n",
       "2                   0.706766         0.516907         0.275324  \n",
       "3                   0.731109         0.479835         0.267175  \n",
       "4                   0.775620         0.613513         0.267919  "
      ]
     },
     "execution_count": 24,
     "metadata": {},
     "output_type": "execute_result"
    }
   ],
   "source": [
    "world_happiness_2023.head()"
   ]
  },
  {
   "cell_type": "code",
   "execution_count": 25,
   "id": "87cfc8b0-bf03-4f15-8670-20a203be2a2f",
   "metadata": {},
   "outputs": [
    {
     "data": {
      "text/html": [
       "<div>\n",
       "<style scoped>\n",
       "    .dataframe tbody tr th:only-of-type {\n",
       "        vertical-align: middle;\n",
       "    }\n",
       "\n",
       "    .dataframe tbody tr th {\n",
       "        vertical-align: top;\n",
       "    }\n",
       "\n",
       "    .dataframe thead th {\n",
       "        text-align: right;\n",
       "    }\n",
       "</style>\n",
       "<table border=\"1\" class=\"dataframe\">\n",
       "  <thead>\n",
       "    <tr style=\"text-align: right;\">\n",
       "      <th></th>\n",
       "      <th>year</th>\n",
       "      <th>Life Ladder</th>\n",
       "      <th>Log GDP per capita</th>\n",
       "      <th>Social support</th>\n",
       "      <th>Healthy life expectancy at birth</th>\n",
       "      <th>Freedom to make life choices</th>\n",
       "      <th>Generosity</th>\n",
       "      <th>Perceptions of corruption</th>\n",
       "      <th>Positive affect</th>\n",
       "      <th>Negative affect</th>\n",
       "    </tr>\n",
       "  </thead>\n",
       "  <tbody>\n",
       "    <tr>\n",
       "      <th>count</th>\n",
       "      <td>2199.000000</td>\n",
       "      <td>2199.000000</td>\n",
       "      <td>2179.000000</td>\n",
       "      <td>2186.000000</td>\n",
       "      <td>2145.000000</td>\n",
       "      <td>2166.000000</td>\n",
       "      <td>2126.000000</td>\n",
       "      <td>2083.000000</td>\n",
       "      <td>2175.000000</td>\n",
       "      <td>2183.000000</td>\n",
       "    </tr>\n",
       "    <tr>\n",
       "      <th>mean</th>\n",
       "      <td>2014.161437</td>\n",
       "      <td>5.479226</td>\n",
       "      <td>9.389766</td>\n",
       "      <td>0.810679</td>\n",
       "      <td>63.294583</td>\n",
       "      <td>0.747858</td>\n",
       "      <td>0.000096</td>\n",
       "      <td>0.745195</td>\n",
       "      <td>0.652143</td>\n",
       "      <td>0.271501</td>\n",
       "    </tr>\n",
       "    <tr>\n",
       "      <th>std</th>\n",
       "      <td>4.718736</td>\n",
       "      <td>1.125529</td>\n",
       "      <td>1.153387</td>\n",
       "      <td>0.120952</td>\n",
       "      <td>6.901104</td>\n",
       "      <td>0.140150</td>\n",
       "      <td>0.161083</td>\n",
       "      <td>0.185837</td>\n",
       "      <td>0.105922</td>\n",
       "      <td>0.086875</td>\n",
       "    </tr>\n",
       "    <tr>\n",
       "      <th>min</th>\n",
       "      <td>2005.000000</td>\n",
       "      <td>1.281271</td>\n",
       "      <td>5.526723</td>\n",
       "      <td>0.228217</td>\n",
       "      <td>6.720000</td>\n",
       "      <td>0.257534</td>\n",
       "      <td>-0.337527</td>\n",
       "      <td>0.035198</td>\n",
       "      <td>0.178886</td>\n",
       "      <td>0.082737</td>\n",
       "    </tr>\n",
       "    <tr>\n",
       "      <th>25%</th>\n",
       "      <td>2010.000000</td>\n",
       "      <td>4.646750</td>\n",
       "      <td>8.499764</td>\n",
       "      <td>0.746609</td>\n",
       "      <td>59.119999</td>\n",
       "      <td>0.656528</td>\n",
       "      <td>-0.112116</td>\n",
       "      <td>0.688139</td>\n",
       "      <td>0.571684</td>\n",
       "      <td>0.207660</td>\n",
       "    </tr>\n",
       "    <tr>\n",
       "      <th>50%</th>\n",
       "      <td>2014.000000</td>\n",
       "      <td>5.432437</td>\n",
       "      <td>9.498955</td>\n",
       "      <td>0.835535</td>\n",
       "      <td>65.050003</td>\n",
       "      <td>0.769821</td>\n",
       "      <td>-0.022671</td>\n",
       "      <td>0.799654</td>\n",
       "      <td>0.663063</td>\n",
       "      <td>0.260671</td>\n",
       "    </tr>\n",
       "    <tr>\n",
       "      <th>75%</th>\n",
       "      <td>2018.000000</td>\n",
       "      <td>6.309460</td>\n",
       "      <td>10.373216</td>\n",
       "      <td>0.904792</td>\n",
       "      <td>68.500000</td>\n",
       "      <td>0.859382</td>\n",
       "      <td>0.092070</td>\n",
       "      <td>0.868827</td>\n",
       "      <td>0.737936</td>\n",
       "      <td>0.322894</td>\n",
       "    </tr>\n",
       "    <tr>\n",
       "      <th>max</th>\n",
       "      <td>2022.000000</td>\n",
       "      <td>8.018934</td>\n",
       "      <td>11.663788</td>\n",
       "      <td>0.987343</td>\n",
       "      <td>74.474998</td>\n",
       "      <td>0.985178</td>\n",
       "      <td>0.702708</td>\n",
       "      <td>0.983276</td>\n",
       "      <td>0.883586</td>\n",
       "      <td>0.704590</td>\n",
       "    </tr>\n",
       "  </tbody>\n",
       "</table>\n",
       "</div>"
      ],
      "text/plain": [
       "              year  Life Ladder  Log GDP per capita  Social support  \\\n",
       "count  2199.000000  2199.000000         2179.000000     2186.000000   \n",
       "mean   2014.161437     5.479226            9.389766        0.810679   \n",
       "std       4.718736     1.125529            1.153387        0.120952   \n",
       "min    2005.000000     1.281271            5.526723        0.228217   \n",
       "25%    2010.000000     4.646750            8.499764        0.746609   \n",
       "50%    2014.000000     5.432437            9.498955        0.835535   \n",
       "75%    2018.000000     6.309460           10.373216        0.904792   \n",
       "max    2022.000000     8.018934           11.663788        0.987343   \n",
       "\n",
       "       Healthy life expectancy at birth  Freedom to make life choices  \\\n",
       "count                       2145.000000                   2166.000000   \n",
       "mean                          63.294583                      0.747858   \n",
       "std                            6.901104                      0.140150   \n",
       "min                            6.720000                      0.257534   \n",
       "25%                           59.119999                      0.656528   \n",
       "50%                           65.050003                      0.769821   \n",
       "75%                           68.500000                      0.859382   \n",
       "max                           74.474998                      0.985178   \n",
       "\n",
       "        Generosity  Perceptions of corruption  Positive affect  \\\n",
       "count  2126.000000                2083.000000      2175.000000   \n",
       "mean      0.000096                   0.745195         0.652143   \n",
       "std       0.161083                   0.185837         0.105922   \n",
       "min      -0.337527                   0.035198         0.178886   \n",
       "25%      -0.112116                   0.688139         0.571684   \n",
       "50%      -0.022671                   0.799654         0.663063   \n",
       "75%       0.092070                   0.868827         0.737936   \n",
       "max       0.702708                   0.983276         0.883586   \n",
       "\n",
       "       Negative affect  \n",
       "count      2183.000000  \n",
       "mean          0.271501  \n",
       "std           0.086875  \n",
       "min           0.082737  \n",
       "25%           0.207660  \n",
       "50%           0.260671  \n",
       "75%           0.322894  \n",
       "max           0.704590  "
      ]
     },
     "execution_count": 25,
     "metadata": {},
     "output_type": "execute_result"
    }
   ],
   "source": [
    "world_happiness_2023.describe()"
   ]
  },
  {
   "cell_type": "code",
   "execution_count": 26,
   "id": "cba6e189-0767-4b25-8e92-7cbbbe90e860",
   "metadata": {},
   "outputs": [
    {
     "name": "stdout",
     "output_type": "stream",
     "text": [
      "<class 'pandas.core.frame.DataFrame'>\n",
      "RangeIndex: 2199 entries, 0 to 2198\n",
      "Data columns (total 11 columns):\n",
      " #   Column                            Non-Null Count  Dtype  \n",
      "---  ------                            --------------  -----  \n",
      " 0   Country name                      2199 non-null   object \n",
      " 1   year                              2199 non-null   int64  \n",
      " 2   Life Ladder                       2199 non-null   float64\n",
      " 3   Log GDP per capita                2179 non-null   float64\n",
      " 4   Social support                    2186 non-null   float64\n",
      " 5   Healthy life expectancy at birth  2145 non-null   float64\n",
      " 6   Freedom to make life choices      2166 non-null   float64\n",
      " 7   Generosity                        2126 non-null   float64\n",
      " 8   Perceptions of corruption         2083 non-null   float64\n",
      " 9   Positive affect                   2175 non-null   float64\n",
      " 10  Negative affect                   2183 non-null   float64\n",
      "dtypes: float64(9), int64(1), object(1)\n",
      "memory usage: 189.1+ KB\n"
     ]
    }
   ],
   "source": [
    "world_happiness_2023.info()"
   ]
  },
  {
   "cell_type": "code",
   "execution_count": 27,
   "id": "a3aad1d4-3650-404e-9779-23502711c721",
   "metadata": {},
   "outputs": [
    {
     "name": "stdout",
     "output_type": "stream",
     "text": [
      "[2005 2006 2007 2008 2009 2010 2011 2012 2013 2014 2015 2016 2017 2018\n",
      " 2019 2020 2021 2022]\n"
     ]
    }
   ],
   "source": [
    "all_years_df = world_happiness_2023[\"year\"].unique()\n",
    "all_years_df.sort()\n",
    "print(all_years_df)"
   ]
  },
  {
   "cell_type": "markdown",
   "id": "710f4381-648d-49d7-a155-81352ff127a3",
   "metadata": {},
   "source": [
    "## 1.4) Taxation"
   ]
  },
  {
   "cell_type": "markdown",
   "id": "76bc773e-bcab-47e3-909e-c2d264292c86",
   "metadata": {},
   "source": [
    "### 1.4.1) European Commission: Taxation as percentage of GDP"
   ]
  },
  {
   "cell_type": "code",
   "execution_count": 30,
   "id": "ae7c85dd-d362-4dc0-8571-5c02602c0e8f",
   "metadata": {},
   "outputs": [],
   "source": [
    "total_taxes_df = pd.read_excel(\"tax-main-aggregates.xlsx\", header=2)"
   ]
  },
  {
   "cell_type": "code",
   "execution_count": 31,
   "id": "3b2cb08c-71d2-4550-b21d-e30673706ef5",
   "metadata": {},
   "outputs": [
    {
     "data": {
      "text/html": [
       "<div>\n",
       "<style scoped>\n",
       "    .dataframe tbody tr th:only-of-type {\n",
       "        vertical-align: middle;\n",
       "    }\n",
       "\n",
       "    .dataframe tbody tr th {\n",
       "        vertical-align: top;\n",
       "    }\n",
       "\n",
       "    .dataframe thead th {\n",
       "        text-align: right;\n",
       "    }\n",
       "</style>\n",
       "<table border=\"1\" class=\"dataframe\">\n",
       "  <thead>\n",
       "    <tr style=\"text-align: right;\">\n",
       "      <th></th>\n",
       "      <th>Unnamed: 0</th>\n",
       "      <th>2010</th>\n",
       "      <th>2011</th>\n",
       "      <th>2012</th>\n",
       "      <th>2013</th>\n",
       "      <th>2014</th>\n",
       "      <th>2015</th>\n",
       "      <th>2016</th>\n",
       "      <th>2017</th>\n",
       "      <th>2018</th>\n",
       "      <th>2019</th>\n",
       "      <th>2020</th>\n",
       "      <th>2021</th>\n",
       "      <th>2022</th>\n",
       "      <th>Difference 2012-2022 (pp)</th>\n",
       "      <th>Ranking 2022</th>\n",
       "      <th>Revenue 2022\\n(million EUR)</th>\n",
       "    </tr>\n",
       "  </thead>\n",
       "  <tbody>\n",
       "    <tr>\n",
       "      <th>0</th>\n",
       "      <td>EU-27</td>\n",
       "      <td>37.922746</td>\n",
       "      <td>38.345385</td>\n",
       "      <td>39.301449</td>\n",
       "      <td>39.787250</td>\n",
       "      <td>39.865975</td>\n",
       "      <td>39.730539</td>\n",
       "      <td>39.843225</td>\n",
       "      <td>39.930718</td>\n",
       "      <td>40.054073</td>\n",
       "      <td>39.944737</td>\n",
       "      <td>40.002493</td>\n",
       "      <td>40.395208</td>\n",
       "      <td>40.161307</td>\n",
       "      <td>0.9</td>\n",
       "      <td>NaN</td>\n",
       "      <td>6387768.3</td>\n",
       "    </tr>\n",
       "    <tr>\n",
       "      <th>1</th>\n",
       "      <td>EA-19</td>\n",
       "      <td>38.101209</td>\n",
       "      <td>38.586230</td>\n",
       "      <td>39.615106</td>\n",
       "      <td>40.116221</td>\n",
       "      <td>40.179571</td>\n",
       "      <td>40.061478</td>\n",
       "      <td>40.104618</td>\n",
       "      <td>40.241508</td>\n",
       "      <td>40.427915</td>\n",
       "      <td>40.296537</td>\n",
       "      <td>40.357165</td>\n",
       "      <td>40.786176</td>\n",
       "      <td>40.841225</td>\n",
       "      <td>1.2</td>\n",
       "      <td>NaN</td>\n",
       "      <td>5482502.8</td>\n",
       "    </tr>\n",
       "    <tr>\n",
       "      <th>2</th>\n",
       "      <td>Belgium</td>\n",
       "      <td>43.580535</td>\n",
       "      <td>44.369598</td>\n",
       "      <td>45.319126</td>\n",
       "      <td>46.033293</td>\n",
       "      <td>45.683596</td>\n",
       "      <td>44.991570</td>\n",
       "      <td>44.213578</td>\n",
       "      <td>44.747951</td>\n",
       "      <td>44.824441</td>\n",
       "      <td>43.467108</td>\n",
       "      <td>43.411264</td>\n",
       "      <td>43.166396</td>\n",
       "      <td>43.268219</td>\n",
       "      <td>-2.0</td>\n",
       "      <td>2.0</td>\n",
       "      <td>239725.1</td>\n",
       "    </tr>\n",
       "    <tr>\n",
       "      <th>3</th>\n",
       "      <td>Bulgaria</td>\n",
       "      <td>25.398276</td>\n",
       "      <td>25.477641</td>\n",
       "      <td>26.078859</td>\n",
       "      <td>28.132118</td>\n",
       "      <td>28.399268</td>\n",
       "      <td>28.863177</td>\n",
       "      <td>29.184384</td>\n",
       "      <td>29.840882</td>\n",
       "      <td>29.683558</td>\n",
       "      <td>30.353742</td>\n",
       "      <td>30.498298</td>\n",
       "      <td>30.785349</td>\n",
       "      <td>31.145084</td>\n",
       "      <td>5.0</td>\n",
       "      <td>23.0</td>\n",
       "      <td>26722.7</td>\n",
       "    </tr>\n",
       "    <tr>\n",
       "      <th>4</th>\n",
       "      <td>Czechia</td>\n",
       "      <td>32.854823</td>\n",
       "      <td>33.975879</td>\n",
       "      <td>34.497486</td>\n",
       "      <td>34.897577</td>\n",
       "      <td>34.136013</td>\n",
       "      <td>34.288463</td>\n",
       "      <td>35.075928</td>\n",
       "      <td>35.402552</td>\n",
       "      <td>35.972707</td>\n",
       "      <td>35.907027</td>\n",
       "      <td>35.923476</td>\n",
       "      <td>35.890107</td>\n",
       "      <td>35.287515</td>\n",
       "      <td>0.8</td>\n",
       "      <td>17.0</td>\n",
       "      <td>97487.3</td>\n",
       "    </tr>\n",
       "  </tbody>\n",
       "</table>\n",
       "</div>"
      ],
      "text/plain": [
       "  Unnamed: 0       2010       2011       2012       2013       2014  \\\n",
       "0      EU-27  37.922746  38.345385  39.301449  39.787250  39.865975   \n",
       "1      EA-19  38.101209  38.586230  39.615106  40.116221  40.179571   \n",
       "2    Belgium  43.580535  44.369598  45.319126  46.033293  45.683596   \n",
       "3   Bulgaria  25.398276  25.477641  26.078859  28.132118  28.399268   \n",
       "4    Czechia  32.854823  33.975879  34.497486  34.897577  34.136013   \n",
       "\n",
       "        2015       2016       2017       2018       2019       2020  \\\n",
       "0  39.730539  39.843225  39.930718  40.054073  39.944737  40.002493   \n",
       "1  40.061478  40.104618  40.241508  40.427915  40.296537  40.357165   \n",
       "2  44.991570  44.213578  44.747951  44.824441  43.467108  43.411264   \n",
       "3  28.863177  29.184384  29.840882  29.683558  30.353742  30.498298   \n",
       "4  34.288463  35.075928  35.402552  35.972707  35.907027  35.923476   \n",
       "\n",
       "        2021       2022  Difference 2012-2022 (pp)  Ranking 2022  \\\n",
       "0  40.395208  40.161307                        0.9           NaN   \n",
       "1  40.786176  40.841225                        1.2           NaN   \n",
       "2  43.166396  43.268219                       -2.0           2.0   \n",
       "3  30.785349  31.145084                        5.0          23.0   \n",
       "4  35.890107  35.287515                        0.8          17.0   \n",
       "\n",
       "   Revenue 2022\\n(million EUR)  \n",
       "0                    6387768.3  \n",
       "1                    5482502.8  \n",
       "2                     239725.1  \n",
       "3                      26722.7  \n",
       "4                      97487.3  "
      ]
     },
     "execution_count": 31,
     "metadata": {},
     "output_type": "execute_result"
    }
   ],
   "source": [
    "total_taxes_df.head()"
   ]
  },
  {
   "cell_type": "markdown",
   "id": "8969ae70-3114-4e1e-ad04-954910cb5328",
   "metadata": {},
   "source": [
    "# 2) Data exploration and feature engineering "
   ]
  },
  {
   "cell_type": "markdown",
   "id": "540417c5-d624-452a-9905-f28aea67aac2",
   "metadata": {},
   "source": [
    "## 2.1) GDP data"
   ]
  },
  {
   "cell_type": "markdown",
   "id": "cdbeeb3c-7df0-4252-b63f-fff5a85b734c",
   "metadata": {},
   "source": [
    "### 2.1.1) (OECD) GDP 1970-2023 deflated"
   ]
  },
  {
   "cell_type": "markdown",
   "id": "8184d3c7-fae6-4ca5-99e6-e87925e05652",
   "metadata": {},
   "source": [
    "#### 2.1.1.1) Removing columns to get an overview of the data"
   ]
  },
  {
   "cell_type": "code",
   "execution_count": 36,
   "id": "1345fdc0-760a-4114-8ece-08890034b328",
   "metadata": {},
   "outputs": [],
   "source": [
    "gdp_1970_defl_simple = gdp_1970_deflated_df.drop(columns=['STRUCTURE', 'STRUCTURE_ID', 'ACTION', 'FREQ', 'COUNTERPART_SECTOR', 'Counterpart institutional sector', 'CURRENCY', 'Currency', 'Decimals', 'Confidentiality status', 'CONF_STATUS', 'INSTR_ASSET', 'Financial instruments and non-financial assets', 'TABLE_IDENTIFIER', 'Table identifier', 'Time period', 'REF_YEAR_PRICE', 'Observation value', 'Price reference year', 'Economic activity', 'ACTIVITY', 'PRICE_BASE', 'TRANSFORMATION', 'Transformation', 'TRANSACTION', 'SECTOR', 'REF_AREA', 'STRUCTURE_NAME', 'Frequency of observation', 'UNIT_MULT', 'DECIMALS', 'EXPENDITURE', 'Expenditure', 'UNIT_MEASURE'])"
   ]
  },
  {
   "cell_type": "code",
   "execution_count": 37,
   "id": "ef81641b-1f1f-40b7-8032-389308dd920e",
   "metadata": {},
   "outputs": [
    {
     "data": {
      "text/html": [
       "<div>\n",
       "<style scoped>\n",
       "    .dataframe tbody tr th:only-of-type {\n",
       "        vertical-align: middle;\n",
       "    }\n",
       "\n",
       "    .dataframe tbody tr th {\n",
       "        vertical-align: top;\n",
       "    }\n",
       "\n",
       "    .dataframe thead th {\n",
       "        text-align: right;\n",
       "    }\n",
       "</style>\n",
       "<table border=\"1\" class=\"dataframe\">\n",
       "  <thead>\n",
       "    <tr style=\"text-align: right;\">\n",
       "      <th></th>\n",
       "      <th>Reference area</th>\n",
       "      <th>Institutional sector</th>\n",
       "      <th>Transaction</th>\n",
       "      <th>Unit of measure</th>\n",
       "      <th>Price base</th>\n",
       "      <th>TIME_PERIOD</th>\n",
       "      <th>OBS_VALUE</th>\n",
       "      <th>OBS_STATUS</th>\n",
       "      <th>Observation status</th>\n",
       "      <th>Unit multiplier</th>\n",
       "    </tr>\n",
       "  </thead>\n",
       "  <tbody>\n",
       "    <tr>\n",
       "      <th>0</th>\n",
       "      <td>Ireland</td>\n",
       "      <td>Total economy</td>\n",
       "      <td>Gross domestic product</td>\n",
       "      <td>US dollars, PPP converted</td>\n",
       "      <td>Chain linked volume (rebased)</td>\n",
       "      <td>2009</td>\n",
       "      <td>234829.565</td>\n",
       "      <td>A</td>\n",
       "      <td>Normal value</td>\n",
       "      <td>Millions</td>\n",
       "    </tr>\n",
       "    <tr>\n",
       "      <th>1</th>\n",
       "      <td>Switzerland</td>\n",
       "      <td>Total economy</td>\n",
       "      <td>Gross domestic product</td>\n",
       "      <td>US dollars, PPP converted</td>\n",
       "      <td>Chain linked volume (rebased)</td>\n",
       "      <td>2017</td>\n",
       "      <td>559252.338</td>\n",
       "      <td>A</td>\n",
       "      <td>Normal value</td>\n",
       "      <td>Millions</td>\n",
       "    </tr>\n",
       "    <tr>\n",
       "      <th>2</th>\n",
       "      <td>Switzerland</td>\n",
       "      <td>Total economy</td>\n",
       "      <td>Gross domestic product</td>\n",
       "      <td>US dollars, PPP converted</td>\n",
       "      <td>Chain linked volume (rebased)</td>\n",
       "      <td>2016</td>\n",
       "      <td>551733.319</td>\n",
       "      <td>A</td>\n",
       "      <td>Normal value</td>\n",
       "      <td>Millions</td>\n",
       "    </tr>\n",
       "    <tr>\n",
       "      <th>3</th>\n",
       "      <td>Colombia</td>\n",
       "      <td>Total economy</td>\n",
       "      <td>Gross domestic product</td>\n",
       "      <td>US dollars, PPP converted</td>\n",
       "      <td>Chain linked volume (rebased)</td>\n",
       "      <td>2018</td>\n",
       "      <td>662368.976</td>\n",
       "      <td>A</td>\n",
       "      <td>Normal value</td>\n",
       "      <td>Millions</td>\n",
       "    </tr>\n",
       "    <tr>\n",
       "      <th>4</th>\n",
       "      <td>Switzerland</td>\n",
       "      <td>Total economy</td>\n",
       "      <td>Gross domestic product</td>\n",
       "      <td>US dollars, PPP converted</td>\n",
       "      <td>Chain linked volume (rebased)</td>\n",
       "      <td>1971</td>\n",
       "      <td>270463.206</td>\n",
       "      <td>E</td>\n",
       "      <td>Estimated value</td>\n",
       "      <td>Millions</td>\n",
       "    </tr>\n",
       "  </tbody>\n",
       "</table>\n",
       "</div>"
      ],
      "text/plain": [
       "  Reference area Institutional sector             Transaction  \\\n",
       "0        Ireland        Total economy  Gross domestic product   \n",
       "1    Switzerland        Total economy  Gross domestic product   \n",
       "2    Switzerland        Total economy  Gross domestic product   \n",
       "3       Colombia        Total economy  Gross domestic product   \n",
       "4    Switzerland        Total economy  Gross domestic product   \n",
       "\n",
       "             Unit of measure                     Price base  TIME_PERIOD  \\\n",
       "0  US dollars, PPP converted  Chain linked volume (rebased)         2009   \n",
       "1  US dollars, PPP converted  Chain linked volume (rebased)         2017   \n",
       "2  US dollars, PPP converted  Chain linked volume (rebased)         2016   \n",
       "3  US dollars, PPP converted  Chain linked volume (rebased)         2018   \n",
       "4  US dollars, PPP converted  Chain linked volume (rebased)         1971   \n",
       "\n",
       "    OBS_VALUE OBS_STATUS Observation status Unit multiplier  \n",
       "0  234829.565          A       Normal value        Millions  \n",
       "1  559252.338          A       Normal value        Millions  \n",
       "2  551733.319          A       Normal value        Millions  \n",
       "3  662368.976          A       Normal value        Millions  \n",
       "4  270463.206          E    Estimated value        Millions  "
      ]
     },
     "execution_count": 37,
     "metadata": {},
     "output_type": "execute_result"
    }
   ],
   "source": [
    "gdp_1970_defl_simple.head()"
   ]
  },
  {
   "cell_type": "code",
   "execution_count": 38,
   "id": "36112ed1-e53c-4835-a5fd-6f28f69b3348",
   "metadata": {},
   "outputs": [
    {
     "data": {
      "text/plain": [
       "(2624, 10)"
      ]
     },
     "execution_count": 38,
     "metadata": {},
     "output_type": "execute_result"
    }
   ],
   "source": [
    "gdp_1970_defl_simple.shape"
   ]
  },
  {
   "cell_type": "code",
   "execution_count": 39,
   "id": "ed005e3a-4355-4b27-af39-dd451f0e3de2",
   "metadata": {},
   "outputs": [
    {
     "data": {
      "text/html": [
       "<div>\n",
       "<style scoped>\n",
       "    .dataframe tbody tr th:only-of-type {\n",
       "        vertical-align: middle;\n",
       "    }\n",
       "\n",
       "    .dataframe tbody tr th {\n",
       "        vertical-align: top;\n",
       "    }\n",
       "\n",
       "    .dataframe thead th {\n",
       "        text-align: right;\n",
       "    }\n",
       "</style>\n",
       "<table border=\"1\" class=\"dataframe\">\n",
       "  <thead>\n",
       "    <tr style=\"text-align: right;\">\n",
       "      <th></th>\n",
       "      <th>Reference area</th>\n",
       "      <th>Institutional sector</th>\n",
       "      <th>Transaction</th>\n",
       "      <th>Unit of measure</th>\n",
       "      <th>Price base</th>\n",
       "      <th>TIME_PERIOD</th>\n",
       "      <th>OBS_VALUE</th>\n",
       "      <th>OBS_STATUS</th>\n",
       "      <th>Observation status</th>\n",
       "      <th>Unit multiplier</th>\n",
       "    </tr>\n",
       "  </thead>\n",
       "  <tbody>\n",
       "    <tr>\n",
       "      <th>2435</th>\n",
       "      <td>Italy</td>\n",
       "      <td>Total economy</td>\n",
       "      <td>Gross domestic product</td>\n",
       "      <td>US dollars, PPP converted</td>\n",
       "      <td>Chain linked volume (rebased)</td>\n",
       "      <td>1975</td>\n",
       "      <td>1207254.975</td>\n",
       "      <td>E</td>\n",
       "      <td>Estimated value</td>\n",
       "      <td>Millions</td>\n",
       "    </tr>\n",
       "    <tr>\n",
       "      <th>2436</th>\n",
       "      <td>Italy</td>\n",
       "      <td>Total economy</td>\n",
       "      <td>Gross domestic product</td>\n",
       "      <td>US dollars, PPP converted</td>\n",
       "      <td>Chain linked volume (rebased)</td>\n",
       "      <td>1974</td>\n",
       "      <td>1233027.254</td>\n",
       "      <td>E</td>\n",
       "      <td>Estimated value</td>\n",
       "      <td>Millions</td>\n",
       "    </tr>\n",
       "    <tr>\n",
       "      <th>2437</th>\n",
       "      <td>Italy</td>\n",
       "      <td>Total economy</td>\n",
       "      <td>Gross domestic product</td>\n",
       "      <td>US dollars, PPP converted</td>\n",
       "      <td>Chain linked volume (rebased)</td>\n",
       "      <td>1973</td>\n",
       "      <td>1168744.649</td>\n",
       "      <td>E</td>\n",
       "      <td>Estimated value</td>\n",
       "      <td>Millions</td>\n",
       "    </tr>\n",
       "    <tr>\n",
       "      <th>2438</th>\n",
       "      <td>Italy</td>\n",
       "      <td>Total economy</td>\n",
       "      <td>Gross domestic product</td>\n",
       "      <td>US dollars, PPP converted</td>\n",
       "      <td>Chain linked volume (rebased)</td>\n",
       "      <td>1972</td>\n",
       "      <td>1091001.392</td>\n",
       "      <td>E</td>\n",
       "      <td>Estimated value</td>\n",
       "      <td>Millions</td>\n",
       "    </tr>\n",
       "    <tr>\n",
       "      <th>2439</th>\n",
       "      <td>Italy</td>\n",
       "      <td>Total economy</td>\n",
       "      <td>Gross domestic product</td>\n",
       "      <td>US dollars, PPP converted</td>\n",
       "      <td>Chain linked volume (rebased)</td>\n",
       "      <td>1971</td>\n",
       "      <td>1052171.165</td>\n",
       "      <td>E</td>\n",
       "      <td>Estimated value</td>\n",
       "      <td>Millions</td>\n",
       "    </tr>\n",
       "    <tr>\n",
       "      <th>2440</th>\n",
       "      <td>Italy</td>\n",
       "      <td>Total economy</td>\n",
       "      <td>Gross domestic product</td>\n",
       "      <td>US dollars, PPP converted</td>\n",
       "      <td>Chain linked volume (rebased)</td>\n",
       "      <td>1970</td>\n",
       "      <td>1033383.143</td>\n",
       "      <td>E</td>\n",
       "      <td>Estimated value</td>\n",
       "      <td>Millions</td>\n",
       "    </tr>\n",
       "    <tr>\n",
       "      <th>2441</th>\n",
       "      <td>Italy</td>\n",
       "      <td>Total economy</td>\n",
       "      <td>Gross domestic product</td>\n",
       "      <td>US dollars, PPP converted</td>\n",
       "      <td>Chain linked volume (rebased)</td>\n",
       "      <td>2023</td>\n",
       "      <td>2421454.720</td>\n",
       "      <td>A</td>\n",
       "      <td>Normal value</td>\n",
       "      <td>Millions</td>\n",
       "    </tr>\n",
       "    <tr>\n",
       "      <th>2442</th>\n",
       "      <td>Italy</td>\n",
       "      <td>Total economy</td>\n",
       "      <td>Gross domestic product</td>\n",
       "      <td>US dollars, PPP converted</td>\n",
       "      <td>Chain linked volume (rebased)</td>\n",
       "      <td>2022</td>\n",
       "      <td>2399363.963</td>\n",
       "      <td>A</td>\n",
       "      <td>Normal value</td>\n",
       "      <td>Millions</td>\n",
       "    </tr>\n",
       "    <tr>\n",
       "      <th>2443</th>\n",
       "      <td>Italy</td>\n",
       "      <td>Total economy</td>\n",
       "      <td>Gross domestic product</td>\n",
       "      <td>US dollars, PPP converted</td>\n",
       "      <td>Chain linked volume (rebased)</td>\n",
       "      <td>2021</td>\n",
       "      <td>2307393.619</td>\n",
       "      <td>A</td>\n",
       "      <td>Normal value</td>\n",
       "      <td>Millions</td>\n",
       "    </tr>\n",
       "    <tr>\n",
       "      <th>2444</th>\n",
       "      <td>Italy</td>\n",
       "      <td>Total economy</td>\n",
       "      <td>Gross domestic product</td>\n",
       "      <td>US dollars, PPP converted</td>\n",
       "      <td>Chain linked volume (rebased)</td>\n",
       "      <td>2020</td>\n",
       "      <td>2130355.931</td>\n",
       "      <td>A</td>\n",
       "      <td>Normal value</td>\n",
       "      <td>Millions</td>\n",
       "    </tr>\n",
       "  </tbody>\n",
       "</table>\n",
       "</div>"
      ],
      "text/plain": [
       "     Reference area Institutional sector             Transaction  \\\n",
       "2435          Italy        Total economy  Gross domestic product   \n",
       "2436          Italy        Total economy  Gross domestic product   \n",
       "2437          Italy        Total economy  Gross domestic product   \n",
       "2438          Italy        Total economy  Gross domestic product   \n",
       "2439          Italy        Total economy  Gross domestic product   \n",
       "2440          Italy        Total economy  Gross domestic product   \n",
       "2441          Italy        Total economy  Gross domestic product   \n",
       "2442          Italy        Total economy  Gross domestic product   \n",
       "2443          Italy        Total economy  Gross domestic product   \n",
       "2444          Italy        Total economy  Gross domestic product   \n",
       "\n",
       "                Unit of measure                     Price base  TIME_PERIOD  \\\n",
       "2435  US dollars, PPP converted  Chain linked volume (rebased)         1975   \n",
       "2436  US dollars, PPP converted  Chain linked volume (rebased)         1974   \n",
       "2437  US dollars, PPP converted  Chain linked volume (rebased)         1973   \n",
       "2438  US dollars, PPP converted  Chain linked volume (rebased)         1972   \n",
       "2439  US dollars, PPP converted  Chain linked volume (rebased)         1971   \n",
       "2440  US dollars, PPP converted  Chain linked volume (rebased)         1970   \n",
       "2441  US dollars, PPP converted  Chain linked volume (rebased)         2023   \n",
       "2442  US dollars, PPP converted  Chain linked volume (rebased)         2022   \n",
       "2443  US dollars, PPP converted  Chain linked volume (rebased)         2021   \n",
       "2444  US dollars, PPP converted  Chain linked volume (rebased)         2020   \n",
       "\n",
       "        OBS_VALUE OBS_STATUS Observation status Unit multiplier  \n",
       "2435  1207254.975          E    Estimated value        Millions  \n",
       "2436  1233027.254          E    Estimated value        Millions  \n",
       "2437  1168744.649          E    Estimated value        Millions  \n",
       "2438  1091001.392          E    Estimated value        Millions  \n",
       "2439  1052171.165          E    Estimated value        Millions  \n",
       "2440  1033383.143          E    Estimated value        Millions  \n",
       "2441  2421454.720          A       Normal value        Millions  \n",
       "2442  2399363.963          A       Normal value        Millions  \n",
       "2443  2307393.619          A       Normal value        Millions  \n",
       "2444  2130355.931          A       Normal value        Millions  "
      ]
     },
     "execution_count": 39,
     "metadata": {},
     "output_type": "execute_result"
    }
   ],
   "source": [
    "gdp_1970_defl_simple.iloc[2435:2445]"
   ]
  },
  {
   "cell_type": "code",
   "execution_count": 40,
   "id": "3b084cf0-83c7-4428-87b1-4cf32b26cef4",
   "metadata": {},
   "outputs": [
    {
     "data": {
      "text/plain": [
       "Reference area          0\n",
       "Institutional sector    0\n",
       "Transaction             0\n",
       "Unit of measure         0\n",
       "Price base              0\n",
       "TIME_PERIOD             0\n",
       "OBS_VALUE               0\n",
       "OBS_STATUS              0\n",
       "Observation status      0\n",
       "Unit multiplier         0\n",
       "dtype: int64"
      ]
     },
     "execution_count": 40,
     "metadata": {},
     "output_type": "execute_result"
    }
   ],
   "source": [
    "gdp_1970_defl_simple.isna().sum()"
   ]
  },
  {
   "cell_type": "code",
   "execution_count": 41,
   "id": "4ece3b84-b8dd-41f8-b803-6fa830b15ec3",
   "metadata": {},
   "outputs": [
    {
     "data": {
      "text/html": [
       "<div>\n",
       "<style scoped>\n",
       "    .dataframe tbody tr th:only-of-type {\n",
       "        vertical-align: middle;\n",
       "    }\n",
       "\n",
       "    .dataframe tbody tr th {\n",
       "        vertical-align: top;\n",
       "    }\n",
       "\n",
       "    .dataframe thead th {\n",
       "        text-align: right;\n",
       "    }\n",
       "</style>\n",
       "<table border=\"1\" class=\"dataframe\">\n",
       "  <thead>\n",
       "    <tr style=\"text-align: right;\">\n",
       "      <th></th>\n",
       "      <th>Reference area</th>\n",
       "      <th>Institutional sector</th>\n",
       "      <th>Transaction</th>\n",
       "      <th>Unit of measure</th>\n",
       "      <th>Price base</th>\n",
       "      <th>TIME_PERIOD</th>\n",
       "      <th>OBS_VALUE</th>\n",
       "      <th>OBS_STATUS</th>\n",
       "      <th>Observation status</th>\n",
       "      <th>Unit multiplier</th>\n",
       "    </tr>\n",
       "  </thead>\n",
       "  <tbody>\n",
       "    <tr>\n",
       "      <th>121</th>\n",
       "      <td>Portugal</td>\n",
       "      <td>Total economy</td>\n",
       "      <td>Gross domestic product</td>\n",
       "      <td>US dollars, PPP converted</td>\n",
       "      <td>Chain linked volume (rebased)</td>\n",
       "      <td>1970</td>\n",
       "      <td>1.024354e+05</td>\n",
       "      <td>E</td>\n",
       "      <td>Estimated value</td>\n",
       "      <td>Millions</td>\n",
       "    </tr>\n",
       "    <tr>\n",
       "      <th>786</th>\n",
       "      <td>France</td>\n",
       "      <td>Total economy</td>\n",
       "      <td>Gross domestic product</td>\n",
       "      <td>US dollars, PPP converted</td>\n",
       "      <td>Chain linked volume (rebased)</td>\n",
       "      <td>1970</td>\n",
       "      <td>9.921342e+05</td>\n",
       "      <td>A</td>\n",
       "      <td>Normal value</td>\n",
       "      <td>Millions</td>\n",
       "    </tr>\n",
       "    <tr>\n",
       "      <th>2440</th>\n",
       "      <td>Italy</td>\n",
       "      <td>Total economy</td>\n",
       "      <td>Gross domestic product</td>\n",
       "      <td>US dollars, PPP converted</td>\n",
       "      <td>Chain linked volume (rebased)</td>\n",
       "      <td>1970</td>\n",
       "      <td>1.033383e+06</td>\n",
       "      <td>E</td>\n",
       "      <td>Estimated value</td>\n",
       "      <td>Millions</td>\n",
       "    </tr>\n",
       "    <tr>\n",
       "      <th>1814</th>\n",
       "      <td>United States</td>\n",
       "      <td>Total economy</td>\n",
       "      <td>Gross domestic product</td>\n",
       "      <td>US dollars, PPP converted</td>\n",
       "      <td>Chain linked volume (rebased)</td>\n",
       "      <td>1970</td>\n",
       "      <td>5.173693e+06</td>\n",
       "      <td>A</td>\n",
       "      <td>Normal value</td>\n",
       "      <td>Millions</td>\n",
       "    </tr>\n",
       "    <tr>\n",
       "      <th>1049</th>\n",
       "      <td>Iceland</td>\n",
       "      <td>Total economy</td>\n",
       "      <td>Gross domestic product</td>\n",
       "      <td>US dollars, PPP converted</td>\n",
       "      <td>Chain linked volume (rebased)</td>\n",
       "      <td>1970</td>\n",
       "      <td>3.460969e+03</td>\n",
       "      <td>E</td>\n",
       "      <td>Estimated value</td>\n",
       "      <td>Millions</td>\n",
       "    </tr>\n",
       "    <tr>\n",
       "      <th>...</th>\n",
       "      <td>...</td>\n",
       "      <td>...</td>\n",
       "      <td>...</td>\n",
       "      <td>...</td>\n",
       "      <td>...</td>\n",
       "      <td>...</td>\n",
       "      <td>...</td>\n",
       "      <td>...</td>\n",
       "      <td>...</td>\n",
       "      <td>...</td>\n",
       "    </tr>\n",
       "    <tr>\n",
       "      <th>2183</th>\n",
       "      <td>Greece</td>\n",
       "      <td>Total economy</td>\n",
       "      <td>Gross domestic product</td>\n",
       "      <td>US dollars, PPP converted</td>\n",
       "      <td>Chain linked volume (rebased)</td>\n",
       "      <td>2023</td>\n",
       "      <td>3.193293e+05</td>\n",
       "      <td>P</td>\n",
       "      <td>Provisional value</td>\n",
       "      <td>Millions</td>\n",
       "    </tr>\n",
       "    <tr>\n",
       "      <th>765</th>\n",
       "      <td>Norway</td>\n",
       "      <td>Total economy</td>\n",
       "      <td>Gross domestic product</td>\n",
       "      <td>US dollars, PPP converted</td>\n",
       "      <td>Chain linked volume (rebased)</td>\n",
       "      <td>2023</td>\n",
       "      <td>3.536325e+05</td>\n",
       "      <td>A</td>\n",
       "      <td>Normal value</td>\n",
       "      <td>Millions</td>\n",
       "    </tr>\n",
       "    <tr>\n",
       "      <th>2357</th>\n",
       "      <td>Korea</td>\n",
       "      <td>Total economy</td>\n",
       "      <td>Gross domestic product</td>\n",
       "      <td>US dollars, PPP converted</td>\n",
       "      <td>Chain linked volume (rebased)</td>\n",
       "      <td>2023</td>\n",
       "      <td>2.327219e+06</td>\n",
       "      <td>E</td>\n",
       "      <td>Estimated value</td>\n",
       "      <td>Millions</td>\n",
       "    </tr>\n",
       "    <tr>\n",
       "      <th>2279</th>\n",
       "      <td>Slovak Republic</td>\n",
       "      <td>Total economy</td>\n",
       "      <td>Gross domestic product</td>\n",
       "      <td>US dollars, PPP converted</td>\n",
       "      <td>Chain linked volume (rebased)</td>\n",
       "      <td>2023</td>\n",
       "      <td>1.912215e+05</td>\n",
       "      <td>A</td>\n",
       "      <td>Normal value</td>\n",
       "      <td>Millions</td>\n",
       "    </tr>\n",
       "    <tr>\n",
       "      <th>578</th>\n",
       "      <td>Euro area (20 countries)</td>\n",
       "      <td>Total economy</td>\n",
       "      <td>Gross domestic product</td>\n",
       "      <td>US dollars, PPP converted</td>\n",
       "      <td>Chain linked volume (rebased)</td>\n",
       "      <td>2023</td>\n",
       "      <td>1.567318e+07</td>\n",
       "      <td>A</td>\n",
       "      <td>Normal value</td>\n",
       "      <td>Millions</td>\n",
       "    </tr>\n",
       "  </tbody>\n",
       "</table>\n",
       "<p>2624 rows × 10 columns</p>\n",
       "</div>"
      ],
      "text/plain": [
       "                Reference area Institutional sector             Transaction  \\\n",
       "121                   Portugal        Total economy  Gross domestic product   \n",
       "786                     France        Total economy  Gross domestic product   \n",
       "2440                     Italy        Total economy  Gross domestic product   \n",
       "1814             United States        Total economy  Gross domestic product   \n",
       "1049                   Iceland        Total economy  Gross domestic product   \n",
       "...                        ...                  ...                     ...   \n",
       "2183                    Greece        Total economy  Gross domestic product   \n",
       "765                     Norway        Total economy  Gross domestic product   \n",
       "2357                     Korea        Total economy  Gross domestic product   \n",
       "2279           Slovak Republic        Total economy  Gross domestic product   \n",
       "578   Euro area (20 countries)        Total economy  Gross domestic product   \n",
       "\n",
       "                Unit of measure                     Price base  TIME_PERIOD  \\\n",
       "121   US dollars, PPP converted  Chain linked volume (rebased)         1970   \n",
       "786   US dollars, PPP converted  Chain linked volume (rebased)         1970   \n",
       "2440  US dollars, PPP converted  Chain linked volume (rebased)         1970   \n",
       "1814  US dollars, PPP converted  Chain linked volume (rebased)         1970   \n",
       "1049  US dollars, PPP converted  Chain linked volume (rebased)         1970   \n",
       "...                         ...                            ...          ...   \n",
       "2183  US dollars, PPP converted  Chain linked volume (rebased)         2023   \n",
       "765   US dollars, PPP converted  Chain linked volume (rebased)         2023   \n",
       "2357  US dollars, PPP converted  Chain linked volume (rebased)         2023   \n",
       "2279  US dollars, PPP converted  Chain linked volume (rebased)         2023   \n",
       "578   US dollars, PPP converted  Chain linked volume (rebased)         2023   \n",
       "\n",
       "         OBS_VALUE OBS_STATUS Observation status Unit multiplier  \n",
       "121   1.024354e+05          E    Estimated value        Millions  \n",
       "786   9.921342e+05          A       Normal value        Millions  \n",
       "2440  1.033383e+06          E    Estimated value        Millions  \n",
       "1814  5.173693e+06          A       Normal value        Millions  \n",
       "1049  3.460969e+03          E    Estimated value        Millions  \n",
       "...            ...        ...                ...             ...  \n",
       "2183  3.193293e+05          P  Provisional value        Millions  \n",
       "765   3.536325e+05          A       Normal value        Millions  \n",
       "2357  2.327219e+06          E    Estimated value        Millions  \n",
       "2279  1.912215e+05          A       Normal value        Millions  \n",
       "578   1.567318e+07          A       Normal value        Millions  \n",
       "\n",
       "[2624 rows x 10 columns]"
      ]
     },
     "execution_count": 41,
     "metadata": {},
     "output_type": "execute_result"
    }
   ],
   "source": [
    "gdp_1970_defl_simple.sort_values(by=\"TIME_PERIOD\", inplace=False)"
   ]
  },
  {
   "cell_type": "code",
   "execution_count": 42,
   "id": "6a2338d1-bacf-4b04-8958-e7b845e73d3e",
   "metadata": {},
   "outputs": [],
   "source": [
    "ireland_df = gdp_1970_defl_simple[gdp_1970_defl_simple[\"Reference area\"] == \"Ireland\"]"
   ]
  },
  {
   "cell_type": "code",
   "execution_count": 43,
   "id": "6c3b915e-38dd-4754-afaf-09995b8bb2cf",
   "metadata": {},
   "outputs": [],
   "source": [
    "ire_df_copy = ireland_df.copy()"
   ]
  },
  {
   "cell_type": "code",
   "execution_count": 44,
   "id": "3a51f616-0bd0-475d-b6b9-e6fc725cf986",
   "metadata": {},
   "outputs": [
    {
     "data": {
      "text/html": [
       "<div>\n",
       "<style scoped>\n",
       "    .dataframe tbody tr th:only-of-type {\n",
       "        vertical-align: middle;\n",
       "    }\n",
       "\n",
       "    .dataframe tbody tr th {\n",
       "        vertical-align: top;\n",
       "    }\n",
       "\n",
       "    .dataframe thead th {\n",
       "        text-align: right;\n",
       "    }\n",
       "</style>\n",
       "<table border=\"1\" class=\"dataframe\">\n",
       "  <thead>\n",
       "    <tr style=\"text-align: right;\">\n",
       "      <th></th>\n",
       "      <th>Reference area</th>\n",
       "      <th>Institutional sector</th>\n",
       "      <th>Transaction</th>\n",
       "      <th>Unit of measure</th>\n",
       "      <th>Price base</th>\n",
       "      <th>TIME_PERIOD</th>\n",
       "      <th>OBS_VALUE</th>\n",
       "      <th>OBS_STATUS</th>\n",
       "      <th>Observation status</th>\n",
       "      <th>Unit multiplier</th>\n",
       "    </tr>\n",
       "  </thead>\n",
       "  <tbody>\n",
       "    <tr>\n",
       "      <th>0</th>\n",
       "      <td>Ireland</td>\n",
       "      <td>Total economy</td>\n",
       "      <td>Gross domestic product</td>\n",
       "      <td>US dollars, PPP converted</td>\n",
       "      <td>Chain linked volume (rebased)</td>\n",
       "      <td>2009</td>\n",
       "      <td>234829.565</td>\n",
       "      <td>A</td>\n",
       "      <td>Normal value</td>\n",
       "      <td>Millions</td>\n",
       "    </tr>\n",
       "    <tr>\n",
       "      <th>11</th>\n",
       "      <td>Ireland</td>\n",
       "      <td>Total economy</td>\n",
       "      <td>Gross domestic product</td>\n",
       "      <td>US dollars, PPP converted</td>\n",
       "      <td>Chain linked volume (rebased)</td>\n",
       "      <td>2020</td>\n",
       "      <td>453894.856</td>\n",
       "      <td>A</td>\n",
       "      <td>Normal value</td>\n",
       "      <td>Millions</td>\n",
       "    </tr>\n",
       "    <tr>\n",
       "      <th>2298</th>\n",
       "      <td>Ireland</td>\n",
       "      <td>Total economy</td>\n",
       "      <td>Gross domestic product</td>\n",
       "      <td>US dollars, PPP converted</td>\n",
       "      <td>Chain linked volume (rebased)</td>\n",
       "      <td>2016</td>\n",
       "      <td>340720.243</td>\n",
       "      <td>A</td>\n",
       "      <td>Normal value</td>\n",
       "      <td>Millions</td>\n",
       "    </tr>\n",
       "    <tr>\n",
       "      <th>2299</th>\n",
       "      <td>Ireland</td>\n",
       "      <td>Total economy</td>\n",
       "      <td>Gross domestic product</td>\n",
       "      <td>US dollars, PPP converted</td>\n",
       "      <td>Chain linked volume (rebased)</td>\n",
       "      <td>2015</td>\n",
       "      <td>336604.783</td>\n",
       "      <td>A</td>\n",
       "      <td>Normal value</td>\n",
       "      <td>Millions</td>\n",
       "    </tr>\n",
       "    <tr>\n",
       "      <th>2300</th>\n",
       "      <td>Ireland</td>\n",
       "      <td>Total economy</td>\n",
       "      <td>Gross domestic product</td>\n",
       "      <td>US dollars, PPP converted</td>\n",
       "      <td>Chain linked volume (rebased)</td>\n",
       "      <td>2014</td>\n",
       "      <td>270114.548</td>\n",
       "      <td>A</td>\n",
       "      <td>Normal value</td>\n",
       "      <td>Millions</td>\n",
       "    </tr>\n",
       "  </tbody>\n",
       "</table>\n",
       "</div>"
      ],
      "text/plain": [
       "     Reference area Institutional sector             Transaction  \\\n",
       "0           Ireland        Total economy  Gross domestic product   \n",
       "11          Ireland        Total economy  Gross domestic product   \n",
       "2298        Ireland        Total economy  Gross domestic product   \n",
       "2299        Ireland        Total economy  Gross domestic product   \n",
       "2300        Ireland        Total economy  Gross domestic product   \n",
       "\n",
       "                Unit of measure                     Price base  TIME_PERIOD  \\\n",
       "0     US dollars, PPP converted  Chain linked volume (rebased)         2009   \n",
       "11    US dollars, PPP converted  Chain linked volume (rebased)         2020   \n",
       "2298  US dollars, PPP converted  Chain linked volume (rebased)         2016   \n",
       "2299  US dollars, PPP converted  Chain linked volume (rebased)         2015   \n",
       "2300  US dollars, PPP converted  Chain linked volume (rebased)         2014   \n",
       "\n",
       "       OBS_VALUE OBS_STATUS Observation status Unit multiplier  \n",
       "0     234829.565          A       Normal value        Millions  \n",
       "11    453894.856          A       Normal value        Millions  \n",
       "2298  340720.243          A       Normal value        Millions  \n",
       "2299  336604.783          A       Normal value        Millions  \n",
       "2300  270114.548          A       Normal value        Millions  "
      ]
     },
     "execution_count": 44,
     "metadata": {},
     "output_type": "execute_result"
    }
   ],
   "source": [
    "ire_df_copy.head()"
   ]
  },
  {
   "cell_type": "markdown",
   "id": "401ed929-fd87-400b-8e63-3019481b010e",
   "metadata": {},
   "source": [
    "#### 2.1.1.2) Moving all OBS_VALUES (gdp) up a year (I need to move it down a year actually)"
   ]
  },
  {
   "cell_type": "code",
   "execution_count": null,
   "id": "be13edfb-53b7-4334-b2aa-374334bab866",
   "metadata": {},
   "outputs": [],
   "source": []
  },
  {
   "cell_type": "code",
   "execution_count": 46,
   "id": "d9cf22d7-a9ae-4711-9053-c782f2f39568",
   "metadata": {},
   "outputs": [],
   "source": [
    "ire_df_copy.sort_values(by=\"TIME_PERIOD\", inplace=True, ascending=True)"
   ]
  },
  {
   "cell_type": "code",
   "execution_count": 47,
   "id": "ee3686e1-e8ff-4ab8-8bb5-4d4599c54680",
   "metadata": {},
   "outputs": [],
   "source": [
    "ire_df_copy['OBS_VALUE'] = ire_df_copy['OBS_VALUE'].shift(+1)"
   ]
  },
  {
   "cell_type": "code",
   "execution_count": 48,
   "id": "6b7c8b3c-e4d9-4f51-9135-eec281362c57",
   "metadata": {},
   "outputs": [
    {
     "data": {
      "text/html": [
       "<div>\n",
       "<style scoped>\n",
       "    .dataframe tbody tr th:only-of-type {\n",
       "        vertical-align: middle;\n",
       "    }\n",
       "\n",
       "    .dataframe tbody tr th {\n",
       "        vertical-align: top;\n",
       "    }\n",
       "\n",
       "    .dataframe thead th {\n",
       "        text-align: right;\n",
       "    }\n",
       "</style>\n",
       "<table border=\"1\" class=\"dataframe\">\n",
       "  <thead>\n",
       "    <tr style=\"text-align: right;\">\n",
       "      <th></th>\n",
       "      <th>Reference area</th>\n",
       "      <th>Institutional sector</th>\n",
       "      <th>Transaction</th>\n",
       "      <th>Unit of measure</th>\n",
       "      <th>Price base</th>\n",
       "      <th>TIME_PERIOD</th>\n",
       "      <th>OBS_VALUE</th>\n",
       "      <th>OBS_STATUS</th>\n",
       "      <th>Observation status</th>\n",
       "      <th>Unit multiplier</th>\n",
       "    </tr>\n",
       "  </thead>\n",
       "  <tbody>\n",
       "    <tr>\n",
       "      <th>2619</th>\n",
       "      <td>Ireland</td>\n",
       "      <td>Total economy</td>\n",
       "      <td>Gross domestic product</td>\n",
       "      <td>US dollars, PPP converted</td>\n",
       "      <td>Chain linked volume (rebased)</td>\n",
       "      <td>1970</td>\n",
       "      <td>NaN</td>\n",
       "      <td>E</td>\n",
       "      <td>Estimated value</td>\n",
       "      <td>Millions</td>\n",
       "    </tr>\n",
       "    <tr>\n",
       "      <th>2618</th>\n",
       "      <td>Ireland</td>\n",
       "      <td>Total economy</td>\n",
       "      <td>Gross domestic product</td>\n",
       "      <td>US dollars, PPP converted</td>\n",
       "      <td>Chain linked volume (rebased)</td>\n",
       "      <td>1971</td>\n",
       "      <td>40517.027</td>\n",
       "      <td>E</td>\n",
       "      <td>Estimated value</td>\n",
       "      <td>Millions</td>\n",
       "    </tr>\n",
       "    <tr>\n",
       "      <th>2617</th>\n",
       "      <td>Ireland</td>\n",
       "      <td>Total economy</td>\n",
       "      <td>Gross domestic product</td>\n",
       "      <td>US dollars, PPP converted</td>\n",
       "      <td>Chain linked volume (rebased)</td>\n",
       "      <td>1972</td>\n",
       "      <td>41922.922</td>\n",
       "      <td>E</td>\n",
       "      <td>Estimated value</td>\n",
       "      <td>Millions</td>\n",
       "    </tr>\n",
       "    <tr>\n",
       "      <th>2616</th>\n",
       "      <td>Ireland</td>\n",
       "      <td>Total economy</td>\n",
       "      <td>Gross domestic product</td>\n",
       "      <td>US dollars, PPP converted</td>\n",
       "      <td>Chain linked volume (rebased)</td>\n",
       "      <td>1973</td>\n",
       "      <td>44643.640</td>\n",
       "      <td>E</td>\n",
       "      <td>Estimated value</td>\n",
       "      <td>Millions</td>\n",
       "    </tr>\n",
       "    <tr>\n",
       "      <th>2615</th>\n",
       "      <td>Ireland</td>\n",
       "      <td>Total economy</td>\n",
       "      <td>Gross domestic product</td>\n",
       "      <td>US dollars, PPP converted</td>\n",
       "      <td>Chain linked volume (rebased)</td>\n",
       "      <td>1974</td>\n",
       "      <td>46751.457</td>\n",
       "      <td>E</td>\n",
       "      <td>Estimated value</td>\n",
       "      <td>Millions</td>\n",
       "    </tr>\n",
       "  </tbody>\n",
       "</table>\n",
       "</div>"
      ],
      "text/plain": [
       "     Reference area Institutional sector             Transaction  \\\n",
       "2619        Ireland        Total economy  Gross domestic product   \n",
       "2618        Ireland        Total economy  Gross domestic product   \n",
       "2617        Ireland        Total economy  Gross domestic product   \n",
       "2616        Ireland        Total economy  Gross domestic product   \n",
       "2615        Ireland        Total economy  Gross domestic product   \n",
       "\n",
       "                Unit of measure                     Price base  TIME_PERIOD  \\\n",
       "2619  US dollars, PPP converted  Chain linked volume (rebased)         1970   \n",
       "2618  US dollars, PPP converted  Chain linked volume (rebased)         1971   \n",
       "2617  US dollars, PPP converted  Chain linked volume (rebased)         1972   \n",
       "2616  US dollars, PPP converted  Chain linked volume (rebased)         1973   \n",
       "2615  US dollars, PPP converted  Chain linked volume (rebased)         1974   \n",
       "\n",
       "      OBS_VALUE OBS_STATUS Observation status Unit multiplier  \n",
       "2619        NaN          E    Estimated value        Millions  \n",
       "2618  40517.027          E    Estimated value        Millions  \n",
       "2617  41922.922          E    Estimated value        Millions  \n",
       "2616  44643.640          E    Estimated value        Millions  \n",
       "2615  46751.457          E    Estimated value        Millions  "
      ]
     },
     "execution_count": 48,
     "metadata": {},
     "output_type": "execute_result"
    }
   ],
   "source": [
    "ire_df_copy.head()"
   ]
  },
  {
   "cell_type": "markdown",
   "id": "f9ce8a6c-a6db-4c06-878c-e25d2dc4bc8a",
   "metadata": {},
   "source": [
    "## 2.2) Social Policy Expenditure 1993-2023"
   ]
  },
  {
   "cell_type": "markdown",
   "id": "db36cb85-3388-40d8-9d15-34a9a366d153",
   "metadata": {},
   "source": [
    "### 2.2.1) Total social policy expenditure as percentage of GDP"
   ]
  },
  {
   "cell_type": "code",
   "execution_count": 51,
   "id": "df093667-abb0-49e5-84f7-972819630671",
   "metadata": {},
   "outputs": [
    {
     "name": "stdout",
     "output_type": "stream",
     "text": [
      "<class 'pandas.core.frame.DataFrame'>\n",
      "RangeIndex: 366 entries, 0 to 365\n",
      "Data columns (total 34 columns):\n",
      " #   Column                    Non-Null Count  Dtype  \n",
      "---  ------                    --------------  -----  \n",
      " 0   STRUCTURE                 366 non-null    object \n",
      " 1   STRUCTURE_ID              366 non-null    object \n",
      " 2   STRUCTURE_NAME            366 non-null    object \n",
      " 3   ACTION                    366 non-null    object \n",
      " 4   REF_AREA                  366 non-null    object \n",
      " 5   Reference area            366 non-null    object \n",
      " 6   FREQ                      366 non-null    object \n",
      " 7   Frequency of observation  366 non-null    object \n",
      " 8   MEASURE                   366 non-null    object \n",
      " 9   Measure                   366 non-null    object \n",
      " 10  UNIT_MEASURE              366 non-null    object \n",
      " 11  Unit of measure           366 non-null    object \n",
      " 12  EXPEND_SOURCE             366 non-null    object \n",
      " 13  Expenditure source        366 non-null    object \n",
      " 14  SPENDING_TYPE             366 non-null    object \n",
      " 15  Spending type             366 non-null    object \n",
      " 16  PROGRAMME_TYPE            366 non-null    object \n",
      " 17  Programme type            366 non-null    object \n",
      " 18  PRICE_BASE                366 non-null    object \n",
      " 19  Price base                366 non-null    object \n",
      " 20  TIME_PERIOD               366 non-null    int64  \n",
      " 21  Time period               0 non-null      float64\n",
      " 22  OBS_VALUE                 366 non-null    float64\n",
      " 23  Observation value         0 non-null      float64\n",
      " 24  OBS_STATUS                366 non-null    object \n",
      " 25  Observation status        366 non-null    object \n",
      " 26  UNIT_MULT                 366 non-null    int64  \n",
      " 27  Unit multiplier           366 non-null    object \n",
      " 28  DECIMALS                  366 non-null    int64  \n",
      " 29  Decimals                  366 non-null    object \n",
      " 30  CURRENCY                  366 non-null    object \n",
      " 31  Currency                  366 non-null    object \n",
      " 32  BASE_PER                  0 non-null      float64\n",
      " 33  Base period               0 non-null      float64\n",
      "dtypes: float64(5), int64(3), object(26)\n",
      "memory usage: 97.3+ KB\n"
     ]
    }
   ],
   "source": [
    "expend_on_social_policy_df.info()"
   ]
  },
  {
   "cell_type": "markdown",
   "id": "163925a2-154e-4d20-bf8a-1d4063983832",
   "metadata": {},
   "source": [
    "#### 2.2.1.1) Removing columns to get an overview of the data"
   ]
  },
  {
   "cell_type": "code",
   "execution_count": 53,
   "id": "d0268f69-cfab-41ba-8ccb-f1035bb852f2",
   "metadata": {},
   "outputs": [],
   "source": [
    "exp_social_df = expend_on_social_policy_df.drop(columns=['PROGRAMME_TYPE', 'SPENDING_TYPE', 'EXPEND_SOURCE', 'MEASURE', 'Price base', 'BASE_PER', 'Base period', 'STRUCTURE', 'STRUCTURE_ID', 'ACTION', 'FREQ', 'CURRENCY', 'Currency', 'Decimals',  'Time period', 'Observation value', 'PRICE_BASE', 'REF_AREA', 'STRUCTURE_NAME', 'Frequency of observation', 'UNIT_MULT', 'DECIMALS', 'UNIT_MEASURE'])"
   ]
  },
  {
   "cell_type": "code",
   "execution_count": 54,
   "id": "871c3ba4-c22d-48b5-9a49-adc55fb60a67",
   "metadata": {},
   "outputs": [
    {
     "data": {
      "text/html": [
       "<div>\n",
       "<style scoped>\n",
       "    .dataframe tbody tr th:only-of-type {\n",
       "        vertical-align: middle;\n",
       "    }\n",
       "\n",
       "    .dataframe tbody tr th {\n",
       "        vertical-align: top;\n",
       "    }\n",
       "\n",
       "    .dataframe thead th {\n",
       "        text-align: right;\n",
       "    }\n",
       "</style>\n",
       "<table border=\"1\" class=\"dataframe\">\n",
       "  <thead>\n",
       "    <tr style=\"text-align: right;\">\n",
       "      <th></th>\n",
       "      <th>Reference area</th>\n",
       "      <th>Measure</th>\n",
       "      <th>Unit of measure</th>\n",
       "      <th>Expenditure source</th>\n",
       "      <th>Spending type</th>\n",
       "      <th>Programme type</th>\n",
       "      <th>TIME_PERIOD</th>\n",
       "      <th>OBS_VALUE</th>\n",
       "      <th>OBS_STATUS</th>\n",
       "      <th>Observation status</th>\n",
       "      <th>Unit multiplier</th>\n",
       "    </tr>\n",
       "  </thead>\n",
       "  <tbody>\n",
       "    <tr>\n",
       "      <th>0</th>\n",
       "      <td>Türkiye</td>\n",
       "      <td>Social expenditure</td>\n",
       "      <td>Percentage of GDP</td>\n",
       "      <td>Net total</td>\n",
       "      <td>Total</td>\n",
       "      <td>Total</td>\n",
       "      <td>2017</td>\n",
       "      <td>11.803</td>\n",
       "      <td>A</td>\n",
       "      <td>Normal value</td>\n",
       "      <td>Units</td>\n",
       "    </tr>\n",
       "    <tr>\n",
       "      <th>1</th>\n",
       "      <td>Türkiye</td>\n",
       "      <td>Social expenditure</td>\n",
       "      <td>Percentage of GDP</td>\n",
       "      <td>Net total</td>\n",
       "      <td>Total</td>\n",
       "      <td>Total</td>\n",
       "      <td>2019</td>\n",
       "      <td>12.463</td>\n",
       "      <td>A</td>\n",
       "      <td>Normal value</td>\n",
       "      <td>Units</td>\n",
       "    </tr>\n",
       "    <tr>\n",
       "      <th>2</th>\n",
       "      <td>Türkiye</td>\n",
       "      <td>Social expenditure</td>\n",
       "      <td>Percentage of GDP</td>\n",
       "      <td>Net total</td>\n",
       "      <td>Total</td>\n",
       "      <td>Total</td>\n",
       "      <td>2005</td>\n",
       "      <td>9.333</td>\n",
       "      <td>A</td>\n",
       "      <td>Normal value</td>\n",
       "      <td>Units</td>\n",
       "    </tr>\n",
       "    <tr>\n",
       "      <th>3</th>\n",
       "      <td>Türkiye</td>\n",
       "      <td>Social expenditure</td>\n",
       "      <td>Percentage of GDP</td>\n",
       "      <td>Net total</td>\n",
       "      <td>Total</td>\n",
       "      <td>Total</td>\n",
       "      <td>2007</td>\n",
       "      <td>10.164</td>\n",
       "      <td>A</td>\n",
       "      <td>Normal value</td>\n",
       "      <td>Units</td>\n",
       "    </tr>\n",
       "    <tr>\n",
       "      <th>4</th>\n",
       "      <td>Türkiye</td>\n",
       "      <td>Social expenditure</td>\n",
       "      <td>Percentage of GDP</td>\n",
       "      <td>Net total</td>\n",
       "      <td>Total</td>\n",
       "      <td>Total</td>\n",
       "      <td>2009</td>\n",
       "      <td>12.074</td>\n",
       "      <td>A</td>\n",
       "      <td>Normal value</td>\n",
       "      <td>Units</td>\n",
       "    </tr>\n",
       "  </tbody>\n",
       "</table>\n",
       "</div>"
      ],
      "text/plain": [
       "  Reference area             Measure    Unit of measure Expenditure source  \\\n",
       "0        Türkiye  Social expenditure  Percentage of GDP          Net total   \n",
       "1        Türkiye  Social expenditure  Percentage of GDP          Net total   \n",
       "2        Türkiye  Social expenditure  Percentage of GDP          Net total   \n",
       "3        Türkiye  Social expenditure  Percentage of GDP          Net total   \n",
       "4        Türkiye  Social expenditure  Percentage of GDP          Net total   \n",
       "\n",
       "  Spending type Programme type  TIME_PERIOD  OBS_VALUE OBS_STATUS  \\\n",
       "0         Total          Total         2017     11.803          A   \n",
       "1         Total          Total         2019     12.463          A   \n",
       "2         Total          Total         2005      9.333          A   \n",
       "3         Total          Total         2007     10.164          A   \n",
       "4         Total          Total         2009     12.074          A   \n",
       "\n",
       "  Observation status Unit multiplier  \n",
       "0       Normal value           Units  \n",
       "1       Normal value           Units  \n",
       "2       Normal value           Units  \n",
       "3       Normal value           Units  \n",
       "4       Normal value           Units  "
      ]
     },
     "execution_count": 54,
     "metadata": {},
     "output_type": "execute_result"
    }
   ],
   "source": [
    "exp_social_df.head()\n"
   ]
  },
  {
   "cell_type": "code",
   "execution_count": 55,
   "id": "9234b026-022a-4ed1-b800-4ededa2b9e73",
   "metadata": {},
   "outputs": [
    {
     "name": "stdout",
     "output_type": "stream",
     "text": [
      "[1993 1995 1997 1999 2001 2003 2005 2007 2009 2011 2013 2015 2017 2019]\n"
     ]
    }
   ],
   "source": [
    "all_years_social_exp = exp_social_df[\"TIME_PERIOD\"].unique()\n",
    "all_years_social_exp.sort()\n",
    "print(all_years_social_exp)"
   ]
  },
  {
   "cell_type": "code",
   "execution_count": 56,
   "id": "569f3bf5-f8ff-4048-a857-23f843e5d7f0",
   "metadata": {},
   "outputs": [
    {
     "name": "stdout",
     "output_type": "stream",
     "text": [
      "<class 'pandas.core.frame.DataFrame'>\n",
      "Index: 36 entries, 0 to 358\n",
      "Data columns (total 11 columns):\n",
      " #   Column              Non-Null Count  Dtype  \n",
      "---  ------              --------------  -----  \n",
      " 0   Reference area      36 non-null     object \n",
      " 1   Measure             36 non-null     object \n",
      " 2   Unit of measure     36 non-null     object \n",
      " 3   Expenditure source  36 non-null     object \n",
      " 4   Spending type       36 non-null     object \n",
      " 5   Programme type      36 non-null     object \n",
      " 6   TIME_PERIOD         36 non-null     int64  \n",
      " 7   OBS_VALUE           36 non-null     float64\n",
      " 8   OBS_STATUS          36 non-null     object \n",
      " 9   Observation status  36 non-null     object \n",
      " 10  Unit multiplier     36 non-null     object \n",
      "dtypes: float64(1), int64(1), object(9)\n",
      "memory usage: 3.4+ KB\n"
     ]
    }
   ],
   "source": [
    "df_obs_status = exp_social_df[exp_social_df[\"TIME_PERIOD\"] == 2017]\n",
    "df_obs_status.info()"
   ]
  },
  {
   "cell_type": "code",
   "execution_count": 57,
   "id": "767b0921-25f4-40a5-942f-d805735ff17f",
   "metadata": {},
   "outputs": [],
   "source": [
    "exp_social_df_DK = exp_social_df[exp_social_df[\"Reference area\"] == \"Denmark\"]"
   ]
  },
  {
   "cell_type": "code",
   "execution_count": 58,
   "id": "cde1278e-2a3c-4a5e-8dc2-2c6bb56a7470",
   "metadata": {},
   "outputs": [
    {
     "data": {
      "text/html": [
       "<div>\n",
       "<style scoped>\n",
       "    .dataframe tbody tr th:only-of-type {\n",
       "        vertical-align: middle;\n",
       "    }\n",
       "\n",
       "    .dataframe tbody tr th {\n",
       "        vertical-align: top;\n",
       "    }\n",
       "\n",
       "    .dataframe thead th {\n",
       "        text-align: right;\n",
       "    }\n",
       "</style>\n",
       "<table border=\"1\" class=\"dataframe\">\n",
       "  <thead>\n",
       "    <tr style=\"text-align: right;\">\n",
       "      <th></th>\n",
       "      <th>Reference area</th>\n",
       "      <th>Measure</th>\n",
       "      <th>Unit of measure</th>\n",
       "      <th>Expenditure source</th>\n",
       "      <th>Spending type</th>\n",
       "      <th>Programme type</th>\n",
       "      <th>TIME_PERIOD</th>\n",
       "      <th>OBS_VALUE</th>\n",
       "      <th>OBS_STATUS</th>\n",
       "      <th>Observation status</th>\n",
       "      <th>Unit multiplier</th>\n",
       "    </tr>\n",
       "  </thead>\n",
       "  <tbody>\n",
       "    <tr>\n",
       "      <th>224</th>\n",
       "      <td>Denmark</td>\n",
       "      <td>Social expenditure</td>\n",
       "      <td>Percentage of GDP</td>\n",
       "      <td>Net total</td>\n",
       "      <td>Total</td>\n",
       "      <td>Total</td>\n",
       "      <td>2005</td>\n",
       "      <td>21.821</td>\n",
       "      <td>A</td>\n",
       "      <td>Normal value</td>\n",
       "      <td>Units</td>\n",
       "    </tr>\n",
       "    <tr>\n",
       "      <th>225</th>\n",
       "      <td>Denmark</td>\n",
       "      <td>Social expenditure</td>\n",
       "      <td>Percentage of GDP</td>\n",
       "      <td>Net total</td>\n",
       "      <td>Total</td>\n",
       "      <td>Total</td>\n",
       "      <td>2007</td>\n",
       "      <td>22.839</td>\n",
       "      <td>A</td>\n",
       "      <td>Normal value</td>\n",
       "      <td>Units</td>\n",
       "    </tr>\n",
       "    <tr>\n",
       "      <th>226</th>\n",
       "      <td>Denmark</td>\n",
       "      <td>Social expenditure</td>\n",
       "      <td>Percentage of GDP</td>\n",
       "      <td>Net total</td>\n",
       "      <td>Total</td>\n",
       "      <td>Total</td>\n",
       "      <td>2009</td>\n",
       "      <td>26.397</td>\n",
       "      <td>A</td>\n",
       "      <td>Normal value</td>\n",
       "      <td>Units</td>\n",
       "    </tr>\n",
       "    <tr>\n",
       "      <th>227</th>\n",
       "      <td>Denmark</td>\n",
       "      <td>Social expenditure</td>\n",
       "      <td>Percentage of GDP</td>\n",
       "      <td>Net total</td>\n",
       "      <td>Total</td>\n",
       "      <td>Total</td>\n",
       "      <td>2011</td>\n",
       "      <td>26.442</td>\n",
       "      <td>A</td>\n",
       "      <td>Normal value</td>\n",
       "      <td>Units</td>\n",
       "    </tr>\n",
       "    <tr>\n",
       "      <th>228</th>\n",
       "      <td>Denmark</td>\n",
       "      <td>Social expenditure</td>\n",
       "      <td>Percentage of GDP</td>\n",
       "      <td>Net total</td>\n",
       "      <td>Total</td>\n",
       "      <td>Total</td>\n",
       "      <td>2013</td>\n",
       "      <td>26.787</td>\n",
       "      <td>A</td>\n",
       "      <td>Normal value</td>\n",
       "      <td>Units</td>\n",
       "    </tr>\n",
       "  </tbody>\n",
       "</table>\n",
       "</div>"
      ],
      "text/plain": [
       "    Reference area             Measure    Unit of measure Expenditure source  \\\n",
       "224        Denmark  Social expenditure  Percentage of GDP          Net total   \n",
       "225        Denmark  Social expenditure  Percentage of GDP          Net total   \n",
       "226        Denmark  Social expenditure  Percentage of GDP          Net total   \n",
       "227        Denmark  Social expenditure  Percentage of GDP          Net total   \n",
       "228        Denmark  Social expenditure  Percentage of GDP          Net total   \n",
       "\n",
       "    Spending type Programme type  TIME_PERIOD  OBS_VALUE OBS_STATUS  \\\n",
       "224         Total          Total         2005     21.821          A   \n",
       "225         Total          Total         2007     22.839          A   \n",
       "226         Total          Total         2009     26.397          A   \n",
       "227         Total          Total         2011     26.442          A   \n",
       "228         Total          Total         2013     26.787          A   \n",
       "\n",
       "    Observation status Unit multiplier  \n",
       "224       Normal value           Units  \n",
       "225       Normal value           Units  \n",
       "226       Normal value           Units  \n",
       "227       Normal value           Units  \n",
       "228       Normal value           Units  "
      ]
     },
     "execution_count": 58,
     "metadata": {},
     "output_type": "execute_result"
    }
   ],
   "source": [
    "exp_social_df_DK.head()"
   ]
  },
  {
   "cell_type": "code",
   "execution_count": 59,
   "id": "85238110-7f36-4a98-a727-026b05a8051c",
   "metadata": {},
   "outputs": [
    {
     "data": {
      "text/html": [
       "<div>\n",
       "<style scoped>\n",
       "    .dataframe tbody tr th:only-of-type {\n",
       "        vertical-align: middle;\n",
       "    }\n",
       "\n",
       "    .dataframe tbody tr th {\n",
       "        vertical-align: top;\n",
       "    }\n",
       "\n",
       "    .dataframe thead th {\n",
       "        text-align: right;\n",
       "    }\n",
       "</style>\n",
       "<table border=\"1\" class=\"dataframe\">\n",
       "  <thead>\n",
       "    <tr style=\"text-align: right;\">\n",
       "      <th></th>\n",
       "      <th>Reference area</th>\n",
       "      <th>Measure</th>\n",
       "      <th>Unit of measure</th>\n",
       "      <th>Expenditure source</th>\n",
       "      <th>Spending type</th>\n",
       "      <th>Programme type</th>\n",
       "      <th>TIME_PERIOD</th>\n",
       "      <th>OBS_VALUE</th>\n",
       "      <th>OBS_STATUS</th>\n",
       "      <th>Observation status</th>\n",
       "      <th>Unit multiplier</th>\n",
       "    </tr>\n",
       "  </thead>\n",
       "  <tbody>\n",
       "    <tr>\n",
       "      <th>232</th>\n",
       "      <td>Denmark</td>\n",
       "      <td>Social expenditure</td>\n",
       "      <td>Percentage of GDP</td>\n",
       "      <td>Net total</td>\n",
       "      <td>Total</td>\n",
       "      <td>Total</td>\n",
       "      <td>1993</td>\n",
       "      <td>23.610</td>\n",
       "      <td>A</td>\n",
       "      <td>Normal value</td>\n",
       "      <td>Units</td>\n",
       "    </tr>\n",
       "    <tr>\n",
       "      <th>233</th>\n",
       "      <td>Denmark</td>\n",
       "      <td>Social expenditure</td>\n",
       "      <td>Percentage of GDP</td>\n",
       "      <td>Net total</td>\n",
       "      <td>Total</td>\n",
       "      <td>Total</td>\n",
       "      <td>1995</td>\n",
       "      <td>22.994</td>\n",
       "      <td>A</td>\n",
       "      <td>Normal value</td>\n",
       "      <td>Units</td>\n",
       "    </tr>\n",
       "    <tr>\n",
       "      <th>234</th>\n",
       "      <td>Denmark</td>\n",
       "      <td>Social expenditure</td>\n",
       "      <td>Percentage of GDP</td>\n",
       "      <td>Net total</td>\n",
       "      <td>Total</td>\n",
       "      <td>Total</td>\n",
       "      <td>1997</td>\n",
       "      <td>21.604</td>\n",
       "      <td>A</td>\n",
       "      <td>Normal value</td>\n",
       "      <td>Units</td>\n",
       "    </tr>\n",
       "    <tr>\n",
       "      <th>235</th>\n",
       "      <td>Denmark</td>\n",
       "      <td>Social expenditure</td>\n",
       "      <td>Percentage of GDP</td>\n",
       "      <td>Net total</td>\n",
       "      <td>Total</td>\n",
       "      <td>Total</td>\n",
       "      <td>1999</td>\n",
       "      <td>21.638</td>\n",
       "      <td>A</td>\n",
       "      <td>Normal value</td>\n",
       "      <td>Units</td>\n",
       "    </tr>\n",
       "    <tr>\n",
       "      <th>236</th>\n",
       "      <td>Denmark</td>\n",
       "      <td>Social expenditure</td>\n",
       "      <td>Percentage of GDP</td>\n",
       "      <td>Net total</td>\n",
       "      <td>Total</td>\n",
       "      <td>Total</td>\n",
       "      <td>2001</td>\n",
       "      <td>20.879</td>\n",
       "      <td>A</td>\n",
       "      <td>Normal value</td>\n",
       "      <td>Units</td>\n",
       "    </tr>\n",
       "    <tr>\n",
       "      <th>237</th>\n",
       "      <td>Denmark</td>\n",
       "      <td>Social expenditure</td>\n",
       "      <td>Percentage of GDP</td>\n",
       "      <td>Net total</td>\n",
       "      <td>Total</td>\n",
       "      <td>Total</td>\n",
       "      <td>2003</td>\n",
       "      <td>22.152</td>\n",
       "      <td>A</td>\n",
       "      <td>Normal value</td>\n",
       "      <td>Units</td>\n",
       "    </tr>\n",
       "    <tr>\n",
       "      <th>224</th>\n",
       "      <td>Denmark</td>\n",
       "      <td>Social expenditure</td>\n",
       "      <td>Percentage of GDP</td>\n",
       "      <td>Net total</td>\n",
       "      <td>Total</td>\n",
       "      <td>Total</td>\n",
       "      <td>2005</td>\n",
       "      <td>21.821</td>\n",
       "      <td>A</td>\n",
       "      <td>Normal value</td>\n",
       "      <td>Units</td>\n",
       "    </tr>\n",
       "    <tr>\n",
       "      <th>225</th>\n",
       "      <td>Denmark</td>\n",
       "      <td>Social expenditure</td>\n",
       "      <td>Percentage of GDP</td>\n",
       "      <td>Net total</td>\n",
       "      <td>Total</td>\n",
       "      <td>Total</td>\n",
       "      <td>2007</td>\n",
       "      <td>22.839</td>\n",
       "      <td>A</td>\n",
       "      <td>Normal value</td>\n",
       "      <td>Units</td>\n",
       "    </tr>\n",
       "    <tr>\n",
       "      <th>226</th>\n",
       "      <td>Denmark</td>\n",
       "      <td>Social expenditure</td>\n",
       "      <td>Percentage of GDP</td>\n",
       "      <td>Net total</td>\n",
       "      <td>Total</td>\n",
       "      <td>Total</td>\n",
       "      <td>2009</td>\n",
       "      <td>26.397</td>\n",
       "      <td>A</td>\n",
       "      <td>Normal value</td>\n",
       "      <td>Units</td>\n",
       "    </tr>\n",
       "    <tr>\n",
       "      <th>227</th>\n",
       "      <td>Denmark</td>\n",
       "      <td>Social expenditure</td>\n",
       "      <td>Percentage of GDP</td>\n",
       "      <td>Net total</td>\n",
       "      <td>Total</td>\n",
       "      <td>Total</td>\n",
       "      <td>2011</td>\n",
       "      <td>26.442</td>\n",
       "      <td>A</td>\n",
       "      <td>Normal value</td>\n",
       "      <td>Units</td>\n",
       "    </tr>\n",
       "    <tr>\n",
       "      <th>228</th>\n",
       "      <td>Denmark</td>\n",
       "      <td>Social expenditure</td>\n",
       "      <td>Percentage of GDP</td>\n",
       "      <td>Net total</td>\n",
       "      <td>Total</td>\n",
       "      <td>Total</td>\n",
       "      <td>2013</td>\n",
       "      <td>26.787</td>\n",
       "      <td>A</td>\n",
       "      <td>Normal value</td>\n",
       "      <td>Units</td>\n",
       "    </tr>\n",
       "    <tr>\n",
       "      <th>229</th>\n",
       "      <td>Denmark</td>\n",
       "      <td>Social expenditure</td>\n",
       "      <td>Percentage of GDP</td>\n",
       "      <td>Net total</td>\n",
       "      <td>Total</td>\n",
       "      <td>Total</td>\n",
       "      <td>2015</td>\n",
       "      <td>26.444</td>\n",
       "      <td>A</td>\n",
       "      <td>Normal value</td>\n",
       "      <td>Units</td>\n",
       "    </tr>\n",
       "    <tr>\n",
       "      <th>230</th>\n",
       "      <td>Denmark</td>\n",
       "      <td>Social expenditure</td>\n",
       "      <td>Percentage of GDP</td>\n",
       "      <td>Net total</td>\n",
       "      <td>Total</td>\n",
       "      <td>Total</td>\n",
       "      <td>2017</td>\n",
       "      <td>25.173</td>\n",
       "      <td>A</td>\n",
       "      <td>Normal value</td>\n",
       "      <td>Units</td>\n",
       "    </tr>\n",
       "    <tr>\n",
       "      <th>231</th>\n",
       "      <td>Denmark</td>\n",
       "      <td>Social expenditure</td>\n",
       "      <td>Percentage of GDP</td>\n",
       "      <td>Net total</td>\n",
       "      <td>Total</td>\n",
       "      <td>Total</td>\n",
       "      <td>2019</td>\n",
       "      <td>24.652</td>\n",
       "      <td>A</td>\n",
       "      <td>Normal value</td>\n",
       "      <td>Units</td>\n",
       "    </tr>\n",
       "  </tbody>\n",
       "</table>\n",
       "</div>"
      ],
      "text/plain": [
       "    Reference area             Measure    Unit of measure Expenditure source  \\\n",
       "232        Denmark  Social expenditure  Percentage of GDP          Net total   \n",
       "233        Denmark  Social expenditure  Percentage of GDP          Net total   \n",
       "234        Denmark  Social expenditure  Percentage of GDP          Net total   \n",
       "235        Denmark  Social expenditure  Percentage of GDP          Net total   \n",
       "236        Denmark  Social expenditure  Percentage of GDP          Net total   \n",
       "237        Denmark  Social expenditure  Percentage of GDP          Net total   \n",
       "224        Denmark  Social expenditure  Percentage of GDP          Net total   \n",
       "225        Denmark  Social expenditure  Percentage of GDP          Net total   \n",
       "226        Denmark  Social expenditure  Percentage of GDP          Net total   \n",
       "227        Denmark  Social expenditure  Percentage of GDP          Net total   \n",
       "228        Denmark  Social expenditure  Percentage of GDP          Net total   \n",
       "229        Denmark  Social expenditure  Percentage of GDP          Net total   \n",
       "230        Denmark  Social expenditure  Percentage of GDP          Net total   \n",
       "231        Denmark  Social expenditure  Percentage of GDP          Net total   \n",
       "\n",
       "    Spending type Programme type  TIME_PERIOD  OBS_VALUE OBS_STATUS  \\\n",
       "232         Total          Total         1993     23.610          A   \n",
       "233         Total          Total         1995     22.994          A   \n",
       "234         Total          Total         1997     21.604          A   \n",
       "235         Total          Total         1999     21.638          A   \n",
       "236         Total          Total         2001     20.879          A   \n",
       "237         Total          Total         2003     22.152          A   \n",
       "224         Total          Total         2005     21.821          A   \n",
       "225         Total          Total         2007     22.839          A   \n",
       "226         Total          Total         2009     26.397          A   \n",
       "227         Total          Total         2011     26.442          A   \n",
       "228         Total          Total         2013     26.787          A   \n",
       "229         Total          Total         2015     26.444          A   \n",
       "230         Total          Total         2017     25.173          A   \n",
       "231         Total          Total         2019     24.652          A   \n",
       "\n",
       "    Observation status Unit multiplier  \n",
       "232       Normal value           Units  \n",
       "233       Normal value           Units  \n",
       "234       Normal value           Units  \n",
       "235       Normal value           Units  \n",
       "236       Normal value           Units  \n",
       "237       Normal value           Units  \n",
       "224       Normal value           Units  \n",
       "225       Normal value           Units  \n",
       "226       Normal value           Units  \n",
       "227       Normal value           Units  \n",
       "228       Normal value           Units  \n",
       "229       Normal value           Units  \n",
       "230       Normal value           Units  \n",
       "231       Normal value           Units  "
      ]
     },
     "execution_count": 59,
     "metadata": {},
     "output_type": "execute_result"
    }
   ],
   "source": [
    "exp_social_df_DK.sort_values(by = \"TIME_PERIOD\", ascending=True, inplace=False)"
   ]
  },
  {
   "cell_type": "markdown",
   "id": "baeb4c08-a324-4618-be25-a5f5fa112450",
   "metadata": {},
   "source": [
    "## 2.3) Happiness"
   ]
  },
  {
   "cell_type": "markdown",
   "id": "842f81de-ec16-4982-93b0-4a9dc2a1a5e6",
   "metadata": {
    "jp-MarkdownHeadingCollapsed": true
   },
   "source": [
    "### 2.3.1) Wellbeing (hand picked features) 2004-2024"
   ]
  },
  {
   "cell_type": "code",
   "execution_count": 62,
   "id": "f55fca47-5cea-4049-ae1d-46c5cccd39f3",
   "metadata": {},
   "outputs": [
    {
     "name": "stdout",
     "output_type": "stream",
     "text": [
      "<class 'pandas.core.frame.DataFrame'>\n",
      "RangeIndex: 5466 entries, 0 to 5465\n",
      "Data columns (total 30 columns):\n",
      " #   Column              Non-Null Count  Dtype  \n",
      "---  ------              --------------  -----  \n",
      " 0   STRUCTURE           5466 non-null   object \n",
      " 1   STRUCTURE_ID        5466 non-null   object \n",
      " 2   STRUCTURE_NAME      5466 non-null   object \n",
      " 3   ACTION              5466 non-null   object \n",
      " 4   REF_AREA            5466 non-null   object \n",
      " 5   Reference area      5466 non-null   object \n",
      " 6   MEASURE             5466 non-null   object \n",
      " 7   Measure             5466 non-null   object \n",
      " 8   UNIT_MEASURE        5466 non-null   object \n",
      " 9   Unit of measure     5466 non-null   object \n",
      " 10  AGE                 5466 non-null   object \n",
      " 11  Age                 5466 non-null   object \n",
      " 12  SEX                 5466 non-null   object \n",
      " 13  Sex                 5466 non-null   object \n",
      " 14  EDUCATION_LEV       5466 non-null   object \n",
      " 15  Education level     5466 non-null   object \n",
      " 16  DOMAIN              5466 non-null   object \n",
      " 17  Domain              5466 non-null   object \n",
      " 18  TIME_PERIOD         5466 non-null   int64  \n",
      " 19  Time period         0 non-null      float64\n",
      " 20  OBS_VALUE           5466 non-null   float64\n",
      " 21  Observation value   0 non-null      float64\n",
      " 22  OBS_STATUS          5466 non-null   object \n",
      " 23  Observation status  5466 non-null   object \n",
      " 24  UNIT_MULT           5466 non-null   int64  \n",
      " 25  Unit multiplier     5466 non-null   object \n",
      " 26  DECIMALS            5466 non-null   int64  \n",
      " 27  Decimals            5466 non-null   object \n",
      " 28  BASE_PER            0 non-null      float64\n",
      " 29  Base period         0 non-null      float64\n",
      "dtypes: float64(5), int64(3), object(22)\n",
      "memory usage: 1.3+ MB\n"
     ]
    }
   ],
   "source": [
    "current_wellbeing_df.info()"
   ]
  },
  {
   "cell_type": "markdown",
   "id": "29fdba51-01d3-46b0-9947-67f0da14a6de",
   "metadata": {},
   "source": [
    "#### 2.3.1.1) Removing columns to get an overview of the data"
   ]
  },
  {
   "cell_type": "code",
   "execution_count": 64,
   "id": "b6705daf-bec6-4f14-a1ca-c8e0c4cfc6e5",
   "metadata": {},
   "outputs": [],
   "source": [
    "wellbeing_df = current_wellbeing_df.drop(columns=['EDUCATION_LEV', 'MEASURE', 'DOMAIN', 'Domain', 'Education level', 'Sex', 'SEX', 'AGE', 'Age', 'OBS_STATUS', 'BASE_PER', 'Base period', 'STRUCTURE', 'STRUCTURE_ID', 'ACTION', 'Decimals',  'Time period', 'Observation value', 'REF_AREA', 'STRUCTURE_NAME', 'UNIT_MULT', 'DECIMALS', 'UNIT_MEASURE'])"
   ]
  },
  {
   "cell_type": "code",
   "execution_count": 65,
   "id": "3a69d6a2-a66a-4f7c-b237-039b5fc2addd",
   "metadata": {},
   "outputs": [
    {
     "data": {
      "text/html": [
       "<div>\n",
       "<style scoped>\n",
       "    .dataframe tbody tr th:only-of-type {\n",
       "        vertical-align: middle;\n",
       "    }\n",
       "\n",
       "    .dataframe tbody tr th {\n",
       "        vertical-align: top;\n",
       "    }\n",
       "\n",
       "    .dataframe thead th {\n",
       "        text-align: right;\n",
       "    }\n",
       "</style>\n",
       "<table border=\"1\" class=\"dataframe\">\n",
       "  <thead>\n",
       "    <tr style=\"text-align: right;\">\n",
       "      <th></th>\n",
       "      <th>Reference area</th>\n",
       "      <th>Measure</th>\n",
       "      <th>Unit of measure</th>\n",
       "      <th>TIME_PERIOD</th>\n",
       "      <th>OBS_VALUE</th>\n",
       "      <th>Observation status</th>\n",
       "      <th>Unit multiplier</th>\n",
       "    </tr>\n",
       "  </thead>\n",
       "  <tbody>\n",
       "    <tr>\n",
       "      <th>0</th>\n",
       "      <td>Latvia</td>\n",
       "      <td>Perceived health as positive</td>\n",
       "      <td>Percentage of population aged 16 years or over</td>\n",
       "      <td>2017</td>\n",
       "      <td>44.2</td>\n",
       "      <td>Normal value</td>\n",
       "      <td>Units</td>\n",
       "    </tr>\n",
       "    <tr>\n",
       "      <th>1</th>\n",
       "      <td>Latvia</td>\n",
       "      <td>Perceived health as positive</td>\n",
       "      <td>Percentage of population aged 16 years or over</td>\n",
       "      <td>2018</td>\n",
       "      <td>46.9</td>\n",
       "      <td>Normal value</td>\n",
       "      <td>Units</td>\n",
       "    </tr>\n",
       "    <tr>\n",
       "      <th>2</th>\n",
       "      <td>Latvia</td>\n",
       "      <td>Perceived health as positive</td>\n",
       "      <td>Percentage of population aged 16 years or over</td>\n",
       "      <td>2019</td>\n",
       "      <td>47.1</td>\n",
       "      <td>Normal value</td>\n",
       "      <td>Units</td>\n",
       "    </tr>\n",
       "    <tr>\n",
       "      <th>3</th>\n",
       "      <td>Latvia</td>\n",
       "      <td>Perceived health as positive</td>\n",
       "      <td>Percentage of population aged 16 years or over</td>\n",
       "      <td>2020</td>\n",
       "      <td>49.7</td>\n",
       "      <td>Normal value</td>\n",
       "      <td>Units</td>\n",
       "    </tr>\n",
       "    <tr>\n",
       "      <th>4</th>\n",
       "      <td>Latvia</td>\n",
       "      <td>Perceived health as positive</td>\n",
       "      <td>Percentage of population aged 16 years or over</td>\n",
       "      <td>2021</td>\n",
       "      <td>49.8</td>\n",
       "      <td>Normal value</td>\n",
       "      <td>Units</td>\n",
       "    </tr>\n",
       "  </tbody>\n",
       "</table>\n",
       "</div>"
      ],
      "text/plain": [
       "  Reference area                       Measure  \\\n",
       "0         Latvia  Perceived health as positive   \n",
       "1         Latvia  Perceived health as positive   \n",
       "2         Latvia  Perceived health as positive   \n",
       "3         Latvia  Perceived health as positive   \n",
       "4         Latvia  Perceived health as positive   \n",
       "\n",
       "                                  Unit of measure  TIME_PERIOD  OBS_VALUE  \\\n",
       "0  Percentage of population aged 16 years or over         2017       44.2   \n",
       "1  Percentage of population aged 16 years or over         2018       46.9   \n",
       "2  Percentage of population aged 16 years or over         2019       47.1   \n",
       "3  Percentage of population aged 16 years or over         2020       49.7   \n",
       "4  Percentage of population aged 16 years or over         2021       49.8   \n",
       "\n",
       "  Observation status Unit multiplier  \n",
       "0       Normal value           Units  \n",
       "1       Normal value           Units  \n",
       "2       Normal value           Units  \n",
       "3       Normal value           Units  \n",
       "4       Normal value           Units  "
      ]
     },
     "execution_count": 65,
     "metadata": {},
     "output_type": "execute_result"
    }
   ],
   "source": [
    "wellbeing_df.head()"
   ]
  },
  {
   "cell_type": "code",
   "execution_count": 66,
   "id": "25e21171-c17c-4a62-a1f7-dacf037ccbf5",
   "metadata": {},
   "outputs": [
    {
     "name": "stdout",
     "output_type": "stream",
     "text": [
      "['Perceived health as positive' 'Satisfaction with personal relationships'\n",
      " 'Life satisfaction' 'Satisfaction with time use' 'Lack of social support'\n",
      " 'Not feeling safe at night' 'Feeling safe at night'\n",
      " 'Perceived health as negative' 'Social support'\n",
      " 'Self-reported depression' 'Homicides'\n",
      " 'Deaths from suicide, alcohol, drugs']\n"
     ]
    }
   ],
   "source": [
    "unit_of_measure_values = wellbeing_df[\"Measure\"].unique()\n",
    "\n",
    "print(unit_of_measure_values)"
   ]
  },
  {
   "cell_type": "markdown",
   "id": "3e82931c-300f-4245-b3b9-c4d710720f81",
   "metadata": {},
   "source": [
    "##### PERCEIVED HEALTH"
   ]
  },
  {
   "cell_type": "code",
   "execution_count": 68,
   "id": "0a10e327-2156-42fb-b50b-123cf9fa4ce0",
   "metadata": {},
   "outputs": [],
   "source": [
    "percivd_health_pos_df = wellbeing_df[wellbeing_df[\"Measure\"] == \"Perceived health as positive\"]"
   ]
  },
  {
   "cell_type": "code",
   "execution_count": 69,
   "id": "e134d69d-ad24-45c2-af81-dce03334f7db",
   "metadata": {},
   "outputs": [
    {
     "name": "stdout",
     "output_type": "stream",
     "text": [
      "<class 'pandas.core.frame.DataFrame'>\n",
      "Index: 590 entries, 0 to 5374\n",
      "Data columns (total 7 columns):\n",
      " #   Column              Non-Null Count  Dtype  \n",
      "---  ------              --------------  -----  \n",
      " 0   Reference area      590 non-null    object \n",
      " 1   Measure             590 non-null    object \n",
      " 2   Unit of measure     590 non-null    object \n",
      " 3   TIME_PERIOD         590 non-null    int64  \n",
      " 4   OBS_VALUE           590 non-null    float64\n",
      " 5   Observation status  590 non-null    object \n",
      " 6   Unit multiplier     590 non-null    object \n",
      "dtypes: float64(1), int64(1), object(5)\n",
      "memory usage: 36.9+ KB\n"
     ]
    }
   ],
   "source": [
    "percivd_health_pos_df.info()"
   ]
  },
  {
   "cell_type": "markdown",
   "id": "3d2594b2-0619-47f3-87be-8507686c0227",
   "metadata": {
    "jp-MarkdownHeadingCollapsed": true
   },
   "source": [
    "##### SATISFACTION WITH PERSONAL RELATIONSHIPS (TO FEW)"
   ]
  },
  {
   "cell_type": "code",
   "execution_count": 71,
   "id": "d0fb1cb9-6c89-47d3-8e85-f3900a5c6c83",
   "metadata": {},
   "outputs": [],
   "source": [
    "stsfaction_rltnship_df = wellbeing_df[wellbeing_df[\"Measure\"] == \"Satisfaction with personal relationships\"]"
   ]
  },
  {
   "cell_type": "code",
   "execution_count": 72,
   "id": "6fe20498-25ac-476f-a8ff-cdbc74543c24",
   "metadata": {},
   "outputs": [
    {
     "name": "stdout",
     "output_type": "stream",
     "text": [
      "<class 'pandas.core.frame.DataFrame'>\n",
      "Index: 93 entries, 31 to 5383\n",
      "Data columns (total 7 columns):\n",
      " #   Column              Non-Null Count  Dtype  \n",
      "---  ------              --------------  -----  \n",
      " 0   Reference area      93 non-null     object \n",
      " 1   Measure             93 non-null     object \n",
      " 2   Unit of measure     93 non-null     object \n",
      " 3   TIME_PERIOD         93 non-null     int64  \n",
      " 4   OBS_VALUE           93 non-null     float64\n",
      " 5   Observation status  93 non-null     object \n",
      " 6   Unit multiplier     93 non-null     object \n",
      "dtypes: float64(1), int64(1), object(5)\n",
      "memory usage: 5.8+ KB\n"
     ]
    }
   ],
   "source": [
    "stsfaction_rltnship_df.info()"
   ]
  },
  {
   "cell_type": "markdown",
   "id": "89787d65-43a4-44c7-bded-a9dff3f6c303",
   "metadata": {
    "jp-MarkdownHeadingCollapsed": true
   },
   "source": [
    "##### LIFE SATISFACTION (TO FEW - 189)"
   ]
  },
  {
   "cell_type": "code",
   "execution_count": 74,
   "id": "7a895903-4202-4db3-a96b-d165ee73dfd0",
   "metadata": {},
   "outputs": [],
   "source": [
    "life_stsfaction_df = wellbeing_df[wellbeing_df[\"Measure\"] == \"Life satisfaction\"]"
   ]
  },
  {
   "cell_type": "code",
   "execution_count": 75,
   "id": "28d8c903-00cc-4f08-8f55-a65969c0882d",
   "metadata": {},
   "outputs": [
    {
     "name": "stdout",
     "output_type": "stream",
     "text": [
      "<class 'pandas.core.frame.DataFrame'>\n",
      "Index: 189 entries, 33 to 5380\n",
      "Data columns (total 7 columns):\n",
      " #   Column              Non-Null Count  Dtype  \n",
      "---  ------              --------------  -----  \n",
      " 0   Reference area      189 non-null    object \n",
      " 1   Measure             189 non-null    object \n",
      " 2   Unit of measure     189 non-null    object \n",
      " 3   TIME_PERIOD         189 non-null    int64  \n",
      " 4   OBS_VALUE           189 non-null    float64\n",
      " 5   Observation status  189 non-null    object \n",
      " 6   Unit multiplier     189 non-null    object \n",
      "dtypes: float64(1), int64(1), object(5)\n",
      "memory usage: 11.8+ KB\n"
     ]
    }
   ],
   "source": [
    "life_stsfaction_df.info()"
   ]
  },
  {
   "cell_type": "markdown",
   "id": "99de508b-1003-4cec-82e9-6b997a3f0280",
   "metadata": {
    "jp-MarkdownHeadingCollapsed": true
   },
   "source": [
    "##### SATISFACTION WITH TOME USE (TO FEW)"
   ]
  },
  {
   "cell_type": "code",
   "execution_count": 77,
   "id": "6c5a0b82-b4b7-453f-a656-c08a3a19520d",
   "metadata": {},
   "outputs": [],
   "source": [
    "stsfaction_w_time_use_df = wellbeing_df[wellbeing_df[\"Measure\"] == \"Satisfaction with time use\"]"
   ]
  },
  {
   "cell_type": "code",
   "execution_count": 78,
   "id": "e23b7752-0406-43b0-9a27-9217ea397b32",
   "metadata": {},
   "outputs": [
    {
     "name": "stdout",
     "output_type": "stream",
     "text": [
      "<class 'pandas.core.frame.DataFrame'>\n",
      "Index: 95 entries, 35 to 5385\n",
      "Data columns (total 7 columns):\n",
      " #   Column              Non-Null Count  Dtype  \n",
      "---  ------              --------------  -----  \n",
      " 0   Reference area      95 non-null     object \n",
      " 1   Measure             95 non-null     object \n",
      " 2   Unit of measure     95 non-null     object \n",
      " 3   TIME_PERIOD         95 non-null     int64  \n",
      " 4   OBS_VALUE           95 non-null     float64\n",
      " 5   Observation status  95 non-null     object \n",
      " 6   Unit multiplier     95 non-null     object \n",
      "dtypes: float64(1), int64(1), object(5)\n",
      "memory usage: 5.9+ KB\n"
     ]
    }
   ],
   "source": [
    "stsfaction_w_time_use_df.info()"
   ]
  },
  {
   "cell_type": "markdown",
   "id": "15774d3b-b2e2-421a-8b00-b5da752d8d25",
   "metadata": {
    "jp-MarkdownHeadingCollapsed": true
   },
   "source": [
    "##### LACK OF SOCIAL SUPPORT (TO FEW AND NEG)"
   ]
  },
  {
   "cell_type": "code",
   "execution_count": 80,
   "id": "815ad35a-db27-42c6-8c23-16b9be8102ef",
   "metadata": {},
   "outputs": [],
   "source": [
    "lck_of_social_supprt_df = wellbeing_df[wellbeing_df[\"Measure\"] == \"Lack of Social support\"]"
   ]
  },
  {
   "cell_type": "code",
   "execution_count": 81,
   "id": "b93e4816-bc3c-4095-96a2-05e29b6eea35",
   "metadata": {},
   "outputs": [
    {
     "name": "stdout",
     "output_type": "stream",
     "text": [
      "<class 'pandas.core.frame.DataFrame'>\n",
      "Index: 0 entries\n",
      "Data columns (total 7 columns):\n",
      " #   Column              Non-Null Count  Dtype  \n",
      "---  ------              --------------  -----  \n",
      " 0   Reference area      0 non-null      object \n",
      " 1   Measure             0 non-null      object \n",
      " 2   Unit of measure     0 non-null      object \n",
      " 3   TIME_PERIOD         0 non-null      int64  \n",
      " 4   OBS_VALUE           0 non-null      float64\n",
      " 5   Observation status  0 non-null      object \n",
      " 6   Unit multiplier     0 non-null      object \n",
      "dtypes: float64(1), int64(1), object(5)\n",
      "memory usage: 0.0+ bytes\n"
     ]
    }
   ],
   "source": [
    "lck_of_social_supprt_df.info()"
   ]
  },
  {
   "cell_type": "markdown",
   "id": "2f2d2c0f-535b-4064-a521-00ae0b7ba40a",
   "metadata": {},
   "source": [
    "##### HOMICIDES"
   ]
  },
  {
   "cell_type": "code",
   "execution_count": 83,
   "id": "ad8ccedd-4c03-4d03-ad42-7f13affc48ad",
   "metadata": {},
   "outputs": [],
   "source": [
    "homicides_df = wellbeing_df[wellbeing_df[\"Measure\"] == \"Homicides\"]"
   ]
  },
  {
   "cell_type": "code",
   "execution_count": 84,
   "id": "08efc5ff-35d6-47cc-bc0c-804c9a8d6082",
   "metadata": {},
   "outputs": [
    {
     "name": "stdout",
     "output_type": "stream",
     "text": [
      "<class 'pandas.core.frame.DataFrame'>\n",
      "Index: 642 entries, 3838 to 5461\n",
      "Data columns (total 7 columns):\n",
      " #   Column              Non-Null Count  Dtype  \n",
      "---  ------              --------------  -----  \n",
      " 0   Reference area      642 non-null    object \n",
      " 1   Measure             642 non-null    object \n",
      " 2   Unit of measure     642 non-null    object \n",
      " 3   TIME_PERIOD         642 non-null    int64  \n",
      " 4   OBS_VALUE           642 non-null    float64\n",
      " 5   Observation status  642 non-null    object \n",
      " 6   Unit multiplier     642 non-null    object \n",
      "dtypes: float64(1), int64(1), object(5)\n",
      "memory usage: 40.1+ KB\n"
     ]
    }
   ],
   "source": [
    "homicides_df.info()"
   ]
  },
  {
   "cell_type": "markdown",
   "id": "c8b5e9ed-3ffc-4c77-9530-e1d6edb88ee1",
   "metadata": {
    "jp-MarkdownHeadingCollapsed": true
   },
   "source": [
    "##### NOT FEEL SAFE (NEG)"
   ]
  },
  {
   "cell_type": "code",
   "execution_count": 86,
   "id": "8f3f9adf-5d9c-4324-9c57-62d2ce0e94db",
   "metadata": {},
   "outputs": [],
   "source": [
    "not_feel_safe_df = wellbeing_df[wellbeing_df[\"Measure\"] == \"Not feeling safe at night\"]"
   ]
  },
  {
   "cell_type": "code",
   "execution_count": 87,
   "id": "c64904b4-22ed-4615-97a0-3dc1e154a590",
   "metadata": {},
   "outputs": [
    {
     "name": "stdout",
     "output_type": "stream",
     "text": [
      "<class 'pandas.core.frame.DataFrame'>\n",
      "Index: 623 entries, 53 to 5369\n",
      "Data columns (total 7 columns):\n",
      " #   Column              Non-Null Count  Dtype  \n",
      "---  ------              --------------  -----  \n",
      " 0   Reference area      623 non-null    object \n",
      " 1   Measure             623 non-null    object \n",
      " 2   Unit of measure     623 non-null    object \n",
      " 3   TIME_PERIOD         623 non-null    int64  \n",
      " 4   OBS_VALUE           623 non-null    float64\n",
      " 5   Observation status  623 non-null    object \n",
      " 6   Unit multiplier     623 non-null    object \n",
      "dtypes: float64(1), int64(1), object(5)\n",
      "memory usage: 38.9+ KB\n"
     ]
    }
   ],
   "source": [
    "not_feel_safe_df.info()"
   ]
  },
  {
   "cell_type": "markdown",
   "id": "6dbabe97-5430-403c-bd4d-fedc2e0457ed",
   "metadata": {},
   "source": [
    "##### FEEL SAFE"
   ]
  },
  {
   "cell_type": "code",
   "execution_count": 89,
   "id": "294154cc-c3ea-4b30-9770-b8e2da992506",
   "metadata": {},
   "outputs": [],
   "source": [
    "feel_safe_df = wellbeing_df[wellbeing_df[\"Measure\"] == \"Feeling safe at night\"]"
   ]
  },
  {
   "cell_type": "code",
   "execution_count": 90,
   "id": "4539fe09-fdc0-4b06-9dd1-5e41a304f2f1",
   "metadata": {},
   "outputs": [
    {
     "name": "stdout",
     "output_type": "stream",
     "text": [
      "<class 'pandas.core.frame.DataFrame'>\n",
      "Index: 675 entries, 68 to 5324\n",
      "Data columns (total 7 columns):\n",
      " #   Column              Non-Null Count  Dtype  \n",
      "---  ------              --------------  -----  \n",
      " 0   Reference area      675 non-null    object \n",
      " 1   Measure             675 non-null    object \n",
      " 2   Unit of measure     675 non-null    object \n",
      " 3   TIME_PERIOD         675 non-null    int64  \n",
      " 4   OBS_VALUE           675 non-null    float64\n",
      " 5   Observation status  675 non-null    object \n",
      " 6   Unit multiplier     675 non-null    object \n",
      "dtypes: float64(1), int64(1), object(5)\n",
      "memory usage: 42.2+ KB\n"
     ]
    }
   ],
   "source": [
    "feel_safe_df.info()"
   ]
  },
  {
   "cell_type": "code",
   "execution_count": 91,
   "id": "80fb2956-2d85-4388-b785-c3eb377f3b8a",
   "metadata": {},
   "outputs": [
    {
     "data": {
      "text/html": [
       "<div>\n",
       "<style scoped>\n",
       "    .dataframe tbody tr th:only-of-type {\n",
       "        vertical-align: middle;\n",
       "    }\n",
       "\n",
       "    .dataframe tbody tr th {\n",
       "        vertical-align: top;\n",
       "    }\n",
       "\n",
       "    .dataframe thead th {\n",
       "        text-align: right;\n",
       "    }\n",
       "</style>\n",
       "<table border=\"1\" class=\"dataframe\">\n",
       "  <thead>\n",
       "    <tr style=\"text-align: right;\">\n",
       "      <th></th>\n",
       "      <th>Reference area</th>\n",
       "      <th>Measure</th>\n",
       "      <th>Unit of measure</th>\n",
       "      <th>TIME_PERIOD</th>\n",
       "      <th>OBS_VALUE</th>\n",
       "      <th>Observation status</th>\n",
       "      <th>Unit multiplier</th>\n",
       "    </tr>\n",
       "  </thead>\n",
       "  <tbody>\n",
       "    <tr>\n",
       "      <th>68</th>\n",
       "      <td>Slovak Republic</td>\n",
       "      <td>Feeling safe at night</td>\n",
       "      <td>Percentage of population aged 15 years or over</td>\n",
       "      <td>2016</td>\n",
       "      <td>65.331679</td>\n",
       "      <td>Normal value</td>\n",
       "      <td>Units</td>\n",
       "    </tr>\n",
       "    <tr>\n",
       "      <th>69</th>\n",
       "      <td>Slovak Republic</td>\n",
       "      <td>Feeling safe at night</td>\n",
       "      <td>Percentage of population aged 15 years or over</td>\n",
       "      <td>2017</td>\n",
       "      <td>69.671352</td>\n",
       "      <td>Normal value</td>\n",
       "      <td>Units</td>\n",
       "    </tr>\n",
       "    <tr>\n",
       "      <th>70</th>\n",
       "      <td>Slovak Republic</td>\n",
       "      <td>Feeling safe at night</td>\n",
       "      <td>Percentage of population aged 15 years or over</td>\n",
       "      <td>2018</td>\n",
       "      <td>69.671352</td>\n",
       "      <td>Normal value</td>\n",
       "      <td>Units</td>\n",
       "    </tr>\n",
       "    <tr>\n",
       "      <th>71</th>\n",
       "      <td>Slovak Republic</td>\n",
       "      <td>Feeling safe at night</td>\n",
       "      <td>Percentage of population aged 15 years or over</td>\n",
       "      <td>2019</td>\n",
       "      <td>69.671352</td>\n",
       "      <td>Normal value</td>\n",
       "      <td>Units</td>\n",
       "    </tr>\n",
       "    <tr>\n",
       "      <th>72</th>\n",
       "      <td>Slovak Republic</td>\n",
       "      <td>Feeling safe at night</td>\n",
       "      <td>Percentage of population aged 15 years or over</td>\n",
       "      <td>2020</td>\n",
       "      <td>78.012499</td>\n",
       "      <td>Normal value</td>\n",
       "      <td>Units</td>\n",
       "    </tr>\n",
       "  </tbody>\n",
       "</table>\n",
       "</div>"
      ],
      "text/plain": [
       "     Reference area                Measure  \\\n",
       "68  Slovak Republic  Feeling safe at night   \n",
       "69  Slovak Republic  Feeling safe at night   \n",
       "70  Slovak Republic  Feeling safe at night   \n",
       "71  Slovak Republic  Feeling safe at night   \n",
       "72  Slovak Republic  Feeling safe at night   \n",
       "\n",
       "                                   Unit of measure  TIME_PERIOD  OBS_VALUE  \\\n",
       "68  Percentage of population aged 15 years or over         2016  65.331679   \n",
       "69  Percentage of population aged 15 years or over         2017  69.671352   \n",
       "70  Percentage of population aged 15 years or over         2018  69.671352   \n",
       "71  Percentage of population aged 15 years or over         2019  69.671352   \n",
       "72  Percentage of population aged 15 years or over         2020  78.012499   \n",
       "\n",
       "   Observation status Unit multiplier  \n",
       "68       Normal value           Units  \n",
       "69       Normal value           Units  \n",
       "70       Normal value           Units  \n",
       "71       Normal value           Units  \n",
       "72       Normal value           Units  "
      ]
     },
     "execution_count": 91,
     "metadata": {},
     "output_type": "execute_result"
    }
   ],
   "source": [
    "feel_safe_df.head()"
   ]
  },
  {
   "cell_type": "markdown",
   "id": "8298187d-feaf-41f9-8125-36af07d59ae3",
   "metadata": {
    "jp-MarkdownHeadingCollapsed": true
   },
   "source": [
    "##### HEALTH NEGATIVE (NEG)"
   ]
  },
  {
   "cell_type": "code",
   "execution_count": 93,
   "id": "3e4e3a21-cf9b-4908-b4c0-6329ba341701",
   "metadata": {},
   "outputs": [],
   "source": [
    "perceived_health_neg = wellbeing_df[wellbeing_df[\"Measure\"] == \"Perceived health as negative\"]"
   ]
  },
  {
   "cell_type": "code",
   "execution_count": 94,
   "id": "93a31fe1-5cbc-4268-b9d0-405d0429521f",
   "metadata": {},
   "outputs": [
    {
     "name": "stdout",
     "output_type": "stream",
     "text": [
      "<class 'pandas.core.frame.DataFrame'>\n",
      "Index: 586 entries, 114 to 5378\n",
      "Data columns (total 7 columns):\n",
      " #   Column              Non-Null Count  Dtype  \n",
      "---  ------              --------------  -----  \n",
      " 0   Reference area      586 non-null    object \n",
      " 1   Measure             586 non-null    object \n",
      " 2   Unit of measure     586 non-null    object \n",
      " 3   TIME_PERIOD         586 non-null    int64  \n",
      " 4   OBS_VALUE           586 non-null    float64\n",
      " 5   Observation status  586 non-null    object \n",
      " 6   Unit multiplier     586 non-null    object \n",
      "dtypes: float64(1), int64(1), object(5)\n",
      "memory usage: 36.6+ KB\n"
     ]
    }
   ],
   "source": [
    "perceived_health_neg.info()"
   ]
  },
  {
   "cell_type": "markdown",
   "id": "21a274ad-b497-4636-90d0-5897f5912f4b",
   "metadata": {},
   "source": [
    "##### SOCIAL SUPPORT"
   ]
  },
  {
   "cell_type": "code",
   "execution_count": 96,
   "id": "c81d5659-6e39-4a91-a24e-42c7406c4471",
   "metadata": {},
   "outputs": [],
   "source": [
    "social_support_df = wellbeing_df[wellbeing_df[\"Measure\"] == \"Social support\"]"
   ]
  },
  {
   "cell_type": "code",
   "execution_count": 97,
   "id": "984583c4-85ab-47c3-beb7-2754686ce748",
   "metadata": {},
   "outputs": [
    {
     "name": "stdout",
     "output_type": "stream",
     "text": [
      "<class 'pandas.core.frame.DataFrame'>\n",
      "Index: 673 entries, 186 to 5381\n",
      "Data columns (total 7 columns):\n",
      " #   Column              Non-Null Count  Dtype  \n",
      "---  ------              --------------  -----  \n",
      " 0   Reference area      673 non-null    object \n",
      " 1   Measure             673 non-null    object \n",
      " 2   Unit of measure     673 non-null    object \n",
      " 3   TIME_PERIOD         673 non-null    int64  \n",
      " 4   OBS_VALUE           673 non-null    float64\n",
      " 5   Observation status  673 non-null    object \n",
      " 6   Unit multiplier     673 non-null    object \n",
      "dtypes: float64(1), int64(1), object(5)\n",
      "memory usage: 42.1+ KB\n"
     ]
    }
   ],
   "source": [
    "social_support_df.info()"
   ]
  },
  {
   "cell_type": "markdown",
   "id": "ff8d60bd-ab5d-4087-9131-67b38e1fa05c",
   "metadata": {
    "jp-MarkdownHeadingCollapsed": true
   },
   "source": [
    "##### DEPRESSION (TO FEW)"
   ]
  },
  {
   "cell_type": "code",
   "execution_count": 99,
   "id": "b127bb90-47e0-4486-b713-8d9831d11c27",
   "metadata": {},
   "outputs": [],
   "source": [
    "self_rep_depression_df = wellbeing_df[wellbeing_df[\"Measure\"] == \"Self-reported depression\"]"
   ]
  },
  {
   "cell_type": "code",
   "execution_count": 100,
   "id": "dbab7dd4-962c-4156-a4f3-33a62c71f8bb",
   "metadata": {},
   "outputs": [
    {
     "name": "stdout",
     "output_type": "stream",
     "text": [
      "<class 'pandas.core.frame.DataFrame'>\n",
      "Index: 49 entries, 251 to 5382\n",
      "Data columns (total 7 columns):\n",
      " #   Column              Non-Null Count  Dtype  \n",
      "---  ------              --------------  -----  \n",
      " 0   Reference area      49 non-null     object \n",
      " 1   Measure             49 non-null     object \n",
      " 2   Unit of measure     49 non-null     object \n",
      " 3   TIME_PERIOD         49 non-null     int64  \n",
      " 4   OBS_VALUE           49 non-null     float64\n",
      " 5   Observation status  49 non-null     object \n",
      " 6   Unit multiplier     49 non-null     object \n",
      "dtypes: float64(1), int64(1), object(5)\n",
      "memory usage: 3.1+ KB\n"
     ]
    }
   ],
   "source": [
    "self_rep_depression_df.info()"
   ]
  },
  {
   "cell_type": "markdown",
   "id": "3e3ee598-4d2f-4464-954b-215af18f514d",
   "metadata": {},
   "source": [
    "##### DEATHS OF SUICIDE, ALCOHOL and DRUGS"
   ]
  },
  {
   "cell_type": "code",
   "execution_count": 102,
   "id": "e050be2f-264e-4980-81d3-be8054723836",
   "metadata": {},
   "outputs": [],
   "source": [
    "deaths_suicide_alc_drug_df = wellbeing_df[wellbeing_df[\"Measure\"] == \"Deaths from suicide, alcohol, drugs\"]"
   ]
  },
  {
   "cell_type": "code",
   "execution_count": 103,
   "id": "1d756f73-3657-499b-b823-d428e4105a3b",
   "metadata": {},
   "outputs": [
    {
     "name": "stdout",
     "output_type": "stream",
     "text": [
      "<class 'pandas.core.frame.DataFrame'>\n",
      "Index: 630 entries, 3866 to 5465\n",
      "Data columns (total 7 columns):\n",
      " #   Column              Non-Null Count  Dtype  \n",
      "---  ------              --------------  -----  \n",
      " 0   Reference area      630 non-null    object \n",
      " 1   Measure             630 non-null    object \n",
      " 2   Unit of measure     630 non-null    object \n",
      " 3   TIME_PERIOD         630 non-null    int64  \n",
      " 4   OBS_VALUE           630 non-null    float64\n",
      " 5   Observation status  630 non-null    object \n",
      " 6   Unit multiplier     630 non-null    object \n",
      "dtypes: float64(1), int64(1), object(5)\n",
      "memory usage: 39.4+ KB\n"
     ]
    }
   ],
   "source": [
    "deaths_suicide_alc_drug_df.info()"
   ]
  },
  {
   "cell_type": "code",
   "execution_count": 104,
   "id": "5282ee14-b911-4795-b55e-03da491f1f2e",
   "metadata": {},
   "outputs": [],
   "source": [
    "all_unique = deaths_suicide_alc_drug_df[\"Reference area\"].unique()"
   ]
  },
  {
   "cell_type": "code",
   "execution_count": 105,
   "id": "8a594101-40ed-4399-ba74-a64f441743fe",
   "metadata": {},
   "outputs": [
    {
     "data": {
      "text/plain": [
       "array(['Ireland', 'Estonia', 'Spain', 'Slovenia', 'Australia', 'Hungary',\n",
       "       'Czechia', 'Sweden', 'United States', 'Costa Rica', 'Norway',\n",
       "       'France', 'South Africa', 'Brazil', 'Netherlands', 'Canada',\n",
       "       'Chile', 'Poland', 'Iceland', 'New Zealand', 'Greece', 'Denmark',\n",
       "       'Switzerland', 'Latvia', 'Luxembourg', 'Austria', 'Japan',\n",
       "       'Türkiye', 'Israel', 'Mexico', 'Slovak Republic', 'Korea',\n",
       "       'Lithuania', 'Belgium', 'Portugal', 'Germany', 'Colombia', 'Italy',\n",
       "       'Finland', 'United Kingdom'], dtype=object)"
      ]
     },
     "execution_count": 105,
     "metadata": {},
     "output_type": "execute_result"
    }
   ],
   "source": [
    "all_unique"
   ]
  },
  {
   "cell_type": "code",
   "execution_count": 106,
   "id": "b30f3fe4-9535-49ad-9aec-c5a44fb99a92",
   "metadata": {},
   "outputs": [
    {
     "name": "stdout",
     "output_type": "stream",
     "text": [
      "40\n"
     ]
    }
   ],
   "source": [
    "print(len(all_unique))"
   ]
  },
  {
   "cell_type": "markdown",
   "id": "e8c342d3-b7f6-4f9c-acf5-129214895c16",
   "metadata": {},
   "source": [
    "## 2.4) Taxation data"
   ]
  },
  {
   "cell_type": "markdown",
   "id": "95558347-50be-43da-8e87-fa925c761243",
   "metadata": {},
   "source": [
    "### 2.4.1) European Comission total taxation of GDP"
   ]
  },
  {
   "cell_type": "markdown",
   "id": "08cf53b9-dc9d-4e8c-8ebc-dae7726ea24c",
   "metadata": {},
   "source": [
    "#### 2.4.1.1) Renaming column with countries to Reference area"
   ]
  },
  {
   "cell_type": "code",
   "execution_count": 110,
   "id": "d8a031e0-535d-416b-bbec-3c49bf32b9ad",
   "metadata": {},
   "outputs": [],
   "source": [
    "total_taxes_df.rename(columns = {\"Unnamed: 0\": \"Reference area\"}, inplace=True)"
   ]
  },
  {
   "cell_type": "code",
   "execution_count": 111,
   "id": "08014697-0081-4163-8c0b-1d84550bd46d",
   "metadata": {},
   "outputs": [
    {
     "data": {
      "text/html": [
       "<div>\n",
       "<style scoped>\n",
       "    .dataframe tbody tr th:only-of-type {\n",
       "        vertical-align: middle;\n",
       "    }\n",
       "\n",
       "    .dataframe tbody tr th {\n",
       "        vertical-align: top;\n",
       "    }\n",
       "\n",
       "    .dataframe thead th {\n",
       "        text-align: right;\n",
       "    }\n",
       "</style>\n",
       "<table border=\"1\" class=\"dataframe\">\n",
       "  <thead>\n",
       "    <tr style=\"text-align: right;\">\n",
       "      <th></th>\n",
       "      <th>Reference area</th>\n",
       "      <th>2010</th>\n",
       "      <th>2011</th>\n",
       "      <th>2012</th>\n",
       "      <th>2013</th>\n",
       "      <th>2014</th>\n",
       "      <th>2015</th>\n",
       "      <th>2016</th>\n",
       "      <th>2017</th>\n",
       "      <th>2018</th>\n",
       "      <th>2019</th>\n",
       "      <th>2020</th>\n",
       "      <th>2021</th>\n",
       "      <th>2022</th>\n",
       "      <th>Difference 2012-2022 (pp)</th>\n",
       "      <th>Ranking 2022</th>\n",
       "      <th>Revenue 2022\\n(million EUR)</th>\n",
       "    </tr>\n",
       "  </thead>\n",
       "  <tbody>\n",
       "    <tr>\n",
       "      <th>0</th>\n",
       "      <td>EU-27</td>\n",
       "      <td>37.922746</td>\n",
       "      <td>38.345385</td>\n",
       "      <td>39.301449</td>\n",
       "      <td>39.787250</td>\n",
       "      <td>39.865975</td>\n",
       "      <td>39.730539</td>\n",
       "      <td>39.843225</td>\n",
       "      <td>39.930718</td>\n",
       "      <td>40.054073</td>\n",
       "      <td>39.944737</td>\n",
       "      <td>40.002493</td>\n",
       "      <td>40.395208</td>\n",
       "      <td>40.161307</td>\n",
       "      <td>0.9</td>\n",
       "      <td>NaN</td>\n",
       "      <td>6387768.3</td>\n",
       "    </tr>\n",
       "    <tr>\n",
       "      <th>1</th>\n",
       "      <td>EA-19</td>\n",
       "      <td>38.101209</td>\n",
       "      <td>38.586230</td>\n",
       "      <td>39.615106</td>\n",
       "      <td>40.116221</td>\n",
       "      <td>40.179571</td>\n",
       "      <td>40.061478</td>\n",
       "      <td>40.104618</td>\n",
       "      <td>40.241508</td>\n",
       "      <td>40.427915</td>\n",
       "      <td>40.296537</td>\n",
       "      <td>40.357165</td>\n",
       "      <td>40.786176</td>\n",
       "      <td>40.841225</td>\n",
       "      <td>1.2</td>\n",
       "      <td>NaN</td>\n",
       "      <td>5482502.8</td>\n",
       "    </tr>\n",
       "    <tr>\n",
       "      <th>2</th>\n",
       "      <td>Belgium</td>\n",
       "      <td>43.580535</td>\n",
       "      <td>44.369598</td>\n",
       "      <td>45.319126</td>\n",
       "      <td>46.033293</td>\n",
       "      <td>45.683596</td>\n",
       "      <td>44.991570</td>\n",
       "      <td>44.213578</td>\n",
       "      <td>44.747951</td>\n",
       "      <td>44.824441</td>\n",
       "      <td>43.467108</td>\n",
       "      <td>43.411264</td>\n",
       "      <td>43.166396</td>\n",
       "      <td>43.268219</td>\n",
       "      <td>-2.0</td>\n",
       "      <td>2.0</td>\n",
       "      <td>239725.1</td>\n",
       "    </tr>\n",
       "    <tr>\n",
       "      <th>3</th>\n",
       "      <td>Bulgaria</td>\n",
       "      <td>25.398276</td>\n",
       "      <td>25.477641</td>\n",
       "      <td>26.078859</td>\n",
       "      <td>28.132118</td>\n",
       "      <td>28.399268</td>\n",
       "      <td>28.863177</td>\n",
       "      <td>29.184384</td>\n",
       "      <td>29.840882</td>\n",
       "      <td>29.683558</td>\n",
       "      <td>30.353742</td>\n",
       "      <td>30.498298</td>\n",
       "      <td>30.785349</td>\n",
       "      <td>31.145084</td>\n",
       "      <td>5.0</td>\n",
       "      <td>23.0</td>\n",
       "      <td>26722.7</td>\n",
       "    </tr>\n",
       "    <tr>\n",
       "      <th>4</th>\n",
       "      <td>Czechia</td>\n",
       "      <td>32.854823</td>\n",
       "      <td>33.975879</td>\n",
       "      <td>34.497486</td>\n",
       "      <td>34.897577</td>\n",
       "      <td>34.136013</td>\n",
       "      <td>34.288463</td>\n",
       "      <td>35.075928</td>\n",
       "      <td>35.402552</td>\n",
       "      <td>35.972707</td>\n",
       "      <td>35.907027</td>\n",
       "      <td>35.923476</td>\n",
       "      <td>35.890107</td>\n",
       "      <td>35.287515</td>\n",
       "      <td>0.8</td>\n",
       "      <td>17.0</td>\n",
       "      <td>97487.3</td>\n",
       "    </tr>\n",
       "  </tbody>\n",
       "</table>\n",
       "</div>"
      ],
      "text/plain": [
       "  Reference area       2010       2011       2012       2013       2014  \\\n",
       "0          EU-27  37.922746  38.345385  39.301449  39.787250  39.865975   \n",
       "1          EA-19  38.101209  38.586230  39.615106  40.116221  40.179571   \n",
       "2        Belgium  43.580535  44.369598  45.319126  46.033293  45.683596   \n",
       "3       Bulgaria  25.398276  25.477641  26.078859  28.132118  28.399268   \n",
       "4        Czechia  32.854823  33.975879  34.497486  34.897577  34.136013   \n",
       "\n",
       "        2015       2016       2017       2018       2019       2020  \\\n",
       "0  39.730539  39.843225  39.930718  40.054073  39.944737  40.002493   \n",
       "1  40.061478  40.104618  40.241508  40.427915  40.296537  40.357165   \n",
       "2  44.991570  44.213578  44.747951  44.824441  43.467108  43.411264   \n",
       "3  28.863177  29.184384  29.840882  29.683558  30.353742  30.498298   \n",
       "4  34.288463  35.075928  35.402552  35.972707  35.907027  35.923476   \n",
       "\n",
       "        2021       2022  Difference 2012-2022 (pp)  Ranking 2022  \\\n",
       "0  40.395208  40.161307                        0.9           NaN   \n",
       "1  40.786176  40.841225                        1.2           NaN   \n",
       "2  43.166396  43.268219                       -2.0           2.0   \n",
       "3  30.785349  31.145084                        5.0          23.0   \n",
       "4  35.890107  35.287515                        0.8          17.0   \n",
       "\n",
       "   Revenue 2022\\n(million EUR)  \n",
       "0                    6387768.3  \n",
       "1                    5482502.8  \n",
       "2                     239725.1  \n",
       "3                      26722.7  \n",
       "4                      97487.3  "
      ]
     },
     "execution_count": 111,
     "metadata": {},
     "output_type": "execute_result"
    }
   ],
   "source": [
    "total_taxes_df.head()"
   ]
  },
  {
   "cell_type": "markdown",
   "id": "d4d0611e-1396-4c73-b0df-efa40aaa4b65",
   "metadata": {},
   "source": [
    "#### 2.4.1.2) Reshaping (melting) the table, so that year is one column and country and year together identify a row  "
   ]
  },
  {
   "cell_type": "code",
   "execution_count": 113,
   "id": "35a892a3-b22d-4a61-bc7e-546ab3a4d003",
   "metadata": {},
   "outputs": [
    {
     "data": {
      "text/html": [
       "<div>\n",
       "<style scoped>\n",
       "    .dataframe tbody tr th:only-of-type {\n",
       "        vertical-align: middle;\n",
       "    }\n",
       "\n",
       "    .dataframe tbody tr th {\n",
       "        vertical-align: top;\n",
       "    }\n",
       "\n",
       "    .dataframe thead th {\n",
       "        text-align: right;\n",
       "    }\n",
       "</style>\n",
       "<table border=\"1\" class=\"dataframe\">\n",
       "  <thead>\n",
       "    <tr style=\"text-align: right;\">\n",
       "      <th></th>\n",
       "      <th>Reference area</th>\n",
       "      <th>Year</th>\n",
       "      <th>Taxation</th>\n",
       "    </tr>\n",
       "  </thead>\n",
       "  <tbody>\n",
       "    <tr>\n",
       "      <th>0</th>\n",
       "      <td>EU-27</td>\n",
       "      <td>2010</td>\n",
       "      <td>37.922746</td>\n",
       "    </tr>\n",
       "    <tr>\n",
       "      <th>1</th>\n",
       "      <td>EA-19</td>\n",
       "      <td>2010</td>\n",
       "      <td>38.101209</td>\n",
       "    </tr>\n",
       "    <tr>\n",
       "      <th>2</th>\n",
       "      <td>Belgium</td>\n",
       "      <td>2010</td>\n",
       "      <td>43.580535</td>\n",
       "    </tr>\n",
       "    <tr>\n",
       "      <th>3</th>\n",
       "      <td>Bulgaria</td>\n",
       "      <td>2010</td>\n",
       "      <td>25.398276</td>\n",
       "    </tr>\n",
       "    <tr>\n",
       "      <th>4</th>\n",
       "      <td>Czechia</td>\n",
       "      <td>2010</td>\n",
       "      <td>32.854823</td>\n",
       "    </tr>\n",
       "  </tbody>\n",
       "</table>\n",
       "</div>"
      ],
      "text/plain": [
       "  Reference area  Year   Taxation\n",
       "0          EU-27  2010  37.922746\n",
       "1          EA-19  2010  38.101209\n",
       "2        Belgium  2010  43.580535\n",
       "3       Bulgaria  2010  25.398276\n",
       "4        Czechia  2010  32.854823"
      ]
     },
     "execution_count": 113,
     "metadata": {},
     "output_type": "execute_result"
    }
   ],
   "source": [
    "total_tax_melted_df = pd.melt(total_taxes_df, id_vars=[\"Reference area\"], var_name = \"Year\", value_name = \"Taxation\")\n",
    "total_tax_melted_df.head()"
   ]
  },
  {
   "cell_type": "code",
   "execution_count": 114,
   "id": "ccb108e5-b241-49d9-b7aa-11ef630d8ee7",
   "metadata": {},
   "outputs": [
    {
     "data": {
      "text/plain": [
       "Reference area     64\n",
       "Year                0\n",
       "Taxation          100\n",
       "dtype: int64"
      ]
     },
     "execution_count": 114,
     "metadata": {},
     "output_type": "execute_result"
    }
   ],
   "source": [
    "total_tax_melted_df.isna().sum()"
   ]
  },
  {
   "cell_type": "code",
   "execution_count": 193,
   "id": "3b1bae41-8b54-4f3b-95a8-c2d1843e7eac",
   "metadata": {},
   "outputs": [
    {
     "data": {
      "text/html": [
       "<div>\n",
       "<style scoped>\n",
       "    .dataframe tbody tr th:only-of-type {\n",
       "        vertical-align: middle;\n",
       "    }\n",
       "\n",
       "    .dataframe tbody tr th {\n",
       "        vertical-align: top;\n",
       "    }\n",
       "\n",
       "    .dataframe thead th {\n",
       "        text-align: right;\n",
       "    }\n",
       "</style>\n",
       "<table border=\"1\" class=\"dataframe\">\n",
       "  <thead>\n",
       "    <tr style=\"text-align: right;\">\n",
       "      <th></th>\n",
       "      <th>Reference area</th>\n",
       "      <th>Year</th>\n",
       "      <th>Taxation</th>\n",
       "    </tr>\n",
       "  </thead>\n",
       "  <tbody>\n",
       "    <tr>\n",
       "      <th>407</th>\n",
       "      <td>EU-27</td>\n",
       "      <td>2021</td>\n",
       "      <td>40.395208</td>\n",
       "    </tr>\n",
       "    <tr>\n",
       "      <th>408</th>\n",
       "      <td>EA-19</td>\n",
       "      <td>2021</td>\n",
       "      <td>40.786176</td>\n",
       "    </tr>\n",
       "    <tr>\n",
       "      <th>409</th>\n",
       "      <td>Belgium</td>\n",
       "      <td>2021</td>\n",
       "      <td>43.166396</td>\n",
       "    </tr>\n",
       "    <tr>\n",
       "      <th>410</th>\n",
       "      <td>Bulgaria</td>\n",
       "      <td>2021</td>\n",
       "      <td>30.785349</td>\n",
       "    </tr>\n",
       "    <tr>\n",
       "      <th>411</th>\n",
       "      <td>Czechia</td>\n",
       "      <td>2021</td>\n",
       "      <td>35.890107</td>\n",
       "    </tr>\n",
       "  </tbody>\n",
       "</table>\n",
       "</div>"
      ],
      "text/plain": [
       "    Reference area  Year   Taxation\n",
       "407          EU-27  2021  40.395208\n",
       "408          EA-19  2021  40.786176\n",
       "409        Belgium  2021  43.166396\n",
       "410       Bulgaria  2021  30.785349\n",
       "411        Czechia  2021  35.890107"
      ]
     },
     "execution_count": 193,
     "metadata": {},
     "output_type": "execute_result"
    }
   ],
   "source": [
    "df_2023 = total_tax_melted_df[total_tax_melted_df[\"Year\"]== \"2021\"]\n",
    "df_2023.head()"
   ]
  },
  {
   "cell_type": "markdown",
   "id": "d37ce125-fc2a-432d-a70a-5ece78be9808",
   "metadata": {},
   "source": [
    "# 3) Collecting data frames"
   ]
  },
  {
   "cell_type": "markdown",
   "id": "b89a9900-0a01-4420-9284-12736aadbf7d",
   "metadata": {},
   "source": [
    "## 3.1) All data frames listed"
   ]
  },
  {
   "cell_type": "code",
   "execution_count": 251,
   "id": "954b0ace-817b-4b78-ae71-b3e23552189c",
   "metadata": {},
   "outputs": [],
   "source": [
    "\n",
    "list_of_dfs.clear()\n",
    "\n",
    "list_of_dfs.append(social_exp_eu_usa_aus)\n",
    "list_of_dfs.append(gdp_1970_defl_simple)\n",
    "list_of_dfs.append(feel_safe_df)\n",
    "list_of_dfs.append(percivd_health_pos_df)\n",
    "\n",
    "world_happiness_2023.rename(columns={\"year\":\"TIME_PERIOD\"}, inplace=True)\n",
    "\n",
    "list_of_dfs.append(world_happiness_2023)\n"
   ]
  },
  {
   "cell_type": "code",
   "execution_count": 253,
   "id": "af5ffd43-20a8-46bb-b77f-5f2d2c0f8428",
   "metadata": {},
   "outputs": [
    {
     "name": "stderr",
     "output_type": "stream",
     "text": [
      "C:\\Users\\acm11\\AppData\\Local\\Temp\\ipykernel_30012\\2293846155.py:2: SettingWithCopyWarning: \n",
      "A value is trying to be set on a copy of a slice from a DataFrame\n",
      "\n",
      "See the caveats in the documentation: https://pandas.pydata.org/pandas-docs/stable/user_guide/indexing.html#returning-a-view-versus-a-copy\n",
      "  df.rename(columns={\"TIME_PERIOD\": \"Year\"}, inplace=True)\n"
     ]
    }
   ],
   "source": [
    "for df in list_of_dfs:\n",
    "    df.rename(columns={\"TIME_PERIOD\": \"Year\"}, inplace=True)\n",
    "\n",
    "    "
   ]
  },
  {
   "cell_type": "code",
   "execution_count": 255,
   "id": "0da9371b-0a53-4893-a722-cb74da7d060f",
   "metadata": {},
   "outputs": [
    {
     "data": {
      "text/html": [
       "<div>\n",
       "<style scoped>\n",
       "    .dataframe tbody tr th:only-of-type {\n",
       "        vertical-align: middle;\n",
       "    }\n",
       "\n",
       "    .dataframe tbody tr th {\n",
       "        vertical-align: top;\n",
       "    }\n",
       "\n",
       "    .dataframe thead th {\n",
       "        text-align: right;\n",
       "    }\n",
       "</style>\n",
       "<table border=\"1\" class=\"dataframe\">\n",
       "  <thead>\n",
       "    <tr style=\"text-align: right;\">\n",
       "      <th></th>\n",
       "      <th>Country name</th>\n",
       "      <th>Year</th>\n",
       "      <th>Life Ladder</th>\n",
       "      <th>Log GDP per capita</th>\n",
       "      <th>Social support</th>\n",
       "      <th>Healthy life expectancy at birth</th>\n",
       "      <th>Freedom to make life choices</th>\n",
       "      <th>Generosity</th>\n",
       "      <th>Perceptions of corruption</th>\n",
       "      <th>Positive affect</th>\n",
       "      <th>Negative affect</th>\n",
       "    </tr>\n",
       "  </thead>\n",
       "  <tbody>\n",
       "    <tr>\n",
       "      <th>0</th>\n",
       "      <td>Afghanistan</td>\n",
       "      <td>2008</td>\n",
       "      <td>3.723590</td>\n",
       "      <td>7.350416</td>\n",
       "      <td>0.450662</td>\n",
       "      <td>50.500000</td>\n",
       "      <td>0.718114</td>\n",
       "      <td>0.167652</td>\n",
       "      <td>0.881686</td>\n",
       "      <td>0.414297</td>\n",
       "      <td>0.258195</td>\n",
       "    </tr>\n",
       "    <tr>\n",
       "      <th>1</th>\n",
       "      <td>Afghanistan</td>\n",
       "      <td>2009</td>\n",
       "      <td>4.401778</td>\n",
       "      <td>7.508646</td>\n",
       "      <td>0.552308</td>\n",
       "      <td>50.799999</td>\n",
       "      <td>0.678896</td>\n",
       "      <td>0.190809</td>\n",
       "      <td>0.850035</td>\n",
       "      <td>0.481421</td>\n",
       "      <td>0.237092</td>\n",
       "    </tr>\n",
       "    <tr>\n",
       "      <th>2</th>\n",
       "      <td>Afghanistan</td>\n",
       "      <td>2010</td>\n",
       "      <td>4.758381</td>\n",
       "      <td>7.613900</td>\n",
       "      <td>0.539075</td>\n",
       "      <td>51.099998</td>\n",
       "      <td>0.600127</td>\n",
       "      <td>0.121316</td>\n",
       "      <td>0.706766</td>\n",
       "      <td>0.516907</td>\n",
       "      <td>0.275324</td>\n",
       "    </tr>\n",
       "    <tr>\n",
       "      <th>3</th>\n",
       "      <td>Afghanistan</td>\n",
       "      <td>2011</td>\n",
       "      <td>3.831719</td>\n",
       "      <td>7.581259</td>\n",
       "      <td>0.521104</td>\n",
       "      <td>51.400002</td>\n",
       "      <td>0.495901</td>\n",
       "      <td>0.163571</td>\n",
       "      <td>0.731109</td>\n",
       "      <td>0.479835</td>\n",
       "      <td>0.267175</td>\n",
       "    </tr>\n",
       "    <tr>\n",
       "      <th>4</th>\n",
       "      <td>Afghanistan</td>\n",
       "      <td>2012</td>\n",
       "      <td>3.782938</td>\n",
       "      <td>7.660506</td>\n",
       "      <td>0.520637</td>\n",
       "      <td>51.700001</td>\n",
       "      <td>0.530935</td>\n",
       "      <td>0.237588</td>\n",
       "      <td>0.775620</td>\n",
       "      <td>0.613513</td>\n",
       "      <td>0.267919</td>\n",
       "    </tr>\n",
       "  </tbody>\n",
       "</table>\n",
       "</div>"
      ],
      "text/plain": [
       "  Country name  Year  Life Ladder  Log GDP per capita  Social support  \\\n",
       "0  Afghanistan  2008     3.723590            7.350416        0.450662   \n",
       "1  Afghanistan  2009     4.401778            7.508646        0.552308   \n",
       "2  Afghanistan  2010     4.758381            7.613900        0.539075   \n",
       "3  Afghanistan  2011     3.831719            7.581259        0.521104   \n",
       "4  Afghanistan  2012     3.782938            7.660506        0.520637   \n",
       "\n",
       "   Healthy life expectancy at birth  Freedom to make life choices  Generosity  \\\n",
       "0                         50.500000                      0.718114    0.167652   \n",
       "1                         50.799999                      0.678896    0.190809   \n",
       "2                         51.099998                      0.600127    0.121316   \n",
       "3                         51.400002                      0.495901    0.163571   \n",
       "4                         51.700001                      0.530935    0.237588   \n",
       "\n",
       "   Perceptions of corruption  Positive affect  Negative affect  \n",
       "0                   0.881686         0.414297         0.258195  \n",
       "1                   0.850035         0.481421         0.237092  \n",
       "2                   0.706766         0.516907         0.275324  \n",
       "3                   0.731109         0.479835         0.267175  \n",
       "4                   0.775620         0.613513         0.267919  "
      ]
     },
     "execution_count": 255,
     "metadata": {},
     "output_type": "execute_result"
    }
   ],
   "source": [
    "world_happiness_2023.head()"
   ]
  },
  {
   "cell_type": "code",
   "execution_count": 272,
   "id": "9937e68c-4d24-455c-bf1e-2f1e73cf0c54",
   "metadata": {},
   "outputs": [
    {
     "name": "stdout",
     "output_type": "stream",
     "text": [
      "<class 'pandas.core.frame.DataFrame'>\n",
      "RangeIndex: 2199 entries, 0 to 2198\n",
      "Data columns (total 11 columns):\n",
      " #   Column                            Non-Null Count  Dtype  \n",
      "---  ------                            --------------  -----  \n",
      " 0   Country name                      2199 non-null   object \n",
      " 1   Year                              2199 non-null   int64  \n",
      " 2   Life Ladder                       2199 non-null   float64\n",
      " 3   Log GDP per capita                2179 non-null   float64\n",
      " 4   Social support                    2186 non-null   float64\n",
      " 5   Healthy life expectancy at birth  2145 non-null   float64\n",
      " 6   Freedom to make life choices      2166 non-null   float64\n",
      " 7   Generosity                        2126 non-null   float64\n",
      " 8   Perceptions of corruption         2083 non-null   float64\n",
      " 9   Positive affect                   2175 non-null   float64\n",
      " 10  Negative affect                   2183 non-null   float64\n",
      "dtypes: float64(9), int64(1), object(1)\n",
      "memory usage: 189.1+ KB\n"
     ]
    }
   ],
   "source": [
    "world_happiness_2023.info()"
   ]
  },
  {
   "cell_type": "markdown",
   "id": "efd51555-6ba4-4d5c-aca2-1f178f0f6d8c",
   "metadata": {},
   "source": [
    "### 3.2) Deleting all rows before 2005"
   ]
  },
  {
   "cell_type": "code",
   "execution_count": 347,
   "id": "168040a5-5c8e-48d3-ad34-0d0fdfdfd600",
   "metadata": {},
   "outputs": [],
   "source": [
    "social_exp_2005 = social_exp_eu_usa_aus[(social_exp_eu_usa_aus[\"Year\"]>= 2005) & (social_exp_eu_usa_aus[\"Unit of measure\"] == \"Precentage of general government expenditure\")]\n",
    "gdp_defl_2005 = gdp_1970_defl_simple[gdp_1970_defl_simple[\"Year\"]>= 2005]\n",
    "feel_safe_2005 = feel_safe_df[feel_safe_df[\"Year\"]>= 2005]\n",
    "percivd_health_2005 = percivd_health_pos_df[percivd_health_pos_df[\"Year\"]>= 2005]\n",
    "world_happiness_2005 = world_happiness_2023[world_happiness_2023[\"Year\"]>= 2005]"
   ]
  },
  {
   "cell_type": "code",
   "execution_count": 349,
   "id": "619817fa-c5af-4e15-a90a-aebfe99d9f8c",
   "metadata": {},
   "outputs": [
    {
     "name": "stdout",
     "output_type": "stream",
     "text": [
      "[]\n"
     ]
    }
   ],
   "source": [
    "all_unit_of_measure = social_exp_2005[\"Unit of measure\"].unique()\n",
    "print(all_unit_of_measure)"
   ]
  },
  {
   "cell_type": "code",
   "execution_count": 335,
   "id": "de0f49c4-1c7f-43e4-be7b-bc302d18a5fd",
   "metadata": {},
   "outputs": [
    {
     "data": {
      "text/html": [
       "<div>\n",
       "<style scoped>\n",
       "    .dataframe tbody tr th:only-of-type {\n",
       "        vertical-align: middle;\n",
       "    }\n",
       "\n",
       "    .dataframe tbody tr th {\n",
       "        vertical-align: top;\n",
       "    }\n",
       "\n",
       "    .dataframe thead th {\n",
       "        text-align: right;\n",
       "    }\n",
       "</style>\n",
       "<table border=\"1\" class=\"dataframe\">\n",
       "  <thead>\n",
       "    <tr style=\"text-align: right;\">\n",
       "      <th></th>\n",
       "      <th>Reference area</th>\n",
       "      <th>Measure</th>\n",
       "      <th>Unit of measure</th>\n",
       "      <th>Expenditure source</th>\n",
       "      <th>Spending type</th>\n",
       "      <th>Programme type</th>\n",
       "      <th>Year</th>\n",
       "      <th>OBS_VALUE</th>\n",
       "      <th>OBS_STATUS</th>\n",
       "      <th>Observation status</th>\n",
       "      <th>Unit multiplier</th>\n",
       "    </tr>\n",
       "  </thead>\n",
       "  <tbody>\n",
       "    <tr>\n",
       "      <th>0</th>\n",
       "      <td>Hungary</td>\n",
       "      <td>Social expenditure</td>\n",
       "      <td>Percentage of general government expenditure</td>\n",
       "      <td>Public</td>\n",
       "      <td>Total</td>\n",
       "      <td>Total</td>\n",
       "      <td>2014</td>\n",
       "      <td>42.619</td>\n",
       "      <td>A</td>\n",
       "      <td>Normal value</td>\n",
       "      <td>Units</td>\n",
       "    </tr>\n",
       "    <tr>\n",
       "      <th>1</th>\n",
       "      <td>Hungary</td>\n",
       "      <td>Social expenditure</td>\n",
       "      <td>Percentage of general government expenditure</td>\n",
       "      <td>Public</td>\n",
       "      <td>Total</td>\n",
       "      <td>Total</td>\n",
       "      <td>2015</td>\n",
       "      <td>40.403</td>\n",
       "      <td>A</td>\n",
       "      <td>Normal value</td>\n",
       "      <td>Units</td>\n",
       "    </tr>\n",
       "    <tr>\n",
       "      <th>2</th>\n",
       "      <td>Hungary</td>\n",
       "      <td>Social expenditure</td>\n",
       "      <td>Percentage of general government expenditure</td>\n",
       "      <td>Public</td>\n",
       "      <td>Total</td>\n",
       "      <td>Total</td>\n",
       "      <td>2016</td>\n",
       "      <td>43.110</td>\n",
       "      <td>A</td>\n",
       "      <td>Normal value</td>\n",
       "      <td>Units</td>\n",
       "    </tr>\n",
       "    <tr>\n",
       "      <th>3</th>\n",
       "      <td>Hungary</td>\n",
       "      <td>Social expenditure</td>\n",
       "      <td>Percentage of general government expenditure</td>\n",
       "      <td>Public</td>\n",
       "      <td>Total</td>\n",
       "      <td>Total</td>\n",
       "      <td>2017</td>\n",
       "      <td>41.605</td>\n",
       "      <td>A</td>\n",
       "      <td>Normal value</td>\n",
       "      <td>Units</td>\n",
       "    </tr>\n",
       "    <tr>\n",
       "      <th>4</th>\n",
       "      <td>Hungary</td>\n",
       "      <td>Social expenditure</td>\n",
       "      <td>Percentage of general government expenditure</td>\n",
       "      <td>Public</td>\n",
       "      <td>Total</td>\n",
       "      <td>Total</td>\n",
       "      <td>2018</td>\n",
       "      <td>40.342</td>\n",
       "      <td>A</td>\n",
       "      <td>Normal value</td>\n",
       "      <td>Units</td>\n",
       "    </tr>\n",
       "  </tbody>\n",
       "</table>\n",
       "</div>"
      ],
      "text/plain": [
       "  Reference area             Measure  \\\n",
       "0        Hungary  Social expenditure   \n",
       "1        Hungary  Social expenditure   \n",
       "2        Hungary  Social expenditure   \n",
       "3        Hungary  Social expenditure   \n",
       "4        Hungary  Social expenditure   \n",
       "\n",
       "                                Unit of measure Expenditure source  \\\n",
       "0  Percentage of general government expenditure             Public   \n",
       "1  Percentage of general government expenditure             Public   \n",
       "2  Percentage of general government expenditure             Public   \n",
       "3  Percentage of general government expenditure             Public   \n",
       "4  Percentage of general government expenditure             Public   \n",
       "\n",
       "  Spending type Programme type  Year  OBS_VALUE OBS_STATUS Observation status  \\\n",
       "0         Total          Total  2014     42.619          A       Normal value   \n",
       "1         Total          Total  2015     40.403          A       Normal value   \n",
       "2         Total          Total  2016     43.110          A       Normal value   \n",
       "3         Total          Total  2017     41.605          A       Normal value   \n",
       "4         Total          Total  2018     40.342          A       Normal value   \n",
       "\n",
       "  Unit multiplier  \n",
       "0           Units  \n",
       "1           Units  \n",
       "2           Units  \n",
       "3           Units  \n",
       "4           Units  "
      ]
     },
     "execution_count": 335,
     "metadata": {},
     "output_type": "execute_result"
    }
   ],
   "source": [
    "social_exp_2005.info()"
   ]
  },
  {
   "cell_type": "code",
   "execution_count": 282,
   "id": "7a737ecc-fb9a-4a55-8526-10f40cd74358",
   "metadata": {},
   "outputs": [
    {
     "name": "stdout",
     "output_type": "stream",
     "text": [
      "<class 'pandas.core.frame.DataFrame'>\n",
      "Index: 1171 entries, 0 to 2623\n",
      "Data columns (total 10 columns):\n",
      " #   Column                Non-Null Count  Dtype  \n",
      "---  ------                --------------  -----  \n",
      " 0   Reference area        1171 non-null   object \n",
      " 1   Institutional sector  1171 non-null   object \n",
      " 2   Transaction           1171 non-null   object \n",
      " 3   Unit of measure       1171 non-null   object \n",
      " 4   Price base            1171 non-null   object \n",
      " 5   Year                  1171 non-null   int64  \n",
      " 6   OBS_VALUE             1171 non-null   float64\n",
      " 7   OBS_STATUS            1171 non-null   object \n",
      " 8   Observation status    1171 non-null   object \n",
      " 9   Unit multiplier       1171 non-null   object \n",
      "dtypes: float64(1), int64(1), object(8)\n",
      "memory usage: 100.6+ KB\n"
     ]
    }
   ],
   "source": [
    "gdp_defl_2005.info()"
   ]
  },
  {
   "cell_type": "code",
   "execution_count": 284,
   "id": "c37f1085-aec2-4e04-b860-dc657d0534b2",
   "metadata": {},
   "outputs": [
    {
     "name": "stdout",
     "output_type": "stream",
     "text": [
      "<class 'pandas.core.frame.DataFrame'>\n",
      "Index: 675 entries, 68 to 5324\n",
      "Data columns (total 7 columns):\n",
      " #   Column              Non-Null Count  Dtype  \n",
      "---  ------              --------------  -----  \n",
      " 0   Reference area      675 non-null    object \n",
      " 1   Measure             675 non-null    object \n",
      " 2   Unit of measure     675 non-null    object \n",
      " 3   Year                675 non-null    int64  \n",
      " 4   OBS_VALUE           675 non-null    float64\n",
      " 5   Observation status  675 non-null    object \n",
      " 6   Unit multiplier     675 non-null    object \n",
      "dtypes: float64(1), int64(1), object(5)\n",
      "memory usage: 42.2+ KB\n"
     ]
    }
   ],
   "source": [
    "feel_safe_2005.info()"
   ]
  },
  {
   "cell_type": "code",
   "execution_count": 286,
   "id": "ce0ad537-29d6-4fe4-93c0-43e84d40edd2",
   "metadata": {},
   "outputs": [
    {
     "name": "stdout",
     "output_type": "stream",
     "text": [
      "<class 'pandas.core.frame.DataFrame'>\n",
      "Index: 570 entries, 0 to 5374\n",
      "Data columns (total 7 columns):\n",
      " #   Column              Non-Null Count  Dtype  \n",
      "---  ------              --------------  -----  \n",
      " 0   Reference area      570 non-null    object \n",
      " 1   Measure             570 non-null    object \n",
      " 2   Unit of measure     570 non-null    object \n",
      " 3   Year                570 non-null    int64  \n",
      " 4   OBS_VALUE           570 non-null    float64\n",
      " 5   Observation status  570 non-null    object \n",
      " 6   Unit multiplier     570 non-null    object \n",
      "dtypes: float64(1), int64(1), object(5)\n",
      "memory usage: 35.6+ KB\n"
     ]
    }
   ],
   "source": [
    "percivd_health_2005.info()"
   ]
  },
  {
   "cell_type": "code",
   "execution_count": 288,
   "id": "b04a6414-1ef0-4cea-bc7a-41500aa062be",
   "metadata": {},
   "outputs": [
    {
     "name": "stdout",
     "output_type": "stream",
     "text": [
      "<class 'pandas.core.frame.DataFrame'>\n",
      "RangeIndex: 2199 entries, 0 to 2198\n",
      "Data columns (total 11 columns):\n",
      " #   Column                            Non-Null Count  Dtype  \n",
      "---  ------                            --------------  -----  \n",
      " 0   Country name                      2199 non-null   object \n",
      " 1   Year                              2199 non-null   int64  \n",
      " 2   Life Ladder                       2199 non-null   float64\n",
      " 3   Log GDP per capita                2179 non-null   float64\n",
      " 4   Social support                    2186 non-null   float64\n",
      " 5   Healthy life expectancy at birth  2145 non-null   float64\n",
      " 6   Freedom to make life choices      2166 non-null   float64\n",
      " 7   Generosity                        2126 non-null   float64\n",
      " 8   Perceptions of corruption         2083 non-null   float64\n",
      " 9   Positive affect                   2175 non-null   float64\n",
      " 10  Negative affect                   2183 non-null   float64\n",
      "dtypes: float64(9), int64(1), object(1)\n",
      "memory usage: 189.1+ KB\n"
     ]
    }
   ],
   "source": [
    "world_happiness_2005.info()"
   ]
  },
  {
   "cell_type": "code",
   "execution_count": 290,
   "id": "16e9f861-24ac-4a67-b422-99c50fc3c4d7",
   "metadata": {},
   "outputs": [
    {
     "data": {
      "text/html": [
       "<div>\n",
       "<style scoped>\n",
       "    .dataframe tbody tr th:only-of-type {\n",
       "        vertical-align: middle;\n",
       "    }\n",
       "\n",
       "    .dataframe tbody tr th {\n",
       "        vertical-align: top;\n",
       "    }\n",
       "\n",
       "    .dataframe thead th {\n",
       "        text-align: right;\n",
       "    }\n",
       "</style>\n",
       "<table border=\"1\" class=\"dataframe\">\n",
       "  <thead>\n",
       "    <tr style=\"text-align: right;\">\n",
       "      <th></th>\n",
       "      <th>Year</th>\n",
       "      <th>Life Ladder</th>\n",
       "      <th>Log GDP per capita</th>\n",
       "      <th>Social support</th>\n",
       "      <th>Healthy life expectancy at birth</th>\n",
       "      <th>Freedom to make life choices</th>\n",
       "      <th>Generosity</th>\n",
       "      <th>Perceptions of corruption</th>\n",
       "      <th>Positive affect</th>\n",
       "      <th>Negative affect</th>\n",
       "    </tr>\n",
       "  </thead>\n",
       "  <tbody>\n",
       "    <tr>\n",
       "      <th>count</th>\n",
       "      <td>2199.000000</td>\n",
       "      <td>2199.000000</td>\n",
       "      <td>2179.000000</td>\n",
       "      <td>2186.000000</td>\n",
       "      <td>2145.000000</td>\n",
       "      <td>2166.000000</td>\n",
       "      <td>2126.000000</td>\n",
       "      <td>2083.000000</td>\n",
       "      <td>2175.000000</td>\n",
       "      <td>2183.000000</td>\n",
       "    </tr>\n",
       "    <tr>\n",
       "      <th>mean</th>\n",
       "      <td>2014.161437</td>\n",
       "      <td>5.479226</td>\n",
       "      <td>9.389766</td>\n",
       "      <td>0.810679</td>\n",
       "      <td>63.294583</td>\n",
       "      <td>0.747858</td>\n",
       "      <td>0.000096</td>\n",
       "      <td>0.745195</td>\n",
       "      <td>0.652143</td>\n",
       "      <td>0.271501</td>\n",
       "    </tr>\n",
       "    <tr>\n",
       "      <th>std</th>\n",
       "      <td>4.718736</td>\n",
       "      <td>1.125529</td>\n",
       "      <td>1.153387</td>\n",
       "      <td>0.120952</td>\n",
       "      <td>6.901104</td>\n",
       "      <td>0.140150</td>\n",
       "      <td>0.161083</td>\n",
       "      <td>0.185837</td>\n",
       "      <td>0.105922</td>\n",
       "      <td>0.086875</td>\n",
       "    </tr>\n",
       "    <tr>\n",
       "      <th>min</th>\n",
       "      <td>2005.000000</td>\n",
       "      <td>1.281271</td>\n",
       "      <td>5.526723</td>\n",
       "      <td>0.228217</td>\n",
       "      <td>6.720000</td>\n",
       "      <td>0.257534</td>\n",
       "      <td>-0.337527</td>\n",
       "      <td>0.035198</td>\n",
       "      <td>0.178886</td>\n",
       "      <td>0.082737</td>\n",
       "    </tr>\n",
       "    <tr>\n",
       "      <th>25%</th>\n",
       "      <td>2010.000000</td>\n",
       "      <td>4.646750</td>\n",
       "      <td>8.499764</td>\n",
       "      <td>0.746609</td>\n",
       "      <td>59.119999</td>\n",
       "      <td>0.656528</td>\n",
       "      <td>-0.112116</td>\n",
       "      <td>0.688139</td>\n",
       "      <td>0.571684</td>\n",
       "      <td>0.207660</td>\n",
       "    </tr>\n",
       "    <tr>\n",
       "      <th>50%</th>\n",
       "      <td>2014.000000</td>\n",
       "      <td>5.432437</td>\n",
       "      <td>9.498955</td>\n",
       "      <td>0.835535</td>\n",
       "      <td>65.050003</td>\n",
       "      <td>0.769821</td>\n",
       "      <td>-0.022671</td>\n",
       "      <td>0.799654</td>\n",
       "      <td>0.663063</td>\n",
       "      <td>0.260671</td>\n",
       "    </tr>\n",
       "    <tr>\n",
       "      <th>75%</th>\n",
       "      <td>2018.000000</td>\n",
       "      <td>6.309460</td>\n",
       "      <td>10.373216</td>\n",
       "      <td>0.904792</td>\n",
       "      <td>68.500000</td>\n",
       "      <td>0.859382</td>\n",
       "      <td>0.092070</td>\n",
       "      <td>0.868827</td>\n",
       "      <td>0.737936</td>\n",
       "      <td>0.322894</td>\n",
       "    </tr>\n",
       "    <tr>\n",
       "      <th>max</th>\n",
       "      <td>2022.000000</td>\n",
       "      <td>8.018934</td>\n",
       "      <td>11.663788</td>\n",
       "      <td>0.987343</td>\n",
       "      <td>74.474998</td>\n",
       "      <td>0.985178</td>\n",
       "      <td>0.702708</td>\n",
       "      <td>0.983276</td>\n",
       "      <td>0.883586</td>\n",
       "      <td>0.704590</td>\n",
       "    </tr>\n",
       "  </tbody>\n",
       "</table>\n",
       "</div>"
      ],
      "text/plain": [
       "              Year  Life Ladder  Log GDP per capita  Social support  \\\n",
       "count  2199.000000  2199.000000         2179.000000     2186.000000   \n",
       "mean   2014.161437     5.479226            9.389766        0.810679   \n",
       "std       4.718736     1.125529            1.153387        0.120952   \n",
       "min    2005.000000     1.281271            5.526723        0.228217   \n",
       "25%    2010.000000     4.646750            8.499764        0.746609   \n",
       "50%    2014.000000     5.432437            9.498955        0.835535   \n",
       "75%    2018.000000     6.309460           10.373216        0.904792   \n",
       "max    2022.000000     8.018934           11.663788        0.987343   \n",
       "\n",
       "       Healthy life expectancy at birth  Freedom to make life choices  \\\n",
       "count                       2145.000000                   2166.000000   \n",
       "mean                          63.294583                      0.747858   \n",
       "std                            6.901104                      0.140150   \n",
       "min                            6.720000                      0.257534   \n",
       "25%                           59.119999                      0.656528   \n",
       "50%                           65.050003                      0.769821   \n",
       "75%                           68.500000                      0.859382   \n",
       "max                           74.474998                      0.985178   \n",
       "\n",
       "        Generosity  Perceptions of corruption  Positive affect  \\\n",
       "count  2126.000000                2083.000000      2175.000000   \n",
       "mean      0.000096                   0.745195         0.652143   \n",
       "std       0.161083                   0.185837         0.105922   \n",
       "min      -0.337527                   0.035198         0.178886   \n",
       "25%      -0.112116                   0.688139         0.571684   \n",
       "50%      -0.022671                   0.799654         0.663063   \n",
       "75%       0.092070                   0.868827         0.737936   \n",
       "max       0.702708                   0.983276         0.883586   \n",
       "\n",
       "       Negative affect  \n",
       "count      2183.000000  \n",
       "mean          0.271501  \n",
       "std           0.086875  \n",
       "min           0.082737  \n",
       "25%           0.207660  \n",
       "50%           0.260671  \n",
       "75%           0.322894  \n",
       "max           0.704590  "
      ]
     },
     "execution_count": 290,
     "metadata": {},
     "output_type": "execute_result"
    }
   ],
   "source": [
    "world_happiness_2005.describe()"
   ]
  },
  {
   "cell_type": "code",
   "execution_count": 292,
   "id": "1b24b565-a3f6-477a-8c9e-c0199ef5a344",
   "metadata": {},
   "outputs": [
    {
     "data": {
      "text/html": [
       "<div>\n",
       "<style scoped>\n",
       "    .dataframe tbody tr th:only-of-type {\n",
       "        vertical-align: middle;\n",
       "    }\n",
       "\n",
       "    .dataframe tbody tr th {\n",
       "        vertical-align: top;\n",
       "    }\n",
       "\n",
       "    .dataframe thead th {\n",
       "        text-align: right;\n",
       "    }\n",
       "</style>\n",
       "<table border=\"1\" class=\"dataframe\">\n",
       "  <thead>\n",
       "    <tr style=\"text-align: right;\">\n",
       "      <th></th>\n",
       "      <th>Country name</th>\n",
       "      <th>Year</th>\n",
       "      <th>Life Ladder</th>\n",
       "      <th>Log GDP per capita</th>\n",
       "      <th>Social support</th>\n",
       "      <th>Healthy life expectancy at birth</th>\n",
       "      <th>Freedom to make life choices</th>\n",
       "      <th>Generosity</th>\n",
       "      <th>Perceptions of corruption</th>\n",
       "      <th>Positive affect</th>\n",
       "      <th>Negative affect</th>\n",
       "    </tr>\n",
       "  </thead>\n",
       "  <tbody>\n",
       "    <tr>\n",
       "      <th>0</th>\n",
       "      <td>Afghanistan</td>\n",
       "      <td>2008</td>\n",
       "      <td>3.723590</td>\n",
       "      <td>7.350416</td>\n",
       "      <td>0.450662</td>\n",
       "      <td>50.500000</td>\n",
       "      <td>0.718114</td>\n",
       "      <td>0.167652</td>\n",
       "      <td>0.881686</td>\n",
       "      <td>0.414297</td>\n",
       "      <td>0.258195</td>\n",
       "    </tr>\n",
       "    <tr>\n",
       "      <th>1</th>\n",
       "      <td>Afghanistan</td>\n",
       "      <td>2009</td>\n",
       "      <td>4.401778</td>\n",
       "      <td>7.508646</td>\n",
       "      <td>0.552308</td>\n",
       "      <td>50.799999</td>\n",
       "      <td>0.678896</td>\n",
       "      <td>0.190809</td>\n",
       "      <td>0.850035</td>\n",
       "      <td>0.481421</td>\n",
       "      <td>0.237092</td>\n",
       "    </tr>\n",
       "    <tr>\n",
       "      <th>2</th>\n",
       "      <td>Afghanistan</td>\n",
       "      <td>2010</td>\n",
       "      <td>4.758381</td>\n",
       "      <td>7.613900</td>\n",
       "      <td>0.539075</td>\n",
       "      <td>51.099998</td>\n",
       "      <td>0.600127</td>\n",
       "      <td>0.121316</td>\n",
       "      <td>0.706766</td>\n",
       "      <td>0.516907</td>\n",
       "      <td>0.275324</td>\n",
       "    </tr>\n",
       "    <tr>\n",
       "      <th>3</th>\n",
       "      <td>Afghanistan</td>\n",
       "      <td>2011</td>\n",
       "      <td>3.831719</td>\n",
       "      <td>7.581259</td>\n",
       "      <td>0.521104</td>\n",
       "      <td>51.400002</td>\n",
       "      <td>0.495901</td>\n",
       "      <td>0.163571</td>\n",
       "      <td>0.731109</td>\n",
       "      <td>0.479835</td>\n",
       "      <td>0.267175</td>\n",
       "    </tr>\n",
       "    <tr>\n",
       "      <th>4</th>\n",
       "      <td>Afghanistan</td>\n",
       "      <td>2012</td>\n",
       "      <td>3.782938</td>\n",
       "      <td>7.660506</td>\n",
       "      <td>0.520637</td>\n",
       "      <td>51.700001</td>\n",
       "      <td>0.530935</td>\n",
       "      <td>0.237588</td>\n",
       "      <td>0.775620</td>\n",
       "      <td>0.613513</td>\n",
       "      <td>0.267919</td>\n",
       "    </tr>\n",
       "  </tbody>\n",
       "</table>\n",
       "</div>"
      ],
      "text/plain": [
       "  Country name  Year  Life Ladder  Log GDP per capita  Social support  \\\n",
       "0  Afghanistan  2008     3.723590            7.350416        0.450662   \n",
       "1  Afghanistan  2009     4.401778            7.508646        0.552308   \n",
       "2  Afghanistan  2010     4.758381            7.613900        0.539075   \n",
       "3  Afghanistan  2011     3.831719            7.581259        0.521104   \n",
       "4  Afghanistan  2012     3.782938            7.660506        0.520637   \n",
       "\n",
       "   Healthy life expectancy at birth  Freedom to make life choices  Generosity  \\\n",
       "0                         50.500000                      0.718114    0.167652   \n",
       "1                         50.799999                      0.678896    0.190809   \n",
       "2                         51.099998                      0.600127    0.121316   \n",
       "3                         51.400002                      0.495901    0.163571   \n",
       "4                         51.700001                      0.530935    0.237588   \n",
       "\n",
       "   Perceptions of corruption  Positive affect  Negative affect  \n",
       "0                   0.881686         0.414297         0.258195  \n",
       "1                   0.850035         0.481421         0.237092  \n",
       "2                   0.706766         0.516907         0.275324  \n",
       "3                   0.731109         0.479835         0.267175  \n",
       "4                   0.775620         0.613513         0.267919  "
      ]
     },
     "execution_count": 292,
     "metadata": {},
     "output_type": "execute_result"
    }
   ],
   "source": [
    "world_happiness_2005.head()"
   ]
  },
  {
   "cell_type": "markdown",
   "id": "19cfd743-02ee-4692-92bf-f8df83049fb9",
   "metadata": {},
   "source": [
    "### 3.3) Checking for Observation status and deleting all non-normal status"
   ]
  },
  {
   "cell_type": "markdown",
   "id": "43636dc6-c15a-4425-9ede-ac832d23f987",
   "metadata": {},
   "source": [
    "#### 3.3.1) Social expenditure"
   ]
  },
  {
   "cell_type": "code",
   "execution_count": 310,
   "id": "aef8b965-0447-4ec7-a013-24378c353914",
   "metadata": {},
   "outputs": [
    {
     "name": "stdout",
     "output_type": "stream",
     "text": [
      "['Normal value']\n"
     ]
    }
   ],
   "source": [
    "obs_stat_social = social_exp_2005[\"Observation status\"].unique()\n",
    "print(obs_stat_social)"
   ]
  },
  {
   "cell_type": "markdown",
   "id": "c3c0c9a7-7631-4313-8056-b4f5ed1533e8",
   "metadata": {},
   "source": [
    "#### 3.3.2) GDP"
   ]
  },
  {
   "cell_type": "code",
   "execution_count": 333,
   "id": "e1f1d857-e31f-49a0-869c-208aeb72608a",
   "metadata": {},
   "outputs": [
    {
     "name": "stdout",
     "output_type": "stream",
     "text": [
      "['Normal value' 'Provisional value' 'Estimated value' 'Definition differs'\n",
      " 'Time series break']\n",
      "Counts of each unique value:\n",
      " Observation status\n",
      "Normal value          1087\n",
      "Estimated value         44\n",
      "Provisional value       37\n",
      "Definition differs       2\n",
      "Time series break        1\n",
      "Name: count, dtype: int64\n"
     ]
    }
   ],
   "source": [
    "obs2 = gdp_defl_2005[\"Observation status\"].unique()\n",
    "print(obs2)\n",
    "\n",
    "obs2_counts = gdp_defl_2005[\"Observation status\"].value_counts()\n",
    "print(\"Counts of each unique value:\\n\", obs2_counts)"
   ]
  },
  {
   "cell_type": "markdown",
   "id": "469a0e0f-6e59-4223-b8f2-8233ce0e9071",
   "metadata": {},
   "source": [
    "#### 3.3.3) Feel safe"
   ]
  },
  {
   "cell_type": "code",
   "execution_count": 314,
   "id": "b776f848-1f19-4d8d-bc71-927979a1826e",
   "metadata": {},
   "outputs": [
    {
     "name": "stdout",
     "output_type": "stream",
     "text": [
      "['Normal value']\n"
     ]
    }
   ],
   "source": [
    "obs3 = feel_safe_2005[\"Observation status\"].unique()\n",
    "print(obs3)"
   ]
  },
  {
   "cell_type": "markdown",
   "id": "12c465aa-aeb7-4f55-a334-6e868ee277cc",
   "metadata": {},
   "source": [
    "#### 3.3.4) Perceived health"
   ]
  },
  {
   "cell_type": "code",
   "execution_count": 316,
   "id": "816f1314-47e7-42be-992d-729be144bc21",
   "metadata": {},
   "outputs": [
    {
     "name": "stdout",
     "output_type": "stream",
     "text": [
      "['Normal value' 'Definition differs' 'Time series break']\n"
     ]
    }
   ],
   "source": [
    "obs4 = percivd_health_2005[\"Observation status\"].unique()\n",
    "print(obs4)"
   ]
  },
  {
   "cell_type": "markdown",
   "id": "ef3dfb88-0e18-4b46-9e4c-c8991bf2bb29",
   "metadata": {},
   "source": [
    "### 3.4) Removing null and na values "
   ]
  },
  {
   "cell_type": "markdown",
   "id": "26981153-58ba-4cd3-9351-cad093031fdd",
   "metadata": {},
   "source": [
    "#### 3.4.1) Social expenditure"
   ]
  },
  {
   "cell_type": "markdown",
   "id": "68a18f78-b74c-4c03-80f2-39e389923e1c",
   "metadata": {
    "jp-MarkdownHeadingCollapsed": true
   },
   "source": [
    "#### 3.4.2) GDP"
   ]
  },
  {
   "cell_type": "markdown",
   "id": "6b8d8393-c940-499b-8c20-df3cf6f16e53",
   "metadata": {},
   "source": [
    "#### 3.4.3) Feel safe"
   ]
  },
  {
   "cell_type": "markdown",
   "id": "94bff384-da5d-4796-aebf-78c20d020912",
   "metadata": {},
   "source": [
    "#### 3.4.4) Perceived health"
   ]
  },
  {
   "cell_type": "markdown",
   "id": "c9109a1c-844c-434d-aa4d-1690b2acff38",
   "metadata": {},
   "source": [
    "#### 3.5.4) World happiness"
   ]
  },
  {
   "cell_type": "code",
   "execution_count": 318,
   "id": "497db5f3-3ad1-4680-b427-337130ccfec7",
   "metadata": {},
   "outputs": [
    {
     "data": {
      "text/plain": [
       "Country name                          0\n",
       "Year                                  0\n",
       "Life Ladder                           0\n",
       "Log GDP per capita                   20\n",
       "Social support                       13\n",
       "Healthy life expectancy at birth     54\n",
       "Freedom to make life choices         33\n",
       "Generosity                           73\n",
       "Perceptions of corruption           116\n",
       "Positive affect                      24\n",
       "Negative affect                      16\n",
       "dtype: int64"
      ]
     },
     "execution_count": 318,
     "metadata": {},
     "output_type": "execute_result"
    }
   ],
   "source": [
    "world_happiness_2005.isna().sum()"
   ]
  },
  {
   "cell_type": "code",
   "execution_count": null,
   "id": "6867672b-d6ba-4049-8d3f-fe6228d94853",
   "metadata": {},
   "outputs": [],
   "source": [
    "df.drop('col2', axis=1, inplace=True)"
   ]
  },
  {
   "cell_type": "code",
   "execution_count": null,
   "id": "ef5bb5bb-9868-4807-9443-52d9ec61031f",
   "metadata": {},
   "outputs": [],
   "source": []
  }
 ],
 "metadata": {
  "kernelspec": {
   "display_name": "Python 3 (ipykernel)",
   "language": "python",
   "name": "python3"
  },
  "language_info": {
   "codemirror_mode": {
    "name": "ipython",
    "version": 3
   },
   "file_extension": ".py",
   "mimetype": "text/x-python",
   "name": "python",
   "nbconvert_exporter": "python",
   "pygments_lexer": "ipython3",
   "version": "3.12.4"
  }
 },
 "nbformat": 4,
 "nbformat_minor": 5
}
